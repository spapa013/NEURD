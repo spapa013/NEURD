{
 "cells": [
  {
   "cell_type": "code",
   "execution_count": 1,
   "id": "dab7d147",
   "metadata": {},
   "outputs": [
    {
     "data": {
      "text/plain": [
       "'\\nPurpose: To demonstrate how to access the computed features of a neuron\\nat different resolutions\\n'"
      ]
     },
     "execution_count": 1,
     "metadata": {},
     "output_type": "execute_result"
    }
   ],
   "source": [
    "\"\"\"\n",
    "Purpose: To demonstrate how to access the computed features of a neuron\n",
    "at different resolutions\n",
    "\"\"\""
   ]
  },
  {
   "cell_type": "code",
   "execution_count": 2,
   "id": "a55c57a8",
   "metadata": {},
   "outputs": [],
   "source": [
    "%load_ext autoreload \n",
    "%autoreload 2"
   ]
  },
  {
   "cell_type": "code",
   "execution_count": 3,
   "id": "562bd9e4",
   "metadata": {},
   "outputs": [
    {
     "name": "stdout",
     "output_type": "stream",
     "text": [
      "Jupyter environment detected. Enabling Open3D WebVisualizer.\n",
      "[Open3D INFO] WebRTC GUI backend enabled.\n",
      "[Open3D INFO] WebRTCWindowSystem: HTTP handshake server disabled.\n"
     ]
    }
   ],
   "source": [
    "import neurd"
   ]
  },
  {
   "cell_type": "markdown",
   "id": "28f3af4f",
   "metadata": {},
   "source": [
    "# Loading a neuron object"
   ]
  },
  {
   "cell_type": "code",
   "execution_count": 4,
   "id": "762f876e",
   "metadata": {},
   "outputs": [],
   "source": [
    "from neurd import neuron_utils as nru"
   ]
  },
  {
   "cell_type": "code",
   "execution_count": 5,
   "id": "f6a977cc",
   "metadata": {},
   "outputs": [
    {
     "name": "stdout",
     "output_type": "stream",
     "text": [
      "Decompressing Neuron in minimal output mode...please wait\n",
      "Decompressing Neuron in minimal output mode...please wait\n"
     ]
    }
   ],
   "source": [
    "mesh_path = \"../Auto_Proof_Pipeline/Double_Soma/864691135510518224.off\"\n",
    "obj_autoproof_path = \"../Auto_Proof_Pipeline/Double_Soma/864691135510518224_auto_proof.pbz2\"\n",
    "obj_path = \"../Auto_Proof_Pipeline/Double_Soma/864691135510518224.pbz2\"\n",
    "\n",
    "n_obj = nru.decompress_neuron(\n",
    "    filepath=obj_path,\n",
    "    original_mesh=mesh_path\n",
    ")\n",
    "\n",
    "n_obj_proof = nru.decompress_neuron(\n",
    "    filepath=obj_autoproof_path,\n",
    "    original_mesh=mesh_path\n",
    ")"
   ]
  },
  {
   "cell_type": "code",
   "execution_count": null,
   "id": "c9a5b93c-9fff-493a-ba42-f4fdfafbbace",
   "metadata": {},
   "outputs": [],
   "source": [
    "from datasci_tools import ipyvolume_utils as ipvu\n",
    "ipvu.plot_objects(n_obj.mesh)"
   ]
  },
  {
   "cell_type": "markdown",
   "id": "76321caa-f20f-4f78-90e2-9e9d7869fef7",
   "metadata": {},
   "source": [
    "# Feature Background Information"
   ]
  },
  {
   "cell_type": "code",
   "execution_count": null,
   "id": "806d1798-096c-44e7-af0e-182e8fc69b31",
   "metadata": {},
   "outputs": [],
   "source": [
    "\"\"\"\n",
    "Features can be accesed using the following access points\n",
    "\n",
    "a) neuron/limb/branch attributes:\n",
    "attributes/properties of the objects\n",
    "\n",
    "b) pipeline products: the datastructure attached to the \n",
    "neuron object as an attribute that stores computed\n",
    "features or meta data from different stages of the processing pipeline\n",
    "\n",
    "- Note: all data stored in pipeline products can be accessed\n",
    "like an attribute/property of the neuron object (enabled\n",
    "by overriding the __getattr__ class function\n",
    "\n",
    "c) neuron lite attribute: When the simplified networkx structure\n",
    "of the neuron is generated, some features are computed or\n",
    "easier to acces\n",
    "\n",
    "d) dynamic attributes: an external function provided by utility\n",
    "modules in NEURD or a function needed to be implemented by the user\n",
    "is needed to generate a certain feature (although all the raw\n",
    "inputs are avaible in the neuron object)\n",
    "\n",
    "\"\"\""
   ]
  },
  {
   "cell_type": "markdown",
   "id": "8e32da51-f1db-4b92-99a4-588f68b48909",
   "metadata": {},
   "source": [
    "# Definitions"
   ]
  },
  {
   "cell_type": "code",
   "execution_count": null,
   "id": "84cfa835-510e-47c5-aa65-ad86f0dea9c4",
   "metadata": {},
   "outputs": [],
   "source": [
    "\"\"\"\n",
    "limb_branch_dict\n",
    "----------------\n",
    "a dictionary object where the\n",
    "keys are the limb name (Ex: L1 for the 2nd limb) and \n",
    "the values are the branch names\n",
    "\n",
    " {'L0': array([0, 1, 2, 3, 4, 5, 6, 7, 8, 9]),\n",
    " 'L1': array([ 0,  1,  2,  3,  4,  5,  6,  7,  8,  9, 10, 11, 12, 13, 14, 15, 16,\n",
    "        17, 18, 19, 20, 21, 22, 23, 24, 25, 26]),\n",
    " 'L4': array([0, 1, 2, 3, 4, 5, 6]),\n",
    " 'L5': array([0]),\n",
    " 'L6': array([0]),\n",
    " 'L2': array([0, 1, 2]),\n",
    " 'L3': array([0, 1, 2, 3, 4]),\n",
    " 'L7': array([0, 1, 2])}\n",
    "\n",
    "\n",
    "\n",
    "\n",
    "\"\"\""
   ]
  },
  {
   "cell_type": "code",
   "execution_count": null,
   "id": "6ab22b5a-747f-48f7-9be8-ee5590423d31",
   "metadata": {},
   "outputs": [],
   "source": [
    "n_obj.limb_branch_dict"
   ]
  },
  {
   "cell_type": "markdown",
   "id": "722d1b86-3c3f-4b84-bafa-c8cfaa297c83",
   "metadata": {},
   "source": [
    "## Example of how to access pipeline products"
   ]
  },
  {
   "cell_type": "code",
   "execution_count": null,
   "id": "fdfb4ee8-7eca-447a-a3fe-e2dd395dc239",
   "metadata": {},
   "outputs": [],
   "source": [
    "data = n_obj.pipeline_products\n",
    "for k in data.stages:\n",
    "    print(k)"
   ]
  },
  {
   "cell_type": "code",
   "execution_count": null,
   "id": "841f4d6f-9060-40d5-9040-391d192feced",
   "metadata": {},
   "outputs": [],
   "source": [
    "stage_data = data['soma_identification']\n",
    "print(stage_data)"
   ]
  },
  {
   "cell_type": "code",
   "execution_count": null,
   "id": "9e053950-3ae9-4d3a-ab89-71181e2f601e",
   "metadata": {},
   "outputs": [],
   "source": [
    "data = n_obj_proof.pipeline_products\n",
    "for k in data.stages:\n",
    "    print(k)"
   ]
  },
  {
   "cell_type": "markdown",
   "id": "ac3b516f-3c4a-4440-91a7-1ac2ba27ac24",
   "metadata": {},
   "source": [
    "# 2. Soma Identification"
   ]
  },
  {
   "cell_type": "markdown",
   "id": "773031a7-a599-41b8-8a3c-8e33ab7604c0",
   "metadata": {},
   "source": [
    "## b) pipeline products"
   ]
  },
  {
   "cell_type": "code",
   "execution_count": null,
   "id": "4e6c9b8c-e427-4b50-a87e-50820fa69277",
   "metadata": {},
   "outputs": [],
   "source": [
    "stage_products = n_obj.pipeline_products['soma_identification']\n",
    "stage_products"
   ]
  },
  {
   "cell_type": "code",
   "execution_count": null,
   "id": "2ea3fa5f-238f-44aa-9c4e-7a51457cd6a6",
   "metadata": {},
   "outputs": [],
   "source": [
    "nuclei_meshes = stage_products['nuclei_meshes']\n",
    "nuclei_meshes"
   ]
  },
  {
   "cell_type": "code",
   "execution_count": null,
   "id": "9f09baae-7012-4323-b54c-a41898836d45",
   "metadata": {},
   "outputs": [],
   "source": [
    "ipvu.plot_objects(\n",
    "    n_obj.mesh,\n",
    "    meshes = nuclei_meshes,\n",
    "    meshes_colors=\"red\"\n",
    ")"
   ]
  },
  {
   "cell_type": "code",
   "execution_count": null,
   "id": "3b60230d-d87b-4e41-aa05-95ca48940048",
   "metadata": {},
   "outputs": [],
   "source": [
    "stage_products['glia_meshes']"
   ]
  },
  {
   "cell_type": "code",
   "execution_count": null,
   "id": "4a2a8a29-3aa0-48a3-854a-3e53f123c97c",
   "metadata": {},
   "outputs": [],
   "source": [
    "soma_meshes = stage_products[\"soma_meshes\"]"
   ]
  },
  {
   "cell_type": "code",
   "execution_count": null,
   "id": "16cd40e2-8dcb-4dba-83e2-75513f3eb3d0",
   "metadata": {},
   "outputs": [],
   "source": [
    "ipvu.plot_objects(\n",
    "    n_obj.mesh,\n",
    "    meshes = soma_meshes,\n",
    "    meshes_colors=\"red\"\n",
    ")"
   ]
  },
  {
   "cell_type": "markdown",
   "id": "cd2ab838-92ea-4623-b3d1-dc0c5638b4e5",
   "metadata": {},
   "source": [
    "## a) Attributes (including faster way to access pipeline products)"
   ]
  },
  {
   "cell_type": "code",
   "execution_count": null,
   "id": "b8a348d3-be11-4b65-835e-2bb0cbf9e85c",
   "metadata": {},
   "outputs": [],
   "source": [
    "n_obj.glia_meshes"
   ]
  },
  {
   "cell_type": "code",
   "execution_count": null,
   "id": "4961d32a-d457-4b31-8a63-5e879cc7cbce",
   "metadata": {},
   "outputs": [],
   "source": [
    "n_obj.nuclei_meshes"
   ]
  },
  {
   "cell_type": "code",
   "execution_count": null,
   "id": "b7ec6127-920f-4365-ae37-f0ec10838a28",
   "metadata": {},
   "outputs": [],
   "source": [
    "n_obj.soma_meshes"
   ]
  },
  {
   "cell_type": "markdown",
   "id": "92869707-3cc5-43ea-b266-af073d83cd45",
   "metadata": {},
   "source": [
    "# 3. Decomposition"
   ]
  },
  {
   "cell_type": "markdown",
   "id": "fdf35c6a-d042-4165-ac64-5da35158939f",
   "metadata": {},
   "source": [
    "### a) attributes"
   ]
  },
  {
   "cell_type": "code",
   "execution_count": null,
   "id": "b998a380-ee3b-460f-90c1-e0e74212b29f",
   "metadata": {},
   "outputs": [],
   "source": [
    "n_obj.mesh_volume\n",
    "n_obj.insignificant_limbs"
   ]
  },
  {
   "cell_type": "code",
   "execution_count": null,
   "id": "ef825064-2f51-4f7d-a7df-249dba094d87",
   "metadata": {},
   "outputs": [],
   "source": [
    "n_obj[\"S0\"].volume"
   ]
  },
  {
   "cell_type": "markdown",
   "id": "e84b7484-3977-4889-b55d-587e830dcc16",
   "metadata": {},
   "source": [
    "#### b_i) neuron attributes"
   ]
  },
  {
   "cell_type": "code",
   "execution_count": 32,
   "id": "15d42e46-a14a-4bd1-8458-dfa5e89561e6",
   "metadata": {},
   "outputs": [
    {
     "data": {
      "text/plain": [
       "261.67118520971894"
      ]
     },
     "execution_count": 32,
     "metadata": {},
     "output_type": "execute_result"
    }
   ],
   "source": [
    "b_obj.width_upstream"
   ]
  },
  {
   "cell_type": "code",
   "execution_count": 34,
   "id": "fe8bcb53-12de-4639-bb1d-170b204d8478",
   "metadata": {},
   "outputs": [
    {
     "data": {
      "text/plain": [
       "225.82542784586113"
      ]
     },
     "execution_count": 34,
     "metadata": {},
     "output_type": "execute_result"
    }
   ],
   "source": [
    "b_obj.width_downstream"
   ]
  },
  {
   "cell_type": "code",
   "execution_count": 35,
   "id": "68101b72-a8e7-45fe-8abb-bba585bdb561",
   "metadata": {},
   "outputs": [
    {
     "data": {
      "text/plain": [
       "{'median_mesh_center': array([ 168.08980653,  143.54591393,  365.84056308,  446.17350817,\n",
       "         307.45635442,  298.01414004,  609.12650971,  264.22417809,\n",
       "         311.54745434,  806.56654256,  279.74782782,  207.74272321,\n",
       "         289.06796589,  433.48944623,  224.09398515,  149.08288494,\n",
       "         633.75783953,  894.01731316,  554.81092852,  313.41539931,\n",
       "         529.53397443,  304.24043358,  259.12511027,  255.82845997,\n",
       "         697.59813783,  342.21645155, 1117.00492407,  288.14186463,\n",
       "         240.11649251,  265.66145724,  538.80189038,  216.96675491,\n",
       "         235.00469058,  207.13156061,  404.61076232,  224.28476716,\n",
       "         308.96045877,  497.60413954,  517.28808472,  682.02117787,\n",
       "         308.20840659,  308.20840659,  308.20840659,  308.20840659]),\n",
       " 'no_spine_median_mesh_center': array([168.08980653, 143.54591393, 365.84056308, 264.32910905,\n",
       "        307.45635442, 298.01414004, 178.86884485, 264.22417809,\n",
       "        291.53093315, 499.53100129, 279.74782782, 207.74272321,\n",
       "        335.30565843, 312.06371782, 224.09398515, 149.08288494,\n",
       "        497.62467945, 298.37112138, 554.81092852, 313.41539931,\n",
       "        350.11111272, 304.24043358, 259.12511027, 255.82845997,\n",
       "        212.60430777, 220.36731276, 907.08333268, 288.14186463,\n",
       "        240.11649251, 264.21726015, 237.73408211, 216.96675491,\n",
       "        235.00469058, 207.13156061, 250.53629901, 224.28476716,\n",
       "        308.96045877, 226.45341943, 239.84727248, 220.87604953,\n",
       "        261.67118521, 261.67118521, 261.67118521, 261.67118521])}"
      ]
     },
     "execution_count": 35,
     "metadata": {},
     "output_type": "execute_result"
    }
   ],
   "source": [
    "b_obj.width_array"
   ]
  },
  {
   "cell_type": "code",
   "execution_count": 38,
   "id": "b8f18a64-4f33-45b1-aff4-56ec7fd4666c",
   "metadata": {},
   "outputs": [
    {
     "data": {
      "text/plain": [
       "225.82542784666668"
      ]
     },
     "execution_count": 38,
     "metadata": {},
     "output_type": "execute_result"
    }
   ],
   "source": [
    "import numpy as np\n",
    "np.mean([143.54591393, 365.84056308,168.08980653])"
   ]
  },
  {
   "cell_type": "code",
   "execution_count": 31,
   "id": "98d387d5-f75b-477e-9bfc-27cd53955a62",
   "metadata": {},
   "outputs": [
    {
     "data": {
      "text/plain": [
       "['__class__',\n",
       " '__delattr__',\n",
       " '__dict__',\n",
       " '__dir__',\n",
       " '__doc__',\n",
       " '__eq__',\n",
       " '__format__',\n",
       " '__ge__',\n",
       " '__getattribute__',\n",
       " '__gt__',\n",
       " '__hash__',\n",
       " '__init__',\n",
       " '__init_subclass__',\n",
       " '__le__',\n",
       " '__lt__',\n",
       " '__module__',\n",
       " '__ne__',\n",
       " '__new__',\n",
       " '__reduce__',\n",
       " '__reduce_ex__',\n",
       " '__repr__',\n",
       " '__setattr__',\n",
       " '__sizeof__',\n",
       " '__str__',\n",
       " '__subclasshook__',\n",
       " '__weakref__',\n",
       " '_endpoints_nodes',\n",
       " '_mesh_volume',\n",
       " '_skeleton_graph',\n",
       " '_skeleton_vector_downstream',\n",
       " '_skeleton_vector_upstream',\n",
       " '_width_downstream',\n",
       " '_width_upstream',\n",
       " 'area',\n",
       " 'axon_compartment',\n",
       " 'boutons',\n",
       " 'boutons_cdfs',\n",
       " 'boutons_volume',\n",
       " 'calculate_endpoints',\n",
       " 'compartment',\n",
       " 'compute_boutons_volume',\n",
       " 'compute_spines_volume',\n",
       " 'endpoint_downstream',\n",
       " 'endpoint_downstream_with_offset',\n",
       " 'endpoint_downstream_x',\n",
       " 'endpoint_downstream_y',\n",
       " 'endpoint_downstream_z',\n",
       " 'endpoint_upstream',\n",
       " 'endpoint_upstream_with_offset',\n",
       " 'endpoint_upstream_x',\n",
       " 'endpoint_upstream_y',\n",
       " 'endpoint_upstream_z',\n",
       " 'endpoints',\n",
       " 'endpoints_nodes',\n",
       " 'endpoints_upstream_downstream_idx',\n",
       " 'head_neck_shaft_idx',\n",
       " 'labels',\n",
       " 'mesh',\n",
       " 'mesh_center',\n",
       " 'mesh_center_x',\n",
       " 'mesh_center_y',\n",
       " 'mesh_center_z',\n",
       " 'mesh_face_idx',\n",
       " 'mesh_shaft',\n",
       " 'mesh_shaft_idx',\n",
       " 'mesh_volume',\n",
       " 'min_dist_synapses_post_downstream',\n",
       " 'min_dist_synapses_post_upstream',\n",
       " 'min_dist_synapses_pre_downstream',\n",
       " 'min_dist_synapses_pre_upstream',\n",
       " 'n_boutons',\n",
       " 'n_spines',\n",
       " 'n_synapses',\n",
       " 'n_synapses_head',\n",
       " 'n_synapses_neck',\n",
       " 'n_synapses_no_head',\n",
       " 'n_synapses_post',\n",
       " 'n_synapses_pre',\n",
       " 'n_synapses_shaft',\n",
       " 'n_synapses_spine',\n",
       " 'n_web',\n",
       " 'order_skeleton_by_smallest_endpoint',\n",
       " 'skeletal_coordinates_dist_upstream_to_downstream',\n",
       " 'skeletal_coordinates_upstream_to_downstream',\n",
       " 'skeletal_length',\n",
       " 'skeletal_length_eligible',\n",
       " 'skeleton',\n",
       " 'skeleton_graph',\n",
       " 'skeleton_vector_downstream',\n",
       " 'skeleton_vector_upstream',\n",
       " 'spine_density',\n",
       " 'spine_volume_density',\n",
       " 'spine_volume_median',\n",
       " 'spines',\n",
       " 'spines_obj',\n",
       " 'spines_volume',\n",
       " 'synapse_density',\n",
       " 'synapse_density_post',\n",
       " 'synapse_density_pre',\n",
       " 'synapses',\n",
       " 'synapses_head',\n",
       " 'synapses_neck',\n",
       " 'synapses_no_head',\n",
       " 'synapses_post',\n",
       " 'synapses_pre',\n",
       " 'synapses_shaft',\n",
       " 'synapses_spine',\n",
       " 'total_spine_volume',\n",
       " 'web',\n",
       " 'web_cdf',\n",
       " 'width',\n",
       " 'width_array',\n",
       " 'width_array_skeletal_lengths',\n",
       " 'width_array_skeletal_lengths_upstream_to_downstream',\n",
       " 'width_array_upstream_to_downstream',\n",
       " 'width_downstream',\n",
       " 'width_new',\n",
       " 'width_overall',\n",
       " 'width_upstream']"
      ]
     },
     "execution_count": 31,
     "metadata": {},
     "output_type": "execute_result"
    }
   ],
   "source": [
    "dir(n_obj[0][0])"
   ]
  },
  {
   "cell_type": "code",
   "execution_count": 9,
   "id": "d620824a-9c8c-4251-81c7-65071a89aceb",
   "metadata": {},
   "outputs": [
    {
     "data": {
      "text/plain": [
       "261.67118520971894"
      ]
     },
     "execution_count": 9,
     "metadata": {},
     "output_type": "execute_result"
    }
   ],
   "source": [
    "from neurd import branch_utils as bu\n",
    "#bu.set_branches_endpoints_upstream_downstream_idx(n_obj)\n",
    "n_obj[0][0].width_upstream"
   ]
  },
  {
   "cell_type": "code",
   "execution_count": 19,
   "id": "e69006f8-8db0-4edf-bc7e-80235281fd0d",
   "metadata": {},
   "outputs": [
    {
     "data": {
      "text/plain": [
       "(308.20840659465966,\n",
       " {'median_mesh_center': 308.20840659465966,\n",
       "  'no_spine_median_mesh_center': 261.67118520971894})"
      ]
     },
     "execution_count": 19,
     "metadata": {},
     "output_type": "execute_result"
    }
   ],
   "source": [
    "b_obj = n_obj_proof[0][0]\n",
    "b_obj.width,b_obj.width_new"
   ]
  },
  {
   "cell_type": "code",
   "execution_count": 20,
   "id": "1003eae8-6c01-419a-9fc2-af13eccf36cc",
   "metadata": {},
   "outputs": [
    {
     "data": {
      "text/plain": [
       "{'median_mesh_center': array([ 308.20840659,  308.20840659,  308.20840659,  308.20840659,\n",
       "         682.02117787,  517.28808472,  497.60413954,  308.96045877,\n",
       "         224.28476716,  404.61076232,  207.13156061,  235.00469058,\n",
       "         216.96675491,  538.80189038,  265.66145724,  240.11649251,\n",
       "         288.14186463, 1117.00492407,  342.21645155,  697.59813783,\n",
       "         255.82845997,  259.12511027,  304.24043358,  529.53397443,\n",
       "         313.41539931,  554.81092852,  894.01731316,  633.75783953,\n",
       "         149.08288494,  224.09398515,  433.48944623,  289.06796589,\n",
       "         207.74272321,  279.74782782,  806.56654256,  311.54745434,\n",
       "         264.22417809,  609.12650971,  298.01414004,  307.45635442,\n",
       "         446.17350817,  365.84056308,  143.54591393,  168.08980653]),\n",
       " 'no_spine_median_mesh_center': array([261.67118521, 261.67118521, 261.67118521, 261.67118521,\n",
       "        220.87604953, 239.84727248, 226.45341943, 308.96045877,\n",
       "        224.28476716, 250.53629901, 207.13156061, 235.00469058,\n",
       "        216.96675491, 237.73408211, 264.21726015, 240.11649251,\n",
       "        288.14186463, 907.08333268, 220.36731276, 212.60430777,\n",
       "        255.82845997, 259.12511027, 304.24043358, 350.11111272,\n",
       "        313.41539931, 554.81092852, 298.37112138, 497.62467945,\n",
       "        149.08288494, 224.09398515, 312.06371782, 335.30565843,\n",
       "        207.74272321, 279.74782782, 499.53100129, 291.53093315,\n",
       "        264.22417809, 178.86884485, 298.01414004, 307.45635442,\n",
       "        264.32910905, 365.84056308, 143.54591393, 168.08980653])}"
      ]
     },
     "execution_count": 20,
     "metadata": {},
     "output_type": "execute_result"
    }
   ],
   "source": [
    "b_obj.width_array_upstream_to_downstream"
   ]
  },
  {
   "cell_type": "code",
   "execution_count": 29,
   "id": "fca63ea3-ac24-4fd0-b64d-7f46e7c73a7f",
   "metadata": {},
   "outputs": [
    {
     "data": {
      "text/plain": [
       "(44,)"
      ]
     },
     "execution_count": 29,
     "metadata": {},
     "output_type": "execute_result"
    }
   ],
   "source": [
    "b_obj.width_array_upstream_to_downstream#[\"median_mesh_center\"].shape"
   ]
  },
  {
   "cell_type": "code",
   "execution_count": 30,
   "id": "1e74e4f5-bb01-4834-b23c-75cf3ffd916c",
   "metadata": {},
   "outputs": [
    {
     "data": {
      "text/plain": [
       "43342.738206776135"
      ]
     },
     "execution_count": 30,
     "metadata": {},
     "output_type": "execute_result"
    }
   ],
   "source": [
    "b_obj.width_array"
   ]
  },
  {
   "cell_type": "code",
   "execution_count": 25,
   "id": "6d9e1d87-bbf5-4684-a992-3298ec216d57",
   "metadata": {},
   "outputs": [
    {
     "data": {
      "text/plain": [
       "{0: {0: None,\n",
       "  1: None,\n",
       "  2: None,\n",
       "  3: None,\n",
       "  4: None,\n",
       "  5: None,\n",
       "  6: None,\n",
       "  7: None,\n",
       "  8: None,\n",
       "  9: None},\n",
       " 1: {0: None,\n",
       "  1: None,\n",
       "  2: None,\n",
       "  3: None,\n",
       "  4: None,\n",
       "  5: None,\n",
       "  6: None,\n",
       "  7: None,\n",
       "  8: None,\n",
       "  9: None,\n",
       "  10: None,\n",
       "  11: None,\n",
       "  12: None,\n",
       "  13: None,\n",
       "  14: None,\n",
       "  15: None,\n",
       "  16: None,\n",
       "  17: None,\n",
       "  18: None,\n",
       "  19: None,\n",
       "  20: None,\n",
       "  21: None,\n",
       "  22: None,\n",
       "  23: None,\n",
       "  24: None,\n",
       "  25: None,\n",
       "  26: None},\n",
       " 2: {0: None, 1: None, 2: None},\n",
       " 3: {0: None, 1: None, 2: None, 3: None, 4: None},\n",
       " 4: {0: None, 1: None, 2: None, 3: None, 4: None, 5: None, 6: None},\n",
       " 5: {0: None},\n",
       " 6: {0: None},\n",
       " 7: {0: None, 1: None, 2: None}}"
      ]
     },
     "execution_count": 25,
     "metadata": {},
     "output_type": "execute_result"
    }
   ],
   "source": [
    "n_obj.get_computed_attribute_data()[\"width_array_skeletal_lengths\"]"
   ]
  },
  {
   "cell_type": "code",
   "execution_count": null,
   "id": "278a38bf-6b8b-40b4-ab12-a6bac5e644b3",
   "metadata": {},
   "outputs": [],
   "source": [
    "n_obj.area_with_somas"
   ]
  },
  {
   "cell_type": "code",
   "execution_count": null,
   "id": "8e48e6f3-78cf-4c91-bc5f-18c877062ff0",
   "metadata": {},
   "outputs": [],
   "source": [
    "for k in list(n_obj_proof.synapses[0].export().keys()):\n",
    "    print(k)"
   ]
  },
  {
   "cell_type": "code",
   "execution_count": null,
   "id": "dd263d58-b95b-4cc7-aa07-78efeea12dd7",
   "metadata": {},
   "outputs": [],
   "source": [
    "for k in list(n_obj_proof.spines_obj[0].export().keys()):\n",
    "    print(k)"
   ]
  },
  {
   "cell_type": "code",
   "execution_count": null,
   "id": "b72462ed-d563-4cdb-94f6-aa6c880cbd8f",
   "metadata": {},
   "outputs": [],
   "source": [
    "branch = n_obj_proof[0][0]\n",
    "s_obj = branch.spines_obj[20]\n",
    "spine_mesh = branch.mesh.submesh([s_obj.mesh_face_idx],append=True)\n",
    "\n",
    "\n",
    "ipvu.plot_objects(spine_mesh)"
   ]
  },
  {
   "cell_type": "code",
   "execution_count": null,
   "id": "712b2b0c-01f1-41df-93ef-70f2039ecf79",
   "metadata": {},
   "outputs": [],
   "source": [
    "spine_mesh_head = spine_mesh.submesh([s_obj.head_face_idx],append=True)\n",
    "spine_mesh_neck = spine_mesh.submesh([s_obj.neck_face_idx],append=True)\n",
    "\n",
    "ipvu.plot_objects(\n",
    "    meshes = [spine_mesh_head,spine_mesh_neck],\n",
    "    meshes_colors = ['red','green'],\n",
    "    scatters=[s_obj.coordinate],\n",
    "    main_skeleton = s_obj.skeleton,\n",
    ")"
   ]
  },
  {
   "cell_type": "code",
   "execution_count": null,
   "id": "44e62550-12d9-46c1-8ebc-5b7c5624bc29",
   "metadata": {},
   "outputs": [],
   "source": [
    "s_obj.endpoints_dist"
   ]
  },
  {
   "cell_type": "code",
   "execution_count": null,
   "id": "94852d51-8d73-4208-b976-7dd207fc16ac",
   "metadata": {},
   "outputs": [],
   "source": []
  }
 ],
 "metadata": {
  "kernelspec": {
   "display_name": "Python 3 (ipykernel)",
   "language": "python",
   "name": "python3"
  },
  "language_info": {
   "codemirror_mode": {
    "name": "ipython",
    "version": 3
   },
   "file_extension": ".py",
   "mimetype": "text/x-python",
   "name": "python",
   "nbconvert_exporter": "python",
   "pygments_lexer": "ipython3",
   "version": "3.8.0"
  }
 },
 "nbformat": 4,
 "nbformat_minor": 5
}
