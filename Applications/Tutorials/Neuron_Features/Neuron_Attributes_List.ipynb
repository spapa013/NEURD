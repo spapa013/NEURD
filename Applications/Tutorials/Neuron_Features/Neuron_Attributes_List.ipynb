{
 "cells": [
  {
   "cell_type": "code",
   "execution_count": 1,
   "id": "2c1acb7c-8a6e-4969-97c6-048577bf27af",
   "metadata": {},
   "outputs": [],
   "source": [
    "import pypandoc"
   ]
  },
  {
   "cell_type": "code",
   "execution_count": 2,
   "id": "3c67224e-9e5a-45db-ab4f-16c69d13ace9",
   "metadata": {},
   "outputs": [],
   "source": [
    "def get_long_description(filepath='README.md'):\n",
    "    try:\n",
    "        import pypandoc\n",
    "    except:\n",
    "        raise Exception(\"Need to install pypandoc (and if havent done so install apt-get install pandoc)\")\n",
    "        \n",
    "    long_description = pypandoc.convert_file(filepath, 'rst')        \n",
    "    return long_description"
   ]
  },
  {
   "cell_type": "code",
   "execution_count": 3,
   "id": "3d6c9389-0544-40e1-abee-20b697e8c99f",
   "metadata": {},
   "outputs": [
    {
     "data": {
      "text/plain": [
       "'datasci\\\\_tools\\n==============\\n\\nModules to help faciliatate basic python programming and wrappers for\\ncommon packages (numpy, matplotib, scipy, pandas, networkx, etc.)\\n'"
      ]
     },
     "execution_count": 3,
     "metadata": {},
     "output_type": "execute_result"
    }
   ],
   "source": [
    "get_long_description()"
   ]
  },
  {
   "cell_type": "code",
   "execution_count": null,
   "id": "082861a6-0297-4b80-be95-92b934331fea",
   "metadata": {},
   "outputs": [],
   "source": []
  },
  {
   "cell_type": "code",
   "execution_count": null,
   "id": "c62769e4-cc7f-479f-b636-7b943fe65d19",
   "metadata": {},
   "outputs": [],
   "source": []
  },
  {
   "cell_type": "code",
   "execution_count": null,
   "id": "c0c94578-3f66-46d2-b78d-bc60b9fd0473",
   "metadata": {},
   "outputs": [],
   "source": [
    "\"\"\"\n",
    "\n",
    "https://docs.google.com/spreadsheets/d/1DBFTMUY7RpRoDQM3TWEb4aZoJGc-7cxq0_D-zkJ4JSE/edit#gid=0\n",
    "\n",
    "\"\"\"s"
   ]
  },
  {
   "cell_type": "code",
   "execution_count": null,
   "id": "39fde8d3-a437-4889-9031-5ebf64a83427",
   "metadata": {},
   "outputs": [],
   "source": []
  },
  {
   "cell_type": "markdown",
   "id": "441a991c-40ab-4e7f-97b6-8e6e6fd0348f",
   "metadata": {},
   "source": [
    "# Useful Features from stages"
   ]
  },
  {
   "cell_type": "code",
   "execution_count": null,
   "id": "a8b9edd2-aa46-4de1-af98-24b743bf380b",
   "metadata": {},
   "outputs": [],
   "source": [
    "\"\"\" \n",
    "pipeline_products\n",
    "\n",
    "--- soma_identification ----\n",
    "nuclei_meshes\n",
    "glia_meshes\n",
    "\n",
    "--- decomposition ----\n",
    "bbox_[x/y/z]_[min/max](_soma_relative)\n",
    "branch_length_[mean/median]\n",
    "n_limbs\n",
    "n_multi_soma_touching_limbs\n",
    "n_same_soma_multi_touching_limbs\n",
    "n_somas\n",
    "n_spines\n",
    "skeletal_length\n",
    "spine_volume_[density/median]\n",
    "total_spine_volume\n",
    "width(_no_spine)_[90_perc/median]\n",
    "\n",
    "--- multi_soma_split_suggestions ---\n",
    "red_blue_split_points_by_limb\n",
    "n_paths_cut\n",
    "\n",
    "\n",
    "# --- cell_type_ax_dendr ---\n",
    "axon_[mesh/skeleton/limb_branch_dict]\n",
    "dendrite_[mesh/skeleton/limb_branch_dict]\n",
    "\n",
    "baylor_cell_type\n",
    "baylor_cell_type_exc_probability\n",
    "\n",
    "n_nuclei_in_radius\n",
    "centroid_[x/y/z](_nm)\n",
    "[axon/dendrite]_angle_[max/min]\n",
    "[axon/dendrite]_bbox_[x/y/z]_[min/max](_soma_relative)\n",
    "[axon/dendrite]_skeleton\n",
    "n_syn_axon_[ais/bouton/non_bouton]_[presyn/postsyn]\n",
    "\n",
    "neuron_graph_axon_labeled\n",
    "neuron_graph_high_fid_axon\n",
    "\n",
    "spine_density\n",
    "spine_volume_density\n",
    "syn_density_[head/neck/shaft/no_head]\n",
    "\n",
    "\n",
    "--- auto proofreading\n",
    "# --- neuron_obj.pipeline_products.auto_proof.neuron_graph_after_proof\n",
    "[compartment]_[mesh/skeleton/limb_branch_dict]\n",
    "[compartment]_soma_angle_[max/min]\n",
    "[compartment]_bbox_[x/y/z]_[min/max](_soma_relative)\n",
    "[compartment]_n_limbs\n",
    "[compartment]_branch_length_[mean/median]\n",
    "n_syn_[compartment](_[head/neck/shaft/no_head)(_[postsyn/presyn])\n",
    "n_boutons\n",
    "spine(_volume)_density\n",
    "syn_density_[head/neck/shaft/no_head]_after_proof\n",
    "spine_density\n",
    "spine_volume_density\n",
    "\n",
    "\n",
    "[error_filter]_error_[length/area]\n",
    "split_locations_before_filter # dict: error_filter > limb > locations\n",
    "\n",
    "neuron_graph_after_proof\n",
    "\"\"\""
   ]
  },
  {
   "cell_type": "code",
   "execution_count": null,
   "id": "9d62df52-69ba-4144-826e-98ec7931f54d",
   "metadata": {},
   "outputs": [],
   "source": [
    "get_soma_meshes()\n",
    "multi_soma_touching_limbs\n",
    "n_distance_errored_synapses_[pre/post]\n",
    "n_mesh_errored_synapses_[pre/post]"
   ]
  },
  {
   "cell_type": "code",
   "execution_count": null,
   "id": "235e7b72-6a27-40f5-b8ce-26c72d83938e",
   "metadata": {},
   "outputs": [],
   "source": [
    "endpoint_downstream\n"
   ]
  }
 ],
 "metadata": {
  "kernelspec": {
   "display_name": "Python 3 (ipykernel)",
   "language": "python",
   "name": "python3"
  },
  "language_info": {
   "codemirror_mode": {
    "name": "ipython",
    "version": 3
   },
   "file_extension": ".py",
   "mimetype": "text/x-python",
   "name": "python",
   "nbconvert_exporter": "python",
   "pygments_lexer": "ipython3",
   "version": "3.8.0"
  }
 },
 "nbformat": 4,
 "nbformat_minor": 5
}
