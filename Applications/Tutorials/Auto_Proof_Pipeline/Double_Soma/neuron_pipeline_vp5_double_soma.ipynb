{
 "cells": [
  {
   "cell_type": "code",
   "execution_count": 1,
   "id": "077350ae",
   "metadata": {},
   "outputs": [],
   "source": [
    "%load_ext autoreload\n",
    "%autoreload 2"
   ]
  },
  {
   "cell_type": "code",
   "execution_count": 2,
   "id": "c0765d62",
   "metadata": {},
   "outputs": [
    {
     "name": "stdout",
     "output_type": "stream",
     "text": [
      "Jupyter environment detected. Enabling Open3D WebVisualizer.\n",
      "[Open3D INFO] WebRTC GUI backend enabled.\n",
      "[Open3D INFO] WebRTCWindowSystem: HTTP handshake server disabled.\n"
     ]
    }
   ],
   "source": [
    "import neurd"
   ]
  },
  {
   "cell_type": "code",
   "execution_count": 3,
   "id": "f59f25d5",
   "metadata": {
    "scrolled": true
   },
   "outputs": [],
   "source": [
    "from mesh_tools import trimesh_utils as tu\n",
    "from datasci_tools import ipyvolume_utils as ipvu\n",
    "from neurd import neuron_visualizations as nviz\n",
    "from pathlib import Path"
   ]
  },
  {
   "cell_type": "code",
   "execution_count": 4,
   "id": "c0b1bf59",
   "metadata": {},
   "outputs": [],
   "source": [
    "segment_id = 864691135510518224"
   ]
  },
  {
   "cell_type": "markdown",
   "id": "8c857d7b",
   "metadata": {},
   "source": [
    "# Load the appropriate volume data inferface object"
   ]
  },
  {
   "cell_type": "code",
   "execution_count": 5,
   "id": "863967b7",
   "metadata": {},
   "outputs": [
    {
     "name": "stdout",
     "output_type": "stream",
     "text": [
      "\u001b)0\u001b7\u001b[?47h\u001b[1;24r\u001b[m\u001b[4l\u001b[?1h\u001b=\u001b[m\u001b[m\u001b[37m\u001b[40m\u001b[1;1H                                                                                \u001b[2;1H                                                                                \u001b[3;1H                                                                                \u001b[4;1H                                                                                \u001b[5;1H                                                                                \u001b[6;1H                                                                                \u001b[7;1H                                                                                \u001b[8;1H                                                                                \u001b[9;1H                                                                                \u001b[10;1H                                                                                \u001b[11;1H                                                                                \u001b[12;1H                                                                                \u001b[13;1H                                                                                \u001b[14;1H                                                                                \u001b[15;1H                                                                                \u001b[16;1H                                                                                \u001b[17;1H                                                                                \u001b[18;1H                                                                                \u001b[19;1H                                                                                \u001b[20;1H                                                                                \u001b[21;1H                                                                                \u001b[22;1H                                                                                \u001b[23;1H                                                                                \u001b[24;1H                                                                               \b \b\u001b[4h\u001b[37m\u001b[40m \u001b[4l\u001b[H\u001b[m\u001b[m\u001b[37m\u001b[40m\u001b[m\u001b[m\u001b[21B\u001b[33m\u001b[44m\u001b[1mGetting https://global.daf-apis.com/sticky_auth/api/v1/tos/2/accept             \u001b[22;68H\u001b[m\u001b[m\r",
      "\u001b[33m\u001b[44m\u001b[1mLooking up global.daf-apis.com                                     \u001b[22;31H\u001b[m\u001b[m\r",
      "\u001b[33m\u001b[44m\u001b[1mMaking HTTPS connection to global.daf-apis.com\u001b[m\u001b[m\r",
      "\u001b[33m\u001b[44m\u001b[1mVerified connection to global.daf-apis.com (subj=global.daf-apis.com)\u001b[m\u001b[m\r",
      "\u001b[33m\u001b[44m\u001b[1mCertificate issued by: /C=US/O=Let's Encrypt/CN=R3                   \u001b[22;51H\u001b[m\u001b[m\r",
      "\u001b[33m\u001b[44m\u001b[1mSecure 128-bit TLS1.2 (ECDHE_RSA_AES_128_GCM_SHA256) HTTP connection\u001b[m\u001b[m\u001b[66D\u001b[33m\u001b[44m\u001b[1mnding HTTP request.                                               \u001b[22;22H\u001b[m\u001b[m\r",
      "\u001b[33m\u001b[44m\u001b[1mHTTP request sent; waiting for response.\u001b[m\u001b[m\u001b[36D\u001b[33m\u001b[44m\u001b[1m/1.1 302 FOUND                      \u001b[22;19H\u001b[m\u001b[m\r\n",
      "\n",
      "\u001b[24;1H\u001b[2J\u001b[?47l\u001b8\r",
      "\u001b[?1l\u001b>"
     ]
    }
   ],
   "source": [
    "from neurd.vdi_microns import volume_data_interface as vdi\n",
    "#vdi.set_parameters_for_directory_modules()"
   ]
  },
  {
   "cell_type": "code",
   "execution_count": 6,
   "id": "f548b5a1",
   "metadata": {},
   "outputs": [
    {
     "data": {
      "text/plain": [
       "'/neurd_packages/NEURD/Applications/Tutorials/Auto_Proof_Pipeline/Double_Soma/864691135510518224_synapses.csv'"
      ]
     },
     "execution_count": 6,
     "metadata": {},
     "output_type": "execute_result"
    }
   ],
   "source": [
    "synapse_filepath = str(Path(f'./{segment_id}_synapses.csv').absolute())\n",
    "synapse_filepath"
   ]
  },
  {
   "cell_type": "code",
   "execution_count": 7,
   "id": "3b2dc190",
   "metadata": {},
   "outputs": [
    {
     "data": {
      "text/html": [
       "<div>\n",
       "<style scoped>\n",
       "    .dataframe tbody tr th:only-of-type {\n",
       "        vertical-align: middle;\n",
       "    }\n",
       "\n",
       "    .dataframe tbody tr th {\n",
       "        vertical-align: top;\n",
       "    }\n",
       "\n",
       "    .dataframe thead th {\n",
       "        text-align: right;\n",
       "    }\n",
       "</style>\n",
       "<table border=\"1\" class=\"dataframe\">\n",
       "  <thead>\n",
       "    <tr style=\"text-align: right;\">\n",
       "      <th></th>\n",
       "      <th>prepost</th>\n",
       "      <th>synapse_id</th>\n",
       "      <th>synapse_x</th>\n",
       "      <th>synapse_y</th>\n",
       "      <th>synapse_z</th>\n",
       "      <th>synapse_size</th>\n",
       "      <th>segment_id</th>\n",
       "    </tr>\n",
       "  </thead>\n",
       "  <tbody>\n",
       "    <tr>\n",
       "      <th>0</th>\n",
       "      <td>presyn</td>\n",
       "      <td>483766883</td>\n",
       "      <td>372182</td>\n",
       "      <td>155486</td>\n",
       "      <td>27762</td>\n",
       "      <td>4384</td>\n",
       "      <td>864691135510518224</td>\n",
       "    </tr>\n",
       "    <tr>\n",
       "      <th>1</th>\n",
       "      <td>presyn</td>\n",
       "      <td>478550136</td>\n",
       "      <td>371370</td>\n",
       "      <td>156720</td>\n",
       "      <td>27781</td>\n",
       "      <td>2068</td>\n",
       "      <td>864691135510518224</td>\n",
       "    </tr>\n",
       "    <tr>\n",
       "      <th>2</th>\n",
       "      <td>presyn</td>\n",
       "      <td>480939462</td>\n",
       "      <td>370330</td>\n",
       "      <td>141276</td>\n",
       "      <td>27795</td>\n",
       "      <td>11064</td>\n",
       "      <td>864691135510518224</td>\n",
       "    </tr>\n",
       "    <tr>\n",
       "      <th>3</th>\n",
       "      <td>presyn</td>\n",
       "      <td>479220146</td>\n",
       "      <td>370697</td>\n",
       "      <td>150480</td>\n",
       "      <td>26371</td>\n",
       "      <td>8636</td>\n",
       "      <td>864691135510518224</td>\n",
       "    </tr>\n",
       "    <tr>\n",
       "      <th>4</th>\n",
       "      <td>presyn</td>\n",
       "      <td>468794187</td>\n",
       "      <td>363722</td>\n",
       "      <td>154550</td>\n",
       "      <td>27349</td>\n",
       "      <td>3516</td>\n",
       "      <td>864691135510518224</td>\n",
       "    </tr>\n",
       "    <tr>\n",
       "      <th>...</th>\n",
       "      <td>...</td>\n",
       "      <td>...</td>\n",
       "      <td>...</td>\n",
       "      <td>...</td>\n",
       "      <td>...</td>\n",
       "      <td>...</td>\n",
       "      <td>...</td>\n",
       "    </tr>\n",
       "    <tr>\n",
       "      <th>960</th>\n",
       "      <td>postsyn</td>\n",
       "      <td>483712349</td>\n",
       "      <td>375430</td>\n",
       "      <td>152370</td>\n",
       "      <td>26897</td>\n",
       "      <td>17880</td>\n",
       "      <td>864691135510518224</td>\n",
       "    </tr>\n",
       "    <tr>\n",
       "      <th>961</th>\n",
       "      <td>postsyn</td>\n",
       "      <td>492052366</td>\n",
       "      <td>381210</td>\n",
       "      <td>155648</td>\n",
       "      <td>26422</td>\n",
       "      <td>8680</td>\n",
       "      <td>864691135510518224</td>\n",
       "    </tr>\n",
       "    <tr>\n",
       "      <th>962</th>\n",
       "      <td>postsyn</td>\n",
       "      <td>486032429</td>\n",
       "      <td>373180</td>\n",
       "      <td>142870</td>\n",
       "      <td>25738</td>\n",
       "      <td>2244</td>\n",
       "      <td>864691135510518224</td>\n",
       "    </tr>\n",
       "    <tr>\n",
       "      <th>963</th>\n",
       "      <td>postsyn</td>\n",
       "      <td>477362400</td>\n",
       "      <td>369214</td>\n",
       "      <td>146406</td>\n",
       "      <td>27836</td>\n",
       "      <td>18312</td>\n",
       "      <td>864691135510518224</td>\n",
       "    </tr>\n",
       "    <tr>\n",
       "      <th>964</th>\n",
       "      <td>postsyn</td>\n",
       "      <td>477549634</td>\n",
       "      <td>368010</td>\n",
       "      <td>154512</td>\n",
       "      <td>27697</td>\n",
       "      <td>1048</td>\n",
       "      <td>864691135510518224</td>\n",
       "    </tr>\n",
       "  </tbody>\n",
       "</table>\n",
       "<p>965 rows × 7 columns</p>\n",
       "</div>"
      ],
      "text/plain": [
       "     prepost  synapse_id  synapse_x  synapse_y  synapse_z  synapse_size  \\\n",
       "0     presyn   483766883     372182     155486      27762          4384   \n",
       "1     presyn   478550136     371370     156720      27781          2068   \n",
       "2     presyn   480939462     370330     141276      27795         11064   \n",
       "3     presyn   479220146     370697     150480      26371          8636   \n",
       "4     presyn   468794187     363722     154550      27349          3516   \n",
       "..       ...         ...        ...        ...        ...           ...   \n",
       "960  postsyn   483712349     375430     152370      26897         17880   \n",
       "961  postsyn   492052366     381210     155648      26422          8680   \n",
       "962  postsyn   486032429     373180     142870      25738          2244   \n",
       "963  postsyn   477362400     369214     146406      27836         18312   \n",
       "964  postsyn   477549634     368010     154512      27697          1048   \n",
       "\n",
       "             segment_id  \n",
       "0    864691135510518224  \n",
       "1    864691135510518224  \n",
       "2    864691135510518224  \n",
       "3    864691135510518224  \n",
       "4    864691135510518224  \n",
       "..                  ...  \n",
       "960  864691135510518224  \n",
       "961  864691135510518224  \n",
       "962  864691135510518224  \n",
       "963  864691135510518224  \n",
       "964  864691135510518224  \n",
       "\n",
       "[965 rows x 7 columns]"
      ]
     },
     "execution_count": 7,
     "metadata": {},
     "output_type": "execute_result"
    }
   ],
   "source": [
    "from datasci_tools import pandas_utils as pu\n",
    "df = pu.csv_to_df(synapse_filepath)\n",
    "df"
   ]
  },
  {
   "cell_type": "code",
   "execution_count": 8,
   "id": "6f7782f2",
   "metadata": {},
   "outputs": [],
   "source": [
    "vdi.set_synapse_filepath(\n",
    "    synapse_filepath\n",
    ")"
   ]
  },
  {
   "cell_type": "markdown",
   "id": "6f9b75c9",
   "metadata": {},
   "source": [
    "# Data Prep: Loading mesh"
   ]
  },
  {
   "cell_type": "code",
   "execution_count": 9,
   "id": "3c95c75b",
   "metadata": {},
   "outputs": [
    {
     "name": "stderr",
     "output_type": "stream",
     "text": [
      "/usr/local/lib/python3.8/dist-packages/traittypes/traittypes.py:97: UserWarning: Given trait value dtype \"float64\" does not match required type \"float64\". A coerced copy has been created.\n",
      "  warnings.warn(\n"
     ]
    },
    {
     "data": {
      "application/vnd.jupyter.widget-view+json": {
       "model_id": "02bf99e32ace4080b878fa680e19d21c",
       "version_major": 2,
       "version_minor": 0
      },
      "text/plain": [
       "Container(figure=Figure(box_center=[0.5, 0.5, 0.5], box_size=[1.0, 1.0, 1.0], camera=PerspectiveCamera(fov=45.…"
      ]
     },
     "metadata": {},
     "output_type": "display_data"
    },
    {
     "data": {
      "text/plain": [
       "<trimesh.Trimesh(vertices.shape=(154713, 3), faces.shape=(323535, 3))>"
      ]
     },
     "execution_count": 9,
     "metadata": {},
     "output_type": "execute_result"
    }
   ],
   "source": [
    "mesh = vdi.fetch_segment_id_mesh(\n",
    "    segment_id,\n",
    "    plot = True\n",
    ")\n",
    "mesh"
   ]
  },
  {
   "cell_type": "code",
   "execution_count": 10,
   "id": "0cfc1789",
   "metadata": {},
   "outputs": [
    {
     "data": {
      "text/plain": [
       "<datasci_tools.pipeline.PipelineProducts at 0x7f35386337c0>"
      ]
     },
     "execution_count": 10,
     "metadata": {},
     "output_type": "execute_result"
    }
   ],
   "source": [
    "from datasci_tools import pipeline\n",
    "\n",
    "products = pipeline.PipelineProducts()\n",
    "products"
   ]
  },
  {
   "cell_type": "markdown",
   "id": "7a30c933",
   "metadata": {},
   "source": [
    "# Step 1: Decimation"
   ]
  },
  {
   "cell_type": "code",
   "execution_count": 11,
   "id": "29e0844f",
   "metadata": {},
   "outputs": [
    {
     "data": {
      "text/plain": [
       "\"\\nNOTE: an already decimated mesh is used for the example\\nin order to speed up time, that's why the mesh_dec\\nobject will be overwritten with original mesh object\\n\""
      ]
     },
     "execution_count": 11,
     "metadata": {},
     "output_type": "execute_result"
    }
   ],
   "source": [
    "\"\"\"\n",
    "NOTE: an already decimated mesh is used for the example\n",
    "in order to speed up time, that's why the mesh_dec\n",
    "object will be overwritten with original mesh object\n",
    "\"\"\""
   ]
  },
  {
   "cell_type": "code",
   "execution_count": 12,
   "id": "cdbb6e70",
   "metadata": {},
   "outputs": [],
   "source": [
    "decimation_parameters = dict(\n",
    "    decimation_ratio =0.25,\n",
    ")"
   ]
  },
  {
   "cell_type": "code",
   "execution_count": 13,
   "id": "b3973f2c",
   "metadata": {},
   "outputs": [
    {
     "name": "stdout",
     "output_type": "stream",
     "text": [
      "xvfb-run -n 8266 -s \"-screen 0 800x600x24\" meshlabserver $@  -i /neurd_packages/NEURD/Applications/Tutorials/Auto_Proof_Pipeline/Double_Soma/temp/neuron_2866.off -o /neurd_packages/NEURD/Applications/Tutorials/Auto_Proof_Pipeline/Double_Soma/temp/neuron_2866_decimated.off -s /neurd_packages/NEURD/Applications/Tutorials/Auto_Proof_Pipeline/Double_Soma/temp/decimation_meshlab_25583622.mls\n"
     ]
    }
   ],
   "source": [
    "mesh_decimated = tu.decimate(\n",
    "    mesh,\n",
    "    **decimation_parameters\n",
    ")"
   ]
  },
  {
   "cell_type": "code",
   "execution_count": 14,
   "id": "bbf7c8d0",
   "metadata": {},
   "outputs": [
    {
     "name": "stdout",
     "output_type": "stream",
     "text": [
      "{\n",
      "  'decimation':\n",
      "  {\n",
      "    'decimation_parameters':\n",
      "    {\n",
      "      'decimation_ratio':0.25,\n",
      "    },\n",
      "    'segment_id':864691135510518224,\n",
      "  },\n",
      "}\n",
      "\n"
     ]
    }
   ],
   "source": [
    "# saving any parameters used or output products for later use\n",
    "products.set_stage_attrs(\n",
    "    stage = \"decimation\",\n",
    "    attr_dict = dict(\n",
    "        decimation_parameters = decimation_parameters,\n",
    "        segment_id = segment_id,\n",
    "    ),\n",
    "    \n",
    ")\n",
    "\n",
    "print(products)"
   ]
  },
  {
   "cell_type": "markdown",
   "id": "bc57fd52",
   "metadata": {},
   "source": [
    "# Step 2: Soma Identification"
   ]
  },
  {
   "cell_type": "code",
   "execution_count": 15,
   "id": "8866641c",
   "metadata": {},
   "outputs": [],
   "source": [
    "from neurd import soma_extraction_utils as sm\n",
    "soma_extraction_parameters = dict()"
   ]
  },
  {
   "cell_type": "code",
   "execution_count": 16,
   "id": "b65f18a1",
   "metadata": {},
   "outputs": [
    {
     "data": {
      "text/plain": [
       "{'glia_volume_threshold_in_um_global': 2500,\n",
       " 'glia_n_faces_threshold_global': 400000,\n",
       " 'glia_n_faces_min_global': 100000}"
      ]
     },
     "execution_count": 16,
     "metadata": {},
     "output_type": "execute_result"
    }
   ],
   "source": [
    "# could inspect the parameters of a certain category\n",
    "from neurd import parameter_utils as paru\n",
    "paru.category_param_from_module(\n",
    "        module = sm,\n",
    "        category = \"glia\",\n",
    ")"
   ]
  },
  {
   "cell_type": "code",
   "execution_count": 17,
   "id": "24667352",
   "metadata": {},
   "outputs": [],
   "source": [
    "# overwritting decimated mesh because original was already decimated\n",
    "mesh_decimated = mesh"
   ]
  },
  {
   "cell_type": "markdown",
   "id": "de1da628",
   "metadata": {},
   "source": [
    "# soma_indentification"
   ]
  },
  {
   "cell_type": "code",
   "execution_count": 18,
   "id": "b6ff9777",
   "metadata": {
    "scrolled": true
   },
   "outputs": [
    {
     "name": "stdout",
     "output_type": "stream",
     "text": [
      "Current Arguments Using (adjusted for decimation):\n",
      " large_mesh_threshold= 5000.0 \n",
      "large_mesh_threshold_inner = 3250.0 \n",
      "soma_size_threshold = 562.5 \n",
      "soma_size_threshold_max = 75000.0\n",
      "outer_decimation_ratio = 0.25\n",
      "inner_decimation_ratio = 0.25\n",
      "max_mesh_sized_filtered_away = 22500.0\n",
      "xvfb-run -n 5768 -s \"-screen 0 800x600x24\" meshlabserver $@  -i /neurd_packages/NEURD/Applications/Tutorials/Auto_Proof_Pipeline/Double_Soma/temp/neuron_45369.off -o /neurd_packages/NEURD/Applications/Tutorials/Auto_Proof_Pipeline/Double_Soma/temp/neuron_45369_remove_interior.off -s /neurd_packages/NEURD/Applications/Tutorials/Auto_Proof_Pipeline/Double_Soma/temp/remove_interior_659474.mls\n",
      "removed temporary input file: /neurd_packages/NEURD/Applications/Tutorials/Auto_Proof_Pipeline/Double_Soma/temp/neuron_45369.off\n",
      "removed temporary output file: /neurd_packages/NEURD/Applications/Tutorials/Auto_Proof_Pipeline/Double_Soma/temp/neuron_45369_remove_interior.off\n",
      "/neurd_packages/NEURD/Applications/Tutorials/Auto_Proof_Pipeline/Double_Soma/temp/remove_interior_659474.mls is being deleted....\n",
      "There were 16 total interior meshes\n",
      "Pieces satisfying glia requirements (volume) (x >= 2500000000000): 0\n",
      "Pieces satisfying nuclie requirements: n_faces (700 <= x) and volume (x < 2500000000000) : 16\n",
      "inside remove_mesh_interior and using precomputed inside_pieces\n",
      "Removing the following inside neurons: [<trimesh.Trimesh(vertices.shape=(6494, 3), faces.shape=(15575, 3))>, <trimesh.Trimesh(vertices.shape=(3252, 3), faces.shape=(5804, 3))>, <trimesh.Trimesh(vertices.shape=(2064, 3), faces.shape=(4789, 3))>, <trimesh.Trimesh(vertices.shape=(2022, 3), faces.shape=(4628, 3))>, <trimesh.Trimesh(vertices.shape=(1922, 3), faces.shape=(4396, 3))>, <trimesh.Trimesh(vertices.shape=(1089, 3), faces.shape=(2556, 3))>, <trimesh.Trimesh(vertices.shape=(864, 3), faces.shape=(1989, 3))>, <trimesh.Trimesh(vertices.shape=(723, 3), faces.shape=(1611, 3))>, <trimesh.Trimesh(vertices.shape=(693, 3), faces.shape=(1561, 3))>, <trimesh.Trimesh(vertices.shape=(612, 3), faces.shape=(1378, 3))>, <trimesh.Trimesh(vertices.shape=(456, 3), faces.shape=(742, 3))>, <trimesh.Trimesh(vertices.shape=(344, 3), faces.shape=(727, 3))>]\n",
      "\n",
      "\n",
      "Original Mesh size: 323535, Final mesh size: 277773\n",
      "Total time = 20.391488552093506\n",
      "xvfb-run -n 5212 -s \"-screen 0 800x600x24\" meshlabserver $@  -i /neurd_packages/NEURD/Applications/Tutorials/Auto_Proof_Pipeline/Double_Soma/12345/neuron_12345.off -o /neurd_packages/NEURD/Applications/Tutorials/Auto_Proof_Pipeline/Double_Soma/12345/neuron_12345_decimated.off -s /neurd_packages/NEURD/Applications/Tutorials/Auto_Proof_Pipeline/Double_Soma/12345/decimation_meshlab_25926455.mls\n",
      "Total found significant pieces before Poisson = [<trimesh.Trimesh(vertices.shape=(29969, 3), faces.shape=(56262, 3))>]\n",
      "----- working on large mesh #0: <trimesh.Trimesh(vertices.shape=(29969, 3), faces.shape=(56262, 3))>\n",
      "remove_inside_pieces requested \n",
      "xvfb-run -n 5525 -s \"-screen 0 800x600x24\" meshlabserver $@  -i /neurd_packages/NEURD/Applications/Tutorials/Auto_Proof_Pipeline/Double_Soma/temp/neuron_30789.off -o /neurd_packages/NEURD/Applications/Tutorials/Auto_Proof_Pipeline/Double_Soma/temp/neuron_30789_remove_interior.off -s /neurd_packages/NEURD/Applications/Tutorials/Auto_Proof_Pipeline/Double_Soma/temp/remove_interior_409775.mls\n",
      "removed temporary input file: /neurd_packages/NEURD/Applications/Tutorials/Auto_Proof_Pipeline/Double_Soma/temp/neuron_30789.off\n",
      "removed temporary output file: /neurd_packages/NEURD/Applications/Tutorials/Auto_Proof_Pipeline/Double_Soma/temp/neuron_30789_remove_interior.off\n",
      "/neurd_packages/NEURD/Applications/Tutorials/Auto_Proof_Pipeline/Double_Soma/temp/remove_interior_409775.mls is being deleted....\n",
      "No significant (1000) interior meshes present\n",
      "largest is 163\n",
      "pre_largest_mesh_path = /neurd_packages/NEURD/Applications/Tutorials/Auto_Proof_Pipeline/Double_Soma/12345/neuron_12345_decimated_largest_piece.off\n",
      "xvfb-run -n 5336 -s \"-screen 0 800x600x24\" meshlabserver $@  -i /neurd_packages/NEURD/Applications/Tutorials/Auto_Proof_Pipeline/Double_Soma/12345/neuron_12345_decimated_largest_piece.off -o /neurd_packages/NEURD/Applications/Tutorials/Auto_Proof_Pipeline/Double_Soma/12345/neuron_12345_decimated_largest_piece_poisson.off -s /neurd_packages/NEURD/Applications/Tutorials/Auto_Proof_Pipeline/Double_Soma/12345/poisson_852675.mls\n",
      "Total found significant pieces AFTER Poisson = [<trimesh.Trimesh(vertices.shape=(14489, 3), faces.shape=(28990, 3))>, <trimesh.Trimesh(vertices.shape=(10700, 3), faces.shape=(21396, 3))>]\n",
      "----- working on mesh after poisson #0: <trimesh.Trimesh(vertices.shape=(14489, 3), faces.shape=(28990, 3))>\n",
      "xvfb-run -n 7524 -s \"-screen 0 800x600x24\" meshlabserver $@  -i /neurd_packages/NEURD/Applications/Tutorials/Auto_Proof_Pipeline/Double_Soma/12345/neuron_12345_decimated_largest_piece_poisson_largest_inner.off -o /neurd_packages/NEURD/Applications/Tutorials/Auto_Proof_Pipeline/Double_Soma/12345/neuron_12345_decimated_largest_piece_poisson_largest_inner_decimated.off -s /neurd_packages/NEURD/Applications/Tutorials/Auto_Proof_Pipeline/Double_Soma/12345/decimation_meshlab_25774910.mls\n",
      "\n",
      "-------Splits after inner decimation len = 1--------\n",
      "\n",
      "done exporting decimated mesh: neuron_12345_decimated_largest_piece_poisson_largest_inner.off\n",
      "\n",
      "    --- On segmentation loop 0 --\n",
      "largest_mesh_path_inner_decimated_clean = <trimesh.Trimesh(vertices.shape=(3614, 3), faces.shape=(7240, 3))>\n",
      "\n",
      "largest_mesh_path_inner_decimated_clean = <trimesh.Trimesh(vertices.shape=(3614, 3), faces.shape=(7240, 3))>\n",
      "soma_size_threshold = 562.5\n",
      "soma_size_threshold_max = 75000.0\n",
      "soma_width_threshold = 0.32\n",
      "\n",
      "Number of segments: 9\n",
      "\n"
     ]
    },
    {
     "data": {
      "application/vnd.jupyter.widget-view+json": {
       "model_id": "d93d213bd8ba4520b8eac8ac32e83bb4",
       "version_major": 2,
       "version_minor": 0
      },
      "text/plain": [
       "  0%|          | 0/9 [00:00<?, ?it/s]"
      ]
     },
     "metadata": {},
     "output_type": "display_data"
    },
    {
     "name": "stdout",
     "output_type": "stream",
     "text": [
      "      ------ Found 1 viable somas: [0.769893]\n",
      "Using Poisson Surface Reconstruction for watertightness in soma_volume_ratio\n",
      "xvfb-run -n 6116 -s \"-screen 0 800x600x24\" meshlabserver $@  -i /neurd_packages/NEURD/Applications/Tutorials/Auto_Proof_Pipeline/Double_Soma/Poisson_temp/neuron_729604.off -o /neurd_packages/NEURD/Applications/Tutorials/Auto_Proof_Pipeline/Double_Soma/Poisson_temp/neuron_729604_poisson.off -s /neurd_packages/NEURD/Applications/Tutorials/Auto_Proof_Pipeline/Double_Soma/Poisson_temp/poisson_263696.mls\n",
      "removed temporary input file: /neurd_packages/NEURD/Applications/Tutorials/Auto_Proof_Pipeline/Double_Soma/Poisson_temp/neuron_729604.off\n",
      "removed temporary output file: /neurd_packages/NEURD/Applications/Tutorials/Auto_Proof_Pipeline/Double_Soma/Poisson_temp/neuron_729604_poisson.off\n",
      "mesh.is_watertight = True\n",
      "/neurd_packages/NEURD/Applications/Tutorials/Auto_Proof_Pipeline/Double_Soma/Poisson_temp/poisson_263696.mls is being deleted....\n",
      "Inside sphere validater: ratio_val = 2.7266923461590085\n",
      "----- working on mesh after poisson #1: <trimesh.Trimesh(vertices.shape=(10700, 3), faces.shape=(21396, 3))>\n",
      "xvfb-run -n 5444 -s \"-screen 0 800x600x24\" meshlabserver $@  -i /neurd_packages/NEURD/Applications/Tutorials/Auto_Proof_Pipeline/Double_Soma/12345/neuron_12345_decimated_largest_piece_poisson_largest_inner.off -o /neurd_packages/NEURD/Applications/Tutorials/Auto_Proof_Pipeline/Double_Soma/12345/neuron_12345_decimated_largest_piece_poisson_largest_inner_decimated.off -s /neurd_packages/NEURD/Applications/Tutorials/Auto_Proof_Pipeline/Double_Soma/12345/decimation_meshlab_25774910.mls\n",
      "\n",
      "-------Splits after inner decimation len = 1--------\n",
      "\n",
      "done exporting decimated mesh: neuron_12345_decimated_largest_piece_poisson_largest_inner.off\n",
      "\n",
      "    --- On segmentation loop 0 --\n",
      "largest_mesh_path_inner_decimated_clean = <trimesh.Trimesh(vertices.shape=(2671, 3), faces.shape=(5338, 3))>\n",
      "\n",
      "largest_mesh_path_inner_decimated_clean = <trimesh.Trimesh(vertices.shape=(2671, 3), faces.shape=(5338, 3))>\n",
      "soma_size_threshold = 562.5\n",
      "soma_size_threshold_max = 75000.0\n",
      "soma_width_threshold = 0.32\n",
      "\n",
      "Number of segments: 3\n",
      "\n"
     ]
    },
    {
     "data": {
      "application/vnd.jupyter.widget-view+json": {
       "model_id": "dcb8ec7a19d5445ea3320eda865b24de",
       "version_major": 2,
       "version_minor": 0
      },
      "text/plain": [
       "  0%|          | 0/3 [00:00<?, ?it/s]"
      ]
     },
     "metadata": {},
     "output_type": "display_data"
    },
    {
     "name": "stdout",
     "output_type": "stream",
     "text": [
      "      ------ Found 2 viable somas: [0.781901, 0.3351845]\n",
      "Using Poisson Surface Reconstruction for watertightness in soma_volume_ratio\n",
      "xvfb-run -n 4586 -s \"-screen 0 800x600x24\" meshlabserver $@  -i /neurd_packages/NEURD/Applications/Tutorials/Auto_Proof_Pipeline/Double_Soma/Poisson_temp/neuron_373859.off -o /neurd_packages/NEURD/Applications/Tutorials/Auto_Proof_Pipeline/Double_Soma/Poisson_temp/neuron_373859_poisson.off -s /neurd_packages/NEURD/Applications/Tutorials/Auto_Proof_Pipeline/Double_Soma/Poisson_temp/poisson_927450.mls\n",
      "removed temporary input file: /neurd_packages/NEURD/Applications/Tutorials/Auto_Proof_Pipeline/Double_Soma/Poisson_temp/neuron_373859.off\n",
      "removed temporary output file: /neurd_packages/NEURD/Applications/Tutorials/Auto_Proof_Pipeline/Double_Soma/Poisson_temp/neuron_373859_poisson.off\n",
      "mesh.is_watertight = True\n",
      "/neurd_packages/NEURD/Applications/Tutorials/Auto_Proof_Pipeline/Double_Soma/Poisson_temp/poisson_927450.mls is being deleted....\n",
      "Inside sphere validater: ratio_val = 2.130721459144365\n",
      "Using Poisson Surface Reconstruction for watertightness in soma_volume_ratio\n",
      "xvfb-run -n 5374 -s \"-screen 0 800x600x24\" meshlabserver $@  -i /neurd_packages/NEURD/Applications/Tutorials/Auto_Proof_Pipeline/Double_Soma/Poisson_temp/neuron_268998.off -o /neurd_packages/NEURD/Applications/Tutorials/Auto_Proof_Pipeline/Double_Soma/Poisson_temp/neuron_268998_poisson.off -s /neurd_packages/NEURD/Applications/Tutorials/Auto_Proof_Pipeline/Double_Soma/Poisson_temp/poisson_269704.mls\n",
      "removed temporary input file: /neurd_packages/NEURD/Applications/Tutorials/Auto_Proof_Pipeline/Double_Soma/Poisson_temp/neuron_268998.off\n",
      "removed temporary output file: /neurd_packages/NEURD/Applications/Tutorials/Auto_Proof_Pipeline/Double_Soma/Poisson_temp/neuron_268998_poisson.off\n",
      "mesh.is_watertight = True\n",
      "/neurd_packages/NEURD/Applications/Tutorials/Auto_Proof_Pipeline/Double_Soma/Poisson_temp/poisson_269704.mls is being deleted....\n",
      "Inside sphere validater: ratio_val = 2.4907819152454254\n",
      "\n",
      "\n",
      "\n",
      " Total time for run = 80.59978199005127\n",
      "Before Filtering the number of somas found = 3\n",
      "\n",
      "---Performing Soma Mesh Backtracking to original mesh for poisson soma 0\n",
      "backtrack_soma_size_threshold = 8000\n",
      "xvfb-run -n 7444 -s \"-screen 0 800x600x24\" meshlabserver $@  -i /neurd_packages/NEURD/Applications/Tutorials/Auto_Proof_Pipeline/Double_Soma/temp/neuron_73351.off -o /neurd_packages/NEURD/Applications/Tutorials/Auto_Proof_Pipeline/Double_Soma/temp/neuron_73351_fill_holes.off -s /neurd_packages/NEURD/Applications/Tutorials/Auto_Proof_Pipeline/Double_Soma/temp/fill_holes_564057.mls\n",
      "\n",
      "---- meshlab output -----\n",
      "QStandardPaths: XDG_RUNTIME_DIR not set, defaulting to '/tmp/runtime-root'\n",
      "Current Plugins Dir is: /meshlab/src/distrib/plugins \n",
      "Error While parsing the XML filter plugin descriptors: We are trying to load a xml file that does not correspond to any dll or javascript code; please delete all the spurious xml files\n",
      "Error While parsing the XML filter plugin descriptors: We are trying to load a xml file that does not correspond to any dll or javascript code; please delete all the spurious xml files\n",
      "Opening a file with extention off\n",
      "FilterScript\n",
      "Reading filter with name Remove Duplicate Vertices\n",
      "Reading filter with name Remove Faces from Non Manifold Edges\n",
      "Reading filter with name Close Holes\n",
      "    Reading Param with name MaxHoleSize : RichInt\n",
      "    Reading Param with name Selected : RichBool\n",
      "    Reading Param with name NewFaceSelected : RichBool\n",
      "    Reading Param with name SelfIntersection : RichBool\n",
      "Loading Plugins:\n",
      "Total 105 filtering actions\n",
      "Total 1 io plugins\n",
      "Mesh /neurd_packages/NEURD/Applications/Tutorials/Auto_Proof_Pipeline/Double_Soma/temp/neuron_73351.off loaded has 21848 vn 42079 fn\n",
      "output mesh  /neurd_packages/NEURD/Applications/Tutorials/Auto_Proof_Pipeline/Double_Soma/temp/neuron_73351_fill_holes.off\n",
      "Apply FilterScript: '/neurd_packages/NEURD/Applications/Tutorials/Auto_Proof_Pipeline/Double_Soma/temp/fill_holes_564057.mls'\n",
      "Starting Script of 3 actionsfilter: Remove Duplicate Vertices\n",
      "no additional memory available!!! memory required: 1029300\n",
      "LOG: 2 Removed 0 duplicated vertices\n",
      "Removed 0 duplicated vertices\n",
      "filter: Remove Faces from Non Manifold Edges\n",
      "no additional memory available!!! memory required: 1029300\n",
      "LOG: 2 Successfully removed 4223 non-manifold faces\n",
      "Removed 0 duplicated vertices\n",
      "Successfully removed 4223 non-manifold faces\n",
      "filter: Close Holes\n",
      "no additional memory available!!! memory required: 978624\n",
      "meshlabserver: ../../../../vcglib/vcg/complex/algorithms/hole.h:259: bool vcg::tri::TrivialEar<MESH>::Close(vcg::tri::TrivialEar<MESH>::PosType&, vcg::tri::TrivialEar<MESH>::PosType&, vcg::tri::TrivialEar<MESH>::FaceType*) [with MESH = CMeshO; vcg::tri::TrivialEar<MESH>::PosType = vcg::face::Pos<CFaceO>; typename MeshType::FaceType = CFaceO; vcg::tri::TrivialEar<MESH>::FaceType = CFaceO]: Assertion `e1.v->IsUserBit(NonManifoldBit())' failed.\n",
      "Aborted (core dumped)\n",
      "\n",
      "\n",
      " returncode ====== 134\n",
      "\n",
      " ------ Done with meshlab output------\n",
      "/neurd_packages/NEURD/Applications/Tutorials/Auto_Proof_Pipeline/Double_Soma/temp/fill_holes_564057.mls is being deleted....\n",
      "The hole closing did not work so continuing without\n",
      "xvfb-run -n 9999 -s \"-screen 0 800x600x24\" meshlabserver $@  -i /neurd_packages/NEURD/Applications/Tutorials/Auto_Proof_Pipeline/Double_Soma/temp/neuron_35299.off -o /neurd_packages/NEURD/Applications/Tutorials/Auto_Proof_Pipeline/Double_Soma/temp/neuron_35299_remove_interior.off -s /neurd_packages/NEURD/Applications/Tutorials/Auto_Proof_Pipeline/Double_Soma/temp/remove_interior_817510.mls\n",
      "removed temporary input file: /neurd_packages/NEURD/Applications/Tutorials/Auto_Proof_Pipeline/Double_Soma/temp/neuron_35299.off\n",
      "removed temporary output file: /neurd_packages/NEURD/Applications/Tutorials/Auto_Proof_Pipeline/Double_Soma/temp/neuron_35299_remove_interior.off\n",
      "/neurd_packages/NEURD/Applications/Tutorials/Auto_Proof_Pipeline/Double_Soma/temp/remove_interior_817510.mls is being deleted....\n",
      "Removing the following inside neurons: [<trimesh.Trimesh(vertices.shape=(363, 3), faces.shape=(876, 3))>, <trimesh.Trimesh(vertices.shape=(301, 3), faces.shape=(613, 3))>, <trimesh.Trimesh(vertices.shape=(253, 3), faces.shape=(632, 3))>, <trimesh.Trimesh(vertices.shape=(199, 3), faces.shape=(446, 3))>, <trimesh.Trimesh(vertices.shape=(176, 3), faces.shape=(418, 3))>]\n",
      "split_meshes_after_backtrack = [<trimesh.Trimesh(vertices.shape=(11386, 3), faces.shape=(22560, 3))>]\n",
      "soma_size_threshold = 8000\n",
      "After backtrack the found 1 possible somas: [<trimesh.Trimesh(vertices.shape=(11386, 3), faces.shape=(22560, 3))>] \n",
      "\n",
      "--- working on backtrack soma 0: <trimesh.Trimesh(vertices.shape=(11386, 3), faces.shape=(22560, 3))>\n",
      "poisson_backtrack_distance_threshold = None\n",
      "Using Poisson Surface Reconstruction for watertightness in soma_volume_ratio\n",
      "xvfb-run -n 4745 -s \"-screen 0 800x600x24\" meshlabserver $@  -i /neurd_packages/NEURD/Applications/Tutorials/Auto_Proof_Pipeline/Double_Soma/Poisson_temp/neuron_796163.off -o /neurd_packages/NEURD/Applications/Tutorials/Auto_Proof_Pipeline/Double_Soma/Poisson_temp/neuron_796163_poisson.off -s /neurd_packages/NEURD/Applications/Tutorials/Auto_Proof_Pipeline/Double_Soma/Poisson_temp/poisson_846732.mls\n",
      "removed temporary input file: /neurd_packages/NEURD/Applications/Tutorials/Auto_Proof_Pipeline/Double_Soma/Poisson_temp/neuron_796163.off\n",
      "removed temporary output file: /neurd_packages/NEURD/Applications/Tutorials/Auto_Proof_Pipeline/Double_Soma/Poisson_temp/neuron_796163_poisson.off\n",
      "mesh.is_watertight = True\n",
      "/neurd_packages/NEURD/Applications/Tutorials/Auto_Proof_Pipeline/Double_Soma/Poisson_temp/poisson_846732.mls is being deleted....\n",
      "Inside sphere validater: ratio_val = 4.115475404999649\n",
      "About to add the following inside nuclei pieces after soma backtrack: [<trimesh.Trimesh(vertices.shape=(6494, 3), faces.shape=(15575, 3))>, <trimesh.Trimesh(vertices.shape=(3256, 3), faces.shape=(5810, 3))>, <trimesh.Trimesh(vertices.shape=(2064, 3), faces.shape=(4789, 3))>, <trimesh.Trimesh(vertices.shape=(2022, 3), faces.shape=(4628, 3))>, <trimesh.Trimesh(vertices.shape=(1922, 3), faces.shape=(4396, 3))>, <trimesh.Trimesh(vertices.shape=(1089, 3), faces.shape=(2556, 3))>, <trimesh.Trimesh(vertices.shape=(864, 3), faces.shape=(1989, 3))>, <trimesh.Trimesh(vertices.shape=(723, 3), faces.shape=(1611, 3))>, <trimesh.Trimesh(vertices.shape=(693, 3), faces.shape=(1561, 3))>, <trimesh.Trimesh(vertices.shape=(612, 3), faces.shape=(1378, 3))>, <trimesh.Trimesh(vertices.shape=(456, 3), faces.shape=(742, 3))>, <trimesh.Trimesh(vertices.shape=(344, 3), faces.shape=(727, 3))>]\n",
      "\n",
      "---Performing Soma Mesh Backtracking to original mesh for poisson soma 1\n",
      "backtrack_soma_size_threshold = 8000\n"
     ]
    },
    {
     "name": "stdout",
     "output_type": "stream",
     "text": [
      "xvfb-run -n 4499 -s \"-screen 0 800x600x24\" meshlabserver $@  -i /neurd_packages/NEURD/Applications/Tutorials/Auto_Proof_Pipeline/Double_Soma/temp/neuron_96464.off -o /neurd_packages/NEURD/Applications/Tutorials/Auto_Proof_Pipeline/Double_Soma/temp/neuron_96464_fill_holes.off -s /neurd_packages/NEURD/Applications/Tutorials/Auto_Proof_Pipeline/Double_Soma/temp/fill_holes_957733.mls\n",
      "\n",
      "---- meshlab output -----\n",
      "QStandardPaths: XDG_RUNTIME_DIR not set, defaulting to '/tmp/runtime-root'\n",
      "Current Plugins Dir is: /meshlab/src/distrib/plugins \n",
      "Error While parsing the XML filter plugin descriptors: We are trying to load a xml file that does not correspond to any dll or javascript code; please delete all the spurious xml files\n",
      "Error While parsing the XML filter plugin descriptors: We are trying to load a xml file that does not correspond to any dll or javascript code; please delete all the spurious xml files\n",
      "Opening a file with extention off\n",
      "FilterScript\n",
      "Reading filter with name Remove Duplicate Vertices\n",
      "Reading filter with name Remove Faces from Non Manifold Edges\n",
      "Reading filter with name Close Holes\n",
      "    Reading Param with name MaxHoleSize : RichInt\n",
      "    Reading Param with name Selected : RichBool\n",
      "    Reading Param with name NewFaceSelected : RichBool\n",
      "    Reading Param with name SelfIntersection : RichBool\n",
      "Loading Plugins:\n",
      "Total 105 filtering actions\n",
      "Total 1 io plugins\n",
      "Mesh /neurd_packages/NEURD/Applications/Tutorials/Auto_Proof_Pipeline/Double_Soma/temp/neuron_96464.off loaded has 11899 vn 22569 fn\n",
      "output mesh  /neurd_packages/NEURD/Applications/Tutorials/Auto_Proof_Pipeline/Double_Soma/temp/neuron_96464_fill_holes.off\n",
      "Apply FilterScript: '/neurd_packages/NEURD/Applications/Tutorials/Auto_Proof_Pipeline/Double_Soma/temp/fill_holes_957733.mls'\n",
      "Starting Script of 3 actionsfilter: Remove Duplicate Vertices\n",
      "no additional memory available!!! memory required: 556404\n",
      "LOG: 2 Removed 0 duplicated vertices\n",
      "Removed 0 duplicated vertices\n",
      "filter: Remove Faces from Non Manifold Edges\n",
      "no additional memory available!!! memory required: 556404\n",
      "LOG: 2 Successfully removed 1995 non-manifold faces\n",
      "Removed 0 duplicated vertices\n",
      "Successfully removed 1995 non-manifold faces\n",
      "filter: Close Holes\n",
      "no additional memory available!!! memory required: 532464\n",
      "meshlabserver: ../../../../vcglib/vcg/complex/algorithms/hole.h:259: bool vcg::tri::TrivialEar<MESH>::Close(vcg::tri::TrivialEar<MESH>::PosType&, vcg::tri::TrivialEar<MESH>::PosType&, vcg::tri::TrivialEar<MESH>::FaceType*) [with MESH = CMeshO; vcg::tri::TrivialEar<MESH>::PosType = vcg::face::Pos<CFaceO>; typename MeshType::FaceType = CFaceO; vcg::tri::TrivialEar<MESH>::FaceType = CFaceO]: Assertion `e1.v->IsUserBit(NonManifoldBit())' failed.\n",
      "Aborted (core dumped)\n",
      "\n",
      "\n",
      " returncode ====== 134\n",
      "\n",
      " ------ Done with meshlab output------\n",
      "/neurd_packages/NEURD/Applications/Tutorials/Auto_Proof_Pipeline/Double_Soma/temp/fill_holes_957733.mls is being deleted....\n",
      "The hole closing did not work so continuing without\n",
      "xvfb-run -n 2892 -s \"-screen 0 800x600x24\" meshlabserver $@  -i /neurd_packages/NEURD/Applications/Tutorials/Auto_Proof_Pipeline/Double_Soma/temp/neuron_66140.off -o /neurd_packages/NEURD/Applications/Tutorials/Auto_Proof_Pipeline/Double_Soma/temp/neuron_66140_remove_interior.off -s /neurd_packages/NEURD/Applications/Tutorials/Auto_Proof_Pipeline/Double_Soma/temp/remove_interior_190613.mls\n",
      "removed temporary input file: /neurd_packages/NEURD/Applications/Tutorials/Auto_Proof_Pipeline/Double_Soma/temp/neuron_66140.off\n",
      "removed temporary output file: /neurd_packages/NEURD/Applications/Tutorials/Auto_Proof_Pipeline/Double_Soma/temp/neuron_66140_remove_interior.off\n",
      "/neurd_packages/NEURD/Applications/Tutorials/Auto_Proof_Pipeline/Double_Soma/temp/remove_interior_190613.mls is being deleted....\n",
      "Removing the following inside neurons: [<trimesh.Trimesh(vertices.shape=(328, 3), faces.shape=(686, 3))>, <trimesh.Trimesh(vertices.shape=(145, 3), faces.shape=(317, 3))>]\n",
      "split_meshes_after_backtrack = [<trimesh.Trimesh(vertices.shape=(4698, 3), faces.shape=(7809, 3))>, <trimesh.Trimesh(vertices.shape=(2761, 3), faces.shape=(4711, 3))>]\n",
      "soma_size_threshold = 8000\n",
      "After backtrack the found 0 possible somas: [] \n",
      "\n",
      "---Performing Soma Mesh Backtracking to original mesh for poisson soma 2\n",
      "backtrack_soma_size_threshold = 8000\n",
      "xvfb-run -n 6511 -s \"-screen 0 800x600x24\" meshlabserver $@  -i /neurd_packages/NEURD/Applications/Tutorials/Auto_Proof_Pipeline/Double_Soma/temp/neuron_20560.off -o /neurd_packages/NEURD/Applications/Tutorials/Auto_Proof_Pipeline/Double_Soma/temp/neuron_20560_fill_holes.off -s /neurd_packages/NEURD/Applications/Tutorials/Auto_Proof_Pipeline/Double_Soma/temp/fill_holes_594946.mls\n",
      "\n",
      "---- meshlab output -----\n",
      "QStandardPaths: XDG_RUNTIME_DIR not set, defaulting to '/tmp/runtime-root'\n",
      "Current Plugins Dir is: /meshlab/src/distrib/plugins \n",
      "Error While parsing the XML filter plugin descriptors: We are trying to load a xml file that does not correspond to any dll or javascript code; please delete all the spurious xml files\n",
      "Error While parsing the XML filter plugin descriptors: We are trying to load a xml file that does not correspond to any dll or javascript code; please delete all the spurious xml files\n",
      "Opening a file with extention off\n",
      "FilterScript\n",
      "Reading filter with name Remove Duplicate Vertices\n",
      "Reading filter with name Remove Faces from Non Manifold Edges\n",
      "Reading filter with name Close Holes\n",
      "    Reading Param with name MaxHoleSize : RichInt\n",
      "    Reading Param with name Selected : RichBool\n",
      "    Reading Param with name NewFaceSelected : RichBool\n",
      "    Reading Param with name SelfIntersection : RichBool\n",
      "Loading Plugins:\n",
      "Total 105 filtering actions\n",
      "Total 1 io plugins\n",
      "Mesh /neurd_packages/NEURD/Applications/Tutorials/Auto_Proof_Pipeline/Double_Soma/temp/neuron_20560.off loaded has 11083 vn 21026 fn\n",
      "output mesh  /neurd_packages/NEURD/Applications/Tutorials/Auto_Proof_Pipeline/Double_Soma/temp/neuron_20560_fill_holes.off\n",
      "Apply FilterScript: '/neurd_packages/NEURD/Applications/Tutorials/Auto_Proof_Pipeline/Double_Soma/temp/fill_holes_594946.mls'\n",
      "Starting Script of 3 actionsfilter: Remove Duplicate Vertices\n",
      "no additional memory available!!! memory required: 518304\n",
      "LOG: 2 Removed 0 duplicated vertices\n",
      "Removed 0 duplicated vertices\n",
      "filter: Remove Faces from Non Manifold Edges\n",
      "no additional memory available!!! memory required: 518304\n",
      "LOG: 2 Successfully removed 1600 non-manifold faces\n",
      "Removed 0 duplicated vertices\n",
      "Successfully removed 1600 non-manifold faces\n",
      "filter: Close Holes\n",
      "no additional memory available!!! memory required: 499104\n",
      "meshlabserver: ../../../../vcglib/vcg/complex/algorithms/hole.h:259: bool vcg::tri::TrivialEar<MESH>::Close(vcg::tri::TrivialEar<MESH>::PosType&, vcg::tri::TrivialEar<MESH>::PosType&, vcg::tri::TrivialEar<MESH>::FaceType*) [with MESH = CMeshO; vcg::tri::TrivialEar<MESH>::PosType = vcg::face::Pos<CFaceO>; typename MeshType::FaceType = CFaceO; vcg::tri::TrivialEar<MESH>::FaceType = CFaceO]: Assertion `e1.v->IsUserBit(NonManifoldBit())' failed.\n",
      "Aborted (core dumped)\n",
      "\n",
      "\n",
      " returncode ====== 134\n",
      "\n",
      " ------ Done with meshlab output------\n",
      "/neurd_packages/NEURD/Applications/Tutorials/Auto_Proof_Pipeline/Double_Soma/temp/fill_holes_594946.mls is being deleted....\n",
      "The hole closing did not work so continuing without\n",
      "xvfb-run -n 6685 -s \"-screen 0 800x600x24\" meshlabserver $@  -i /neurd_packages/NEURD/Applications/Tutorials/Auto_Proof_Pipeline/Double_Soma/temp/neuron_30071.off -o /neurd_packages/NEURD/Applications/Tutorials/Auto_Proof_Pipeline/Double_Soma/temp/neuron_30071_remove_interior.off -s /neurd_packages/NEURD/Applications/Tutorials/Auto_Proof_Pipeline/Double_Soma/temp/remove_interior_483534.mls\n",
      "removed temporary input file: /neurd_packages/NEURD/Applications/Tutorials/Auto_Proof_Pipeline/Double_Soma/temp/neuron_30071.off\n",
      "removed temporary output file: /neurd_packages/NEURD/Applications/Tutorials/Auto_Proof_Pipeline/Double_Soma/temp/neuron_30071_remove_interior.off\n",
      "/neurd_packages/NEURD/Applications/Tutorials/Auto_Proof_Pipeline/Double_Soma/temp/remove_interior_483534.mls is being deleted....\n",
      "Removing the following inside neurons: [<trimesh.Trimesh(vertices.shape=(145, 3), faces.shape=(317, 3))>]\n",
      "split_meshes_after_backtrack = [<trimesh.Trimesh(vertices.shape=(5708, 3), faces.shape=(10517, 3))>]\n",
      "soma_size_threshold = 8000\n",
      "After backtrack the found 1 possible somas: [<trimesh.Trimesh(vertices.shape=(5708, 3), faces.shape=(10517, 3))>] \n",
      "\n",
      "--- working on backtrack soma 0: <trimesh.Trimesh(vertices.shape=(5708, 3), faces.shape=(10517, 3))>\n",
      "poisson_backtrack_distance_threshold = None\n",
      "Using Poisson Surface Reconstruction for watertightness in soma_volume_ratio\n",
      "xvfb-run -n 8120 -s \"-screen 0 800x600x24\" meshlabserver $@  -i /neurd_packages/NEURD/Applications/Tutorials/Auto_Proof_Pipeline/Double_Soma/Poisson_temp/neuron_942007.off -o /neurd_packages/NEURD/Applications/Tutorials/Auto_Proof_Pipeline/Double_Soma/Poisson_temp/neuron_942007_poisson.off -s /neurd_packages/NEURD/Applications/Tutorials/Auto_Proof_Pipeline/Double_Soma/Poisson_temp/poisson_78098.mls\n"
     ]
    },
    {
     "name": "stdout",
     "output_type": "stream",
     "text": [
      "removed temporary input file: /neurd_packages/NEURD/Applications/Tutorials/Auto_Proof_Pipeline/Double_Soma/Poisson_temp/neuron_942007.off\n",
      "removed temporary output file: /neurd_packages/NEURD/Applications/Tutorials/Auto_Proof_Pipeline/Double_Soma/Poisson_temp/neuron_942007_poisson.off\n",
      "mesh.is_watertight = False\n",
      "/neurd_packages/NEURD/Applications/Tutorials/Auto_Proof_Pipeline/Double_Soma/Poisson_temp/poisson_78098.mls is being deleted....\n",
      "Inside sphere validater: ratio_val = 2.779561458917224\n",
      "About to add the following inside nuclei pieces after soma backtrack: [<trimesh.Trimesh(vertices.shape=(6494, 3), faces.shape=(15575, 3))>, <trimesh.Trimesh(vertices.shape=(3256, 3), faces.shape=(5810, 3))>, <trimesh.Trimesh(vertices.shape=(2064, 3), faces.shape=(4789, 3))>, <trimesh.Trimesh(vertices.shape=(2022, 3), faces.shape=(4628, 3))>, <trimesh.Trimesh(vertices.shape=(1922, 3), faces.shape=(4396, 3))>, <trimesh.Trimesh(vertices.shape=(1089, 3), faces.shape=(2556, 3))>, <trimesh.Trimesh(vertices.shape=(864, 3), faces.shape=(1989, 3))>, <trimesh.Trimesh(vertices.shape=(723, 3), faces.shape=(1611, 3))>, <trimesh.Trimesh(vertices.shape=(693, 3), faces.shape=(1561, 3))>, <trimesh.Trimesh(vertices.shape=(612, 3), faces.shape=(1378, 3))>, <trimesh.Trimesh(vertices.shape=(456, 3), faces.shape=(742, 3))>, <trimesh.Trimesh(vertices.shape=(344, 3), faces.shape=(727, 3))>, <trimesh.Trimesh(vertices.shape=(363, 3), faces.shape=(876, 3))>, <trimesh.Trimesh(vertices.shape=(301, 3), faces.shape=(613, 3))>, <trimesh.Trimesh(vertices.shape=(253, 3), faces.shape=(632, 3))>, <trimesh.Trimesh(vertices.shape=(199, 3), faces.shape=(446, 3))>, <trimesh.Trimesh(vertices.shape=(176, 3), faces.shape=(418, 3))>]\n",
      "Skipping the segmentatio filter at end\n",
      "removing mesh interior before segmentation\n",
      "xvfb-run -n 6179 -s \"-screen 0 800x600x24\" meshlabserver $@  -i /neurd_packages/NEURD/Applications/Tutorials/Auto_Proof_Pipeline/Double_Soma/temp/neuron_37952.off -o /neurd_packages/NEURD/Applications/Tutorials/Auto_Proof_Pipeline/Double_Soma/temp/neuron_37952_fill_holes.off -s /neurd_packages/NEURD/Applications/Tutorials/Auto_Proof_Pipeline/Double_Soma/temp/fill_holes_668256.mls\n",
      "removed temporary input file: /neurd_packages/NEURD/Applications/Tutorials/Auto_Proof_Pipeline/Double_Soma/temp/neuron_37952.off\n",
      "removed temporary output file: /neurd_packages/NEURD/Applications/Tutorials/Auto_Proof_Pipeline/Double_Soma/temp/neuron_37952_fill_holes.off\n",
      "/neurd_packages/NEURD/Applications/Tutorials/Auto_Proof_Pipeline/Double_Soma/temp/fill_holes_668256.mls is being deleted....\n",
      "xvfb-run -n 1279 -s \"-screen 0 800x600x24\" meshlabserver $@  -i /neurd_packages/NEURD/Applications/Tutorials/Auto_Proof_Pipeline/Double_Soma/temp/neuron_80700.off -o /neurd_packages/NEURD/Applications/Tutorials/Auto_Proof_Pipeline/Double_Soma/temp/neuron_80700_remove_interior.off -s /neurd_packages/NEURD/Applications/Tutorials/Auto_Proof_Pipeline/Double_Soma/temp/remove_interior_374066.mls\n",
      "removed temporary input file: /neurd_packages/NEURD/Applications/Tutorials/Auto_Proof_Pipeline/Double_Soma/temp/neuron_80700.off\n",
      "removed temporary output file: /neurd_packages/NEURD/Applications/Tutorials/Auto_Proof_Pipeline/Double_Soma/temp/neuron_80700_remove_interior.off\n",
      "/neurd_packages/NEURD/Applications/Tutorials/Auto_Proof_Pipeline/Double_Soma/temp/remove_interior_374066.mls is being deleted....\n",
      "No significant (1000) interior meshes present\n",
      "largest is 289\n",
      "Doing the soma segmentation filter at end\n",
      "\n",
      "Number of segments: 9\n",
      "\n"
     ]
    },
    {
     "data": {
      "application/vnd.jupyter.widget-view+json": {
       "model_id": "5a96aaae5ded4ac79a3be326d75d76ee",
       "version_major": 2,
       "version_minor": 0
      },
      "text/plain": [
       "  0%|          | 0/9 [00:00<?, ?it/s]"
      ]
     },
     "metadata": {},
     "output_type": "display_data"
    },
    {
     "name": "stdout",
     "output_type": "stream",
     "text": [
      "Largest hole before segmentation = 84198.44608552229, after = 79686.03659527568,\n",
      "\n",
      "ratio = 0.9464074493053798, difference = -4512.409490246602\n",
      "Skipping the segmentatio filter at end\n",
      "removing mesh interior before segmentation\n",
      "xvfb-run -n 8857 -s \"-screen 0 800x600x24\" meshlabserver $@  -i /neurd_packages/NEURD/Applications/Tutorials/Auto_Proof_Pipeline/Double_Soma/temp/neuron_7423.off -o /neurd_packages/NEURD/Applications/Tutorials/Auto_Proof_Pipeline/Double_Soma/temp/neuron_7423_fill_holes.off -s /neurd_packages/NEURD/Applications/Tutorials/Auto_Proof_Pipeline/Double_Soma/temp/fill_holes_837030.mls\n",
      "removed temporary input file: /neurd_packages/NEURD/Applications/Tutorials/Auto_Proof_Pipeline/Double_Soma/temp/neuron_7423.off\n",
      "removed temporary output file: /neurd_packages/NEURD/Applications/Tutorials/Auto_Proof_Pipeline/Double_Soma/temp/neuron_7423_fill_holes.off\n",
      "/neurd_packages/NEURD/Applications/Tutorials/Auto_Proof_Pipeline/Double_Soma/temp/fill_holes_837030.mls is being deleted....\n",
      "xvfb-run -n 3701 -s \"-screen 0 800x600x24\" meshlabserver $@  -i /neurd_packages/NEURD/Applications/Tutorials/Auto_Proof_Pipeline/Double_Soma/temp/neuron_55504.off -o /neurd_packages/NEURD/Applications/Tutorials/Auto_Proof_Pipeline/Double_Soma/temp/neuron_55504_remove_interior.off -s /neurd_packages/NEURD/Applications/Tutorials/Auto_Proof_Pipeline/Double_Soma/temp/remove_interior_514913.mls\n",
      "removed temporary input file: /neurd_packages/NEURD/Applications/Tutorials/Auto_Proof_Pipeline/Double_Soma/temp/neuron_55504.off\n",
      "removed temporary output file: /neurd_packages/NEURD/Applications/Tutorials/Auto_Proof_Pipeline/Double_Soma/temp/neuron_55504_remove_interior.off\n",
      "/neurd_packages/NEURD/Applications/Tutorials/Auto_Proof_Pipeline/Double_Soma/temp/remove_interior_514913.mls is being deleted....\n",
      "No significant (1000) interior meshes present\n",
      "largest is 48\n",
      "Doing the soma segmentation filter at end\n",
      "\n",
      "Number of segments: 2\n",
      "\n"
     ]
    },
    {
     "data": {
      "application/vnd.jupyter.widget-view+json": {
       "model_id": "f08f0a676cde46d58c81b09cf05d776b",
       "version_major": 2,
       "version_minor": 0
      },
      "text/plain": [
       "  0%|          | 0/2 [00:00<?, ?it/s]"
      ]
     },
     "metadata": {},
     "output_type": "display_data"
    },
    {
     "name": "stdout",
     "output_type": "stream",
     "text": [
      "No split meshes were above the width threshold (0.32) and size threshold (2000) so continuing\n",
      "So just going with old somas\n",
      "filtered_soma_list_components = [<trimesh.Trimesh(vertices.shape=(11386, 3), faces.shape=(22560, 3))>\n",
      " <trimesh.Trimesh(vertices.shape=(5708, 3), faces.shape=(10517, 3))>]\n",
      "Not need to do a second pass because already found a soma\n"
     ]
    }
   ],
   "source": [
    "from neurd import neuron_visualizations as nviz\n",
    "\n",
    "verbose = True\n",
    "\n",
    "soma_products = sm.soma_indentification(\n",
    "    mesh_decimated,\n",
    "    verbose=verbose,\n",
    "    **soma_extraction_parameters\n",
    ")"
   ]
  },
  {
   "cell_type": "code",
   "execution_count": 19,
   "id": "9944a7b9",
   "metadata": {},
   "outputs": [
    {
     "data": {
      "text/plain": [
       "80.59977841377258"
      ]
     },
     "execution_count": 19,
     "metadata": {},
     "output_type": "execute_result"
    }
   ],
   "source": [
    "soma_products.soma_run_time"
   ]
  },
  {
   "cell_type": "code",
   "execution_count": 20,
   "id": "6a79d754",
   "metadata": {},
   "outputs": [
    {
     "name": "stdout",
     "output_type": "stream",
     "text": [
      "# of somas = 2\n",
      "# of glia = 0\n",
      "# of nuclei = 18\n"
     ]
    },
    {
     "data": {
      "application/vnd.jupyter.widget-view+json": {
       "model_id": "6358d86ee8df47f8965380801225def6",
       "version_major": 2,
       "version_minor": 0
      },
      "text/plain": [
       "Container(figure=Figure(box_center=[0.5, 0.5, 0.5], box_size=[1.0, 1.0, 1.0], camera=PerspectiveCamera(fov=45.…"
      ]
     },
     "metadata": {},
     "output_type": "display_data"
    }
   ],
   "source": [
    "sm.plot_soma_products(\n",
    "    mesh_decimated,\n",
    "    soma_products = soma_products,\n",
    "    verbose = True\n",
    ")"
   ]
  },
  {
   "cell_type": "code",
   "execution_count": 21,
   "id": "a5056278",
   "metadata": {
    "scrolled": true
   },
   "outputs": [
    {
     "name": "stdout",
     "output_type": "stream",
     "text": [
      "{\n",
      "  'decimation':\n",
      "  {\n",
      "    'decimation_parameters':\n",
      "    {\n",
      "      'decimation_ratio':0.25,\n",
      "    },\n",
      "    'segment_id':864691135510518224,\n",
      "  },\n",
      "  'soma_identification':\n",
      "  {\n",
      "    'glia_meshes':[],\n",
      "    'nuclei_meshes':[<trimesh.Trimesh(vertices.shape=(6494, 3), faces.shape=(15575, 3))>, <trimesh.Trimesh(vertices.shape=(3256, 3), faces.shape=(5810, 3))>, <trimesh.Trimesh(vertices.shape=(2064, 3), faces.shape=(4789, 3))>, <trimesh.Trimesh(vertices.shape=(2022, 3), faces.shape=(4628, 3))>, <trimesh.Trimesh(vertices.shape=(1922, 3), faces.shape=(4396, 3))>, <trimesh.Trimesh(vertices.shape=(1089, 3), faces.shape=(2556, 3))>, <trimesh.Trimesh(vertices.shape=(864, 3), faces.shape=(1989, 3))>, <trimesh.Trimesh(vertices.shape=(723, 3), faces.shape=(1611, 3))>, <trimesh.Trimesh(vertices.shape=(693, 3), faces.shape=(1561, 3))>, <trimesh.Trimesh(vertices.shape=(612, 3), faces.shape=(1378, 3))>, <trimesh.Trimesh(vertices.shape=(456, 3), faces.shape=(742, 3))>, <trimesh.Trimesh(vertices.shape=(344, 3), faces.shape=(727, 3))>, <trimesh.Trimesh(vertices.shape=(363, 3), faces.shape=(876, 3))>, <trimesh.Trimesh(vertices.shape=(301, 3), faces.shape=(613, 3))>, <trimesh.Trimesh(vertices.shape=(253, 3), faces.shape=(632, 3))>, <trimesh.Trimesh(vertices.shape=(199, 3), faces.shape=(446, 3))>, <trimesh.Trimesh(vertices.shape=(176, 3), faces.shape=(418, 3))>, <trimesh.Trimesh(vertices.shape=(145, 3), faces.shape=(317, 3))>],\n",
      "    'soma_extraction_parameters':\n",
      "    {\n",
      "    },\n",
      "    'soma_meshes':[<trimesh.Trimesh(vertices.shape=(11386, 3), faces.shape=(22560, 3))>, <trimesh.Trimesh(vertices.shape=(5708, 3), faces.shape=(10517, 3))>],\n",
      "    'soma_run_time':80.59977841377258,\n",
      "    'soma_sdfs':array([0.769893 , 0.3351845]),\n",
      "  },\n",
      "}\n",
      "\n"
     ]
    }
   ],
   "source": [
    "products.set_stage_attrs(\n",
    "    stage = \"soma_identification\",\n",
    "    attr_dict = soma_products,\n",
    ")\n",
    "\n",
    "print(products)"
   ]
  },
  {
   "cell_type": "markdown",
   "id": "da45be47",
   "metadata": {},
   "source": [
    "# Step 2b: Saving off pipeline products"
   ]
  },
  {
   "cell_type": "code",
   "execution_count": 22,
   "id": "c99ef858",
   "metadata": {
    "scrolled": true
   },
   "outputs": [
    {
     "name": "stdout",
     "output_type": "stream",
     "text": [
      "Saved object at /neurd_packages/NEURD/Applications/Tutorials/Auto_Proof_Pipeline/Double_Soma/products_up_to_soma_stage.pkl\n",
      "File size is 4.589403 MB\n",
      "Cleared mesh: <trimesh.Trimesh(vertices.shape=(6494, 3), faces.shape=(15575, 3))>:139864068125984\n",
      "Cleared mesh: <trimesh.Trimesh(vertices.shape=(3256, 3), faces.shape=(5810, 3))>:139864068149360\n",
      "Cleared mesh: <trimesh.Trimesh(vertices.shape=(2064, 3), faces.shape=(4789, 3))>:139864068152192\n",
      "Cleared mesh: <trimesh.Trimesh(vertices.shape=(2022, 3), faces.shape=(4628, 3))>:139864067962576\n",
      "Cleared mesh: <trimesh.Trimesh(vertices.shape=(1922, 3), faces.shape=(4396, 3))>:139864068151856\n",
      "Cleared mesh: <trimesh.Trimesh(vertices.shape=(1089, 3), faces.shape=(2556, 3))>:139864068127328\n",
      "Cleared mesh: <trimesh.Trimesh(vertices.shape=(864, 3), faces.shape=(1989, 3))>:139863558710368\n",
      "Cleared mesh: <trimesh.Trimesh(vertices.shape=(723, 3), faces.shape=(1611, 3))>:139863558684976\n",
      "Cleared mesh: <trimesh.Trimesh(vertices.shape=(693, 3), faces.shape=(1561, 3))>:139864067961808\n",
      "Cleared mesh: <trimesh.Trimesh(vertices.shape=(612, 3), faces.shape=(1378, 3))>:139864068179712\n",
      "Cleared mesh: <trimesh.Trimesh(vertices.shape=(456, 3), faces.shape=(742, 3))>:139864068072016\n",
      "Cleared mesh: <trimesh.Trimesh(vertices.shape=(344, 3), faces.shape=(727, 3))>:139864068074848\n",
      "Cleared mesh: <trimesh.Trimesh(vertices.shape=(363, 3), faces.shape=(876, 3))>:139866389031376\n",
      "Cleared mesh: <trimesh.Trimesh(vertices.shape=(301, 3), faces.shape=(613, 3))>:139866389021984\n",
      "Cleared mesh: <trimesh.Trimesh(vertices.shape=(253, 3), faces.shape=(632, 3))>:139866391539824\n",
      "Cleared mesh: <trimesh.Trimesh(vertices.shape=(199, 3), faces.shape=(446, 3))>:139866391542656\n",
      "Cleared mesh: <trimesh.Trimesh(vertices.shape=(176, 3), faces.shape=(418, 3))>:139866391566032\n",
      "Cleared mesh: <trimesh.Trimesh(vertices.shape=(145, 3), faces.shape=(317, 3))>:139866143554384\n",
      "Cleared mesh: <trimesh.Trimesh(vertices.shape=(11386, 3), faces.shape=(22560, 3))>:139866348080384\n",
      "Cleared mesh: <trimesh.Trimesh(vertices.shape=(5708, 3), faces.shape=(10517, 3))>:139866347469120\n"
     ]
    }
   ],
   "source": [
    "from datasci_tools import system_utils as su\n",
    "su.save_object(\n",
    "    products,\"products_up_to_soma_stage\"\n",
    ")"
   ]
  },
  {
   "cell_type": "markdown",
   "id": "bfdbcc82",
   "metadata": {},
   "source": [
    "# Step 3: Decomposition"
   ]
  },
  {
   "cell_type": "code",
   "execution_count": 23,
   "id": "84193a27",
   "metadata": {
    "scrolled": true
   },
   "outputs": [
    {
     "name": "stdout",
     "output_type": "stream",
     "text": [
      "--- 0) Having to preprocess the Neuron becuase no preprocessed data\n",
      "Please wait this could take a while.....\n",
      "Skipping the hole filling\n",
      "limb_remove_mesh_interior_face_threshold = 0\n",
      "use_meshafterparty = True\n",
      "Using pre-computed somas: soma_mesh_list = [<trimesh.Trimesh(vertices.shape=(11386, 3), faces.shape=(22560, 3))>, <trimesh.Trimesh(vertices.shape=(5708, 3), faces.shape=(10517, 3))>]\n",
      "Soma List = [<trimesh.Trimesh(vertices.shape=(11386, 3), faces.shape=(22560, 3))>, <trimesh.Trimesh(vertices.shape=(5708, 3), faces.shape=(10517, 3))>]\n",
      "soma_mesh_list_centers = [array([1488880.76058317,  589300.09373793, 1100652.31345512]), array([1472182.71408549,  577993.08644009, 1112354.27575333])]\n",
      "Getting Glia and Nuclei Pieces Subtracted Away 0.16956114768981934\n",
      " Splitting mesh after soma cancellation 1.969372272491455\n",
      "# of split_meshes = 4\n",
      " Containing Mesh Indices 0.020421266555786133\n",
      "containing_mesh_indices = {0: 0, 1: 0}\n",
      " non_soma_touching_meshes 3.0040740966796875e-05\n",
      "There were 3 pieces found after size threshold\n",
      " Finding inside pieces and non_soma_touching meshes 0.49272799491882324\n",
      "soma_containing_meshes = {0: [0, 1]}\n",
      "\n",
      "-----Before combining multiple mesh pieces-----\n",
      "soma_containing_meshes = {0: [0, 1]}\n",
      "\n",
      "-----After combining multiple mesh pieces-----\n",
      "soma_containing_meshes = {0: [0, 1]}\n",
      "\n",
      "\n",
      "----Working on soma-containing mesh piece 0----\n",
      "Total time for Subtract Soma and Original_mesh_faces_map for somas= 0.26380372047424316\n",
      "new_floating_pieces = []\n",
      "Total time for sig_non_soma_pieces= 1.045548677444458\n",
      "Not applying expansions\n",
      "Total time for split= 4.0531158447265625e-06\n",
      "Total time for mesh_pieces_connectivity= 0.8712790012359619\n",
      "# of insignificant_limbs = 1 with trimesh : [<trimesh.Trimesh(vertices.shape=(11, 3), faces.shape=(15, 3))>]\n",
      "# of not_processed_soma_containing_meshes = 0 with trimesh : []\n",
      "\n",
      "\n",
      "----- Working on Proper Limb # 0 ---------\n",
      "meshparty_segment_size = 100\n",
      "invalidation_d = 12000\n",
      "use_adaptive_invalidation_d= False\n",
      "axon_width_preprocess_limb_max = 200\n",
      "filter_end_node_length= 4000\n",
      "filter_end_node_length_meshparty = 4000\n",
      "invalidation_d = 12000\n",
      "root_curr = [1487208.   596715.8 1099876. ]\n",
      "Time for preparing soma vertices and root: 0.00023627281188964844\n",
      "invalidation_d = 12000\n",
      "smooth_neighborhood = 1\n",
      "cc_vertex_thresh = 10\n"
     ]
    },
    {
     "name": "stderr",
     "output_type": "stream",
     "text": [
      "\r",
      "  0%|          | 0/1 [00:00<?, ?it/s]"
     ]
    },
    {
     "data": {
      "application/vnd.jupyter.widget-view+json": {
       "model_id": "1e9da90aabb94cdc848a3dea1f53e44b",
       "version_major": 2,
       "version_minor": 0
      },
      "text/plain": [
       "  0%|          | 0/33579 [00:00<?, ?it/s]"
      ]
     },
     "metadata": {},
     "output_type": "display_data"
    },
    {
     "name": "stderr",
     "output_type": "stream",
     "text": [
      "100%|██████████| 1/1 [00:00<00:00,  6.66it/s]\n"
     ]
    },
    {
     "name": "stdout",
     "output_type": "stream",
     "text": [
      "meshparty_segment_size = 100\n",
      "Time for 1st pass MP skeletonization: 0.40282249450683594\n",
      "connecting at the root\n",
      "branches_touching_root = [6]\n",
      "combining close nodes\n",
      "combine_threshold = 700\n",
      "length of Graph = 3258\n",
      "After combining close endpoints max(kept_branches_idx) = 6, len(kept_branches_idx) = 7\n",
      "empty_indices % = 0.0\n",
      " conflict_indices % = 0.002908632942517017\n"
     ]
    },
    {
     "data": {
      "application/vnd.jupyter.widget-view+json": {
       "model_id": "793a6550b27d4497b9dbc34afaa98943",
       "version_major": 2,
       "version_minor": 0
      },
      "text/plain": [
       "  0%|          | 0/3 [00:00<?, ?it/s]"
      ]
     },
     "metadata": {},
     "output_type": "display_data"
    },
    {
     "data": {
      "application/vnd.jupyter.widget-view+json": {
       "model_id": "dc4d55031d53481d980f1e68895f434a",
       "version_major": 2,
       "version_minor": 0
      },
      "text/plain": [
       "  0%|          | 0/7 [00:00<?, ?it/s]"
      ]
     },
     "metadata": {},
     "output_type": "display_data"
    },
    {
     "name": "stdout",
     "output_type": "stream",
     "text": [
      "Decomposing first pass: 2.5997347831726074\n",
      "Attempting to use MeshAfterParty Skeletonization and Mesh Correspondence\n",
      "Another print\n",
      "Found len(mesh_large_idx) MAP candidates: [639, 7663]\n",
      "mesh_large_connectivity: 0.0022737979888916016\n",
      "Finding MAP candidates connected components: 9.012222290039062e-05\n",
      "len(filtered_pieces) = 1\n",
      "skeleton_connectivity_MP : 0.08162093162536621\n",
      "Grouping MP Sublimbs by Graph: 0.03701305389404297\n",
      "Divinding into MP and MAP pieces: 7.152557373046875e-07\n",
      "--- Working on MAP piece 0---\n",
      "MAP Filtering Soma Pieces: 0.0011782646179199219\n",
      "inside skeletonize_connected_branch and use_surface_after_CGAL=True, surface_reconstruction_size=1000\n",
      "keep_idx = [0]\n",
      "     Starting Screened Poisson\n",
      "xvfb-run -n 2283 -s \"-screen 0 800x600x24\" meshlabserver $@  -i /neurd_packages/NEURD/Applications/Tutorials/Auto_Proof_Pipeline/Double_Soma/temp/None.off -o /neurd_packages/NEURD/Applications/Tutorials/Auto_Proof_Pipeline/Double_Soma/temp/None_poisson.off -s /neurd_packages/NEURD/Applications/Tutorials/Auto_Proof_Pipeline/Double_Soma/temp/poisson_322369.mls\n",
      "removed temporary input file: /neurd_packages/NEURD/Applications/Tutorials/Auto_Proof_Pipeline/Double_Soma/temp/None.off\n",
      "removed temporary output file: /neurd_packages/NEURD/Applications/Tutorials/Auto_Proof_Pipeline/Double_Soma/temp/None_poisson.off\n",
      "Using the close holes feature\n",
      "xvfb-run -n 2687 -s \"-screen 0 800x600x24\" meshlabserver $@  -i /neurd_packages/NEURD/Applications/Tutorials/Auto_Proof_Pipeline/Double_Soma/temp/neuron_88988.off -o /neurd_packages/NEURD/Applications/Tutorials/Auto_Proof_Pipeline/Double_Soma/temp/neuron_88988_fill_holes.off -s /neurd_packages/NEURD/Applications/Tutorials/Auto_Proof_Pipeline/Double_Soma/temp/fill_holes_335938.mls\n",
      "removed temporary input file: /neurd_packages/NEURD/Applications/Tutorials/Auto_Proof_Pipeline/Double_Soma/temp/neuron_88988.off\n",
      "removed temporary output file: /neurd_packages/NEURD/Applications/Tutorials/Auto_Proof_Pipeline/Double_Soma/temp/neuron_88988_fill_holes.off\n",
      "/neurd_packages/NEURD/Applications/Tutorials/Auto_Proof_Pipeline/Double_Soma/temp/fill_holes_335938.mls is being deleted....\n",
      "-----Time for Screened Poisson= 8.193481683731079\n",
      "mesh_pieces = [<trimesh.Trimesh(vertices.shape=(7418, 3), faces.shape=(14832, 3))>]\n",
      "     Starting Calcification (Changed back where stitches large poissons)\n",
      "Manifold status before skeletonization = True\n",
      "Watertight status before skeletonization = True\n",
      "min_edge_length = 75\n",
      "Before mesh subtraction number of skeleton edges = 292\n"
     ]
    },
    {
     "data": {
      "application/vnd.jupyter.widget-view+json": {
       "model_id": "50fbe468a62040c8a465f868f15b77af",
       "version_major": 2,
       "version_minor": 0
      },
      "text/plain": [
       "0it [00:00, ?it/s]"
      ]
     },
     "metadata": {},
     "output_type": "display_data"
    },
    {
     "name": "stdout",
     "output_type": "stream",
     "text": [
      "len(leftover_meshes_sig) = []\n"
     ]
    },
    {
     "data": {
      "application/vnd.jupyter.widget-view+json": {
       "model_id": "2ed88b4e0d214c478aea80f5c9c7ff5d",
       "version_major": 2,
       "version_minor": 0
      },
      "text/plain": [
       "0it [00:00, ?it/s]"
      ]
     },
     "metadata": {},
     "output_type": "display_data"
    },
    {
     "name": "stdout",
     "output_type": "stream",
     "text": [
      "No skeletons to stack so returning empty list\n",
      "STacking the leftover and significant poisson skeleton\n",
      "max_stitch_distance = 5000\n",
      "len_subgraphs AT BEGINNING of the loop\n"
     ]
    },
    {
     "data": {
      "application/vnd.jupyter.widget-view+json": {
       "model_id": "96ca7ef20e2b46e698a80c2f743be516",
       "version_major": 2,
       "version_minor": 0
      },
      "text/plain": [
       "  0%|          | 0/1 [00:00<?, ?it/s]"
      ]
     },
     "metadata": {},
     "output_type": "display_data"
    },
    {
     "name": "stdout",
     "output_type": "stream",
     "text": [
      "all graph is one component!\n",
      "Total time for skeleton stitching = 0.018645048141479492\n",
      "The process was using a temp folder\n",
      "Checking connected components after skeletonize_connected_branch\n",
      "    Total time for skeletonizing branch: 9.459510087966919\n",
      "Checking connected components after removing cycles\n",
      "Total time for mesh KDTree = 0.07180142402648926\n",
      "sbv[0].reshape(-1,3) = [[1487208.   596715.8 1099876. ]]\n",
      "closest_sk_pt_coord BEFORE = [1487610.  597308. 1100710.]\n",
      "current_skeleton.shape = (291, 2, 3)\n",
      "node_for_stitch = 209: [1487610.  597308. 1100710.]\n",
      "node_for_stitch AFTER = 209: [1487610.  597308. 1100710.]\n",
      "possible_node_loc = [  0  48 209 291]\n",
      "possible_node_loc AFTER = [  0  48 209 291]\n",
      "curr_shortest_path = [209]\n",
      "Current stitch point was a branch or endpoint\n",
      "change_status for create soma extending pieces = False\n",
      "closest_sk_pt_coord AFTER = [1487610.  597308. 1100710.]\n",
      "skipping soma 0 because closest skeleton node was already end node\n",
      "endpoints_must_keep = {0: array([[1487610.,  597308., 1100710.]])}\n",
      "    Total time for Fixing Skeleton Soma Endpoint Extension : 0.16453862190246582\n",
      "filter_end_node_length = 4000\n"
     ]
    },
    {
     "data": {
      "application/vnd.jupyter.widget-view+json": {
       "model_id": "ab5963ad36644c6eba991b36d9fcf020",
       "version_major": 2,
       "version_minor": 0
      },
      "text/plain": [
       "  0%|          | 0/1 [00:00<?, ?it/s]"
      ]
     },
     "metadata": {},
     "output_type": "display_data"
    },
    {
     "name": "stdout",
     "output_type": "stream",
     "text": [
      "Checking connected components after clean_skeleton\n",
      "after DISTANCE cleaning limb size of skeleton = (271, 2, 3)\n",
      "********COMBINING CLOSE SKELETON NODES WITHIN 700 DISTANCE**********\n",
      "combine_threshold = 700\n",
      "Found 0 valid paths to replace\n",
      "valid_paths = []\n",
      "valid_path_lengths = []\n",
      "No valid paths found so just returning the original\n",
      "skeletonize_and_clean_connected_branch_CGAL: 9.799775123596191\n",
      "Working on limb correspondence for #0 MAP piece\n",
      "xvfb-run -n 1270 -s \"-screen 0 800x600x24\" meshlabserver $@  -i /neurd_packages/NEURD/Applications/Tutorials/Auto_Proof_Pipeline/Double_Soma/temp/neuron_88200.off -o /neurd_packages/NEURD/Applications/Tutorials/Auto_Proof_Pipeline/Double_Soma/temp/neuron_88200_remove_interior.off -s /neurd_packages/NEURD/Applications/Tutorials/Auto_Proof_Pipeline/Double_Soma/temp/remove_interior_863202.mls\n",
      "removed temporary input file: /neurd_packages/NEURD/Applications/Tutorials/Auto_Proof_Pipeline/Double_Soma/temp/neuron_88200.off\n",
      "removed temporary output file: /neurd_packages/NEURD/Applications/Tutorials/Auto_Proof_Pipeline/Double_Soma/temp/neuron_88200_remove_interior.off\n",
      "/neurd_packages/NEURD/Applications/Tutorials/Auto_Proof_Pipeline/Double_Soma/temp/remove_interior_863202.mls is being deleted....\n",
      "No significant (100) interior meshes present\n",
      "largest is 14\n"
     ]
    },
    {
     "data": {
      "application/vnd.jupyter.widget-view+json": {
       "model_id": "772b4f5f243f4f95b333b679200e9dde",
       "version_major": 2,
       "version_minor": 0
      },
      "text/plain": [
       "0it [00:00, ?it/s]"
      ]
     },
     "metadata": {},
     "output_type": "display_data"
    },
    {
     "name": "stdout",
     "output_type": "stream",
     "text": [
      "Total time for decomposition = 2.42488956451416\n",
      "mesh_correspondence_first_pass: 2.424941062927246\n",
      "Limb decomposed into 3 branches\n",
      "divided_skeleton_graph_recovered = (271, 2, 3) and \n",
      "current_mesh_data[0]['branch_skeletons_cleaned'].shape = (271, 2, 3)\n",
      "\n",
      "Number of connected components in deocmposed recovered graph = 1\n",
      "Number of connected components in cleaned skeleton graph= 1\n",
      "The downsampled branches number of connected components = 1\n",
      "Empty submeshes = []\n",
      "\n",
      "\n",
      "--- Working on 1-to-1 correspondence-----\n",
      "max(original_labels),len(original_labels) = (2, 3)\n",
      "empty_indices % = 0.15092748735244518\n",
      " conflict_indices % = 0.04384485666104553\n"
     ]
    },
    {
     "data": {
      "application/vnd.jupyter.widget-view+json": {
       "model_id": "35523f09a05f4fbfbdf69510421062df",
       "version_major": 2,
       "version_minor": 0
      },
      "text/plain": [
       "  0%|          | 0/14 [00:00<?, ?it/s]"
      ]
     },
     "metadata": {},
     "output_type": "display_data"
    },
    {
     "name": "stdout",
     "output_type": "stream",
     "text": [
      "Took 0 iterations to expand the label back\n",
      "empty_indices % = 0.0\n",
      " conflict_indices % = 0.0\n"
     ]
    },
    {
     "data": {
      "application/vnd.jupyter.widget-view+json": {
       "model_id": "cbf0f6a442014598b506bd8584db430e",
       "version_major": 2,
       "version_minor": 0
      },
      "text/plain": [
       "0it [00:00, ?it/s]"
      ]
     },
     "metadata": {},
     "output_type": "display_data"
    },
    {
     "data": {
      "application/vnd.jupyter.widget-view+json": {
       "model_id": "2dc198371d834e4d9ea26f49d9fef875",
       "version_major": 2,
       "version_minor": 0
      },
      "text/plain": [
       "  0%|          | 0/3 [00:00<?, ?it/s]"
      ]
     },
     "metadata": {},
     "output_type": "display_data"
    },
    {
     "name": "stdout",
     "output_type": "stream",
     "text": [
      "Total time for MAP sublimb #0 mesh processing = 12.650143146514893\n",
      "correspondence_1_to_1: 0.4242842197418213\n",
      "Total time for MAP sublimb processing 12.650233507156372\n",
      "---- Working on MP Decomposition #0 ----\n",
      "Computing the current soma touching verts dict manually\n",
      "MP filtering soma verts: 0.016069412231445312\n",
      "Do Not Need to Fix MP Decomposition 0 so just continuing\n",
      "---- Working on MP Decomposition #1 ----\n",
      "Computing the current soma touching verts dict manually\n",
      "MP filtering soma verts: 0.00995016098022461\n",
      "Do Not Need to Fix MP Decomposition 1 so just continuing\n",
      "---- Working on MP Decomposition #2 ----\n",
      "Computing the current soma touching verts dict manually\n",
      "MP filtering soma verts: 0.010073184967041016\n",
      "Do Not Need to Fix MP Decomposition 2 so just continuing\n",
      "Successful mesh connectivity with type edges\n",
      "\n",
      "---- Working on (0, 0) connection-----\n",
      "sk_conn = [0, 1]\n",
      "conn = [0, 1]\n",
      "winning_vertex = [1491450.08344721  608267.60149996 1098228.13300974]\n",
      "MP_branches_with_stitch_point = [0, 1]\n",
      "MAP_branches_with_stitch_point = [2]\n",
      "MAP_stitch_point_on_end_or_branch = True\n"
     ]
    },
    {
     "data": {
      "application/vnd.jupyter.widget-view+json": {
       "model_id": "56dc75d80b7545ea9c08af5a9ad1a10e",
       "version_major": 2,
       "version_minor": 0
      },
      "text/plain": [
       "0it [00:00, ?it/s]"
      ]
     },
     "metadata": {},
     "output_type": "display_data"
    },
    {
     "name": "stdout",
     "output_type": "stream",
     "text": [
      "\n",
      "\n",
      "--- Working on 1-to-1 correspondence-----\n",
      "max(original_labels),len(original_labels) = (2, 3)\n",
      "empty_indices % = 0.17966871933348702\n",
      " conflict_indices % = 0.010043797543385913\n"
     ]
    },
    {
     "data": {
      "application/vnd.jupyter.widget-view+json": {
       "model_id": "e6082054f9c44d46af76403afd90f7bb",
       "version_major": 2,
       "version_minor": 0
      },
      "text/plain": [
       "  0%|          | 0/104 [00:00<?, ?it/s]"
      ]
     },
     "metadata": {},
     "output_type": "display_data"
    },
    {
     "data": {
      "application/vnd.jupyter.widget-view+json": {
       "model_id": "fad813368e994da59558e4a2576b835f",
       "version_major": 2,
       "version_minor": 0
      },
      "text/plain": [
       "  0%|          | 0/3 [00:00<?, ?it/s]"
      ]
     },
     "metadata": {},
     "output_type": "display_data"
    },
    {
     "name": "stdout",
     "output_type": "stream",
     "text": [
      "MP_branches_with_stitch_point= [0, 1]\n",
      "MP_branches_for_correspondence = [0 1]\n",
      "MP_leftover = [], MP_leftover_idx = []\n",
      " Finished with (0, 0) \n",
      "\n",
      "\n",
      "\n",
      "\n",
      "---- Working on (1, 0) connection-----\n",
      "sk_conn = [0, 1]\n",
      "conn = [0, 1]\n",
      "winning_vertex = [1476472.93997195  615033.74821465 1108138.04148317]\n",
      "MP_branches_with_stitch_point = [0, 1]\n",
      "MAP_branches_with_stitch_point = [0]\n",
      "MAP_stitch_point_on_end_or_branch = False\n"
     ]
    },
    {
     "data": {
      "application/vnd.jupyter.widget-view+json": {
       "model_id": "ea24b6577bbd49139d9642e188103cf3",
       "version_major": 2,
       "version_minor": 0
      },
      "text/plain": [
       "0it [00:00, ?it/s]"
      ]
     },
     "metadata": {},
     "output_type": "display_data"
    },
    {
     "name": "stdout",
     "output_type": "stream",
     "text": [
      "\n",
      "\n",
      "--- Working on 1-to-1 correspondence-----\n",
      "max(original_labels),len(original_labels) = (1, 2)\n",
      "empty_indices % = 0.18998015873015872\n",
      " conflict_indices % = 0.004298941798941799\n"
     ]
    },
    {
     "data": {
      "application/vnd.jupyter.widget-view+json": {
       "model_id": "4a30639da16e486a97ea83b1a7a3ef34",
       "version_major": 2,
       "version_minor": 0
      },
      "text/plain": [
       "  0%|          | 0/9 [00:00<?, ?it/s]"
      ]
     },
     "metadata": {},
     "output_type": "display_data"
    },
    {
     "data": {
      "application/vnd.jupyter.widget-view+json": {
       "model_id": "95af4b8a327142fc81fc40ea9ea9c35d",
       "version_major": 2,
       "version_minor": 0
      },
      "text/plain": [
       "  0%|          | 0/2 [00:00<?, ?it/s]"
      ]
     },
     "metadata": {},
     "output_type": "display_data"
    },
    {
     "data": {
      "application/vnd.jupyter.widget-view+json": {
       "model_id": "8b92007e4155467ba06a3ad38b221a50",
       "version_major": 2,
       "version_minor": 0
      },
      "text/plain": [
       "0it [00:00, ?it/s]"
      ]
     },
     "metadata": {},
     "output_type": "display_data"
    },
    {
     "name": "stdout",
     "output_type": "stream",
     "text": [
      "\n",
      "\n",
      "--- Working on 1-to-1 correspondence-----\n",
      "max(original_labels),len(original_labels) = (3, 4)\n",
      "empty_indices % = 0.19648509078793935\n",
      " conflict_indices % = 0.04626853240046643\n"
     ]
    },
    {
     "data": {
      "application/vnd.jupyter.widget-view+json": {
       "model_id": "fc4f91a82ddd45138ad320419e53520e",
       "version_major": 2,
       "version_minor": 0
      },
      "text/plain": [
       "  0%|          | 0/58 [00:00<?, ?it/s]"
      ]
     },
     "metadata": {},
     "output_type": "display_data"
    },
    {
     "data": {
      "application/vnd.jupyter.widget-view+json": {
       "model_id": "6ec0f9d071764f8d8b6676dae963dc34",
       "version_major": 2,
       "version_minor": 0
      },
      "text/plain": [
       "  0%|          | 0/4 [00:00<?, ?it/s]"
      ]
     },
     "metadata": {},
     "output_type": "display_data"
    },
    {
     "name": "stdout",
     "output_type": "stream",
     "text": [
      "Deleting branches from dictionary\n",
      "MP_branches_with_stitch_point= [0, 1]\n",
      "MP_branches_for_correspondence = [0 1]\n",
      "MP_leftover = [], MP_leftover_idx = []\n",
      " Finished with (1, 0) \n",
      "\n",
      "\n",
      "\n",
      "\n",
      "---- Working on (2, 0) connection-----\n",
      "sk_conn = [0]\n",
      "conn = [0]\n",
      "winning_vertex = [1488771.89112037  605282.82224157 1100475.99894991]\n",
      "MP_branches_with_stitch_point = [0]\n",
      "MAP_branches_with_stitch_point = [2]\n",
      "MAP_stitch_point_on_end_or_branch = False\n"
     ]
    },
    {
     "data": {
      "application/vnd.jupyter.widget-view+json": {
       "model_id": "5db2163082094adc8c46a79e41ff294a",
       "version_major": 2,
       "version_minor": 0
      },
      "text/plain": [
       "0it [00:00, ?it/s]"
      ]
     },
     "metadata": {},
     "output_type": "display_data"
    },
    {
     "name": "stdout",
     "output_type": "stream",
     "text": [
      "\n",
      "\n",
      "--- Working on 1-to-1 correspondence-----\n",
      "max(original_labels),len(original_labels) = (1, 2)\n",
      "empty_indices % = 0.17933130699088146\n",
      " conflict_indices % = 0.006686930091185411\n"
     ]
    },
    {
     "data": {
      "application/vnd.jupyter.widget-view+json": {
       "model_id": "368902f127594f89bc9e8492bbf12448",
       "version_major": 2,
       "version_minor": 0
      },
      "text/plain": [
       "  0%|          | 0/6 [00:00<?, ?it/s]"
      ]
     },
     "metadata": {},
     "output_type": "display_data"
    },
    {
     "data": {
      "application/vnd.jupyter.widget-view+json": {
       "model_id": "36edecde23e34ffe8a76fd6ba73eeecf",
       "version_major": 2,
       "version_minor": 0
      },
      "text/plain": [
       "  0%|          | 0/2 [00:00<?, ?it/s]"
      ]
     },
     "metadata": {},
     "output_type": "display_data"
    },
    {
     "data": {
      "application/vnd.jupyter.widget-view+json": {
       "model_id": "9cf35a113ee64892ade7890d46e20167",
       "version_major": 2,
       "version_minor": 0
      },
      "text/plain": [
       "0it [00:00, ?it/s]"
      ]
     },
     "metadata": {},
     "output_type": "display_data"
    },
    {
     "name": "stdout",
     "output_type": "stream",
     "text": [
      "\n",
      "\n",
      "--- Working on 1-to-1 correspondence-----\n",
      "max(original_labels),len(original_labels) = (2, 3)\n",
      "empty_indices % = 0.23447755563938136\n",
      " conflict_indices % = 0.014032440588457186\n"
     ]
    },
    {
     "data": {
      "application/vnd.jupyter.widget-view+json": {
       "model_id": "797d15143161410fb8e8a149af583121",
       "version_major": 2,
       "version_minor": 0
      },
      "text/plain": [
       "  0%|          | 0/30 [00:00<?, ?it/s]"
      ]
     },
     "metadata": {},
     "output_type": "display_data"
    },
    {
     "data": {
      "application/vnd.jupyter.widget-view+json": {
       "model_id": "d663ad31183c40fba92d413afa700fd0",
       "version_major": 2,
       "version_minor": 0
      },
      "text/plain": [
       "  0%|          | 0/3 [00:00<?, ?it/s]"
      ]
     },
     "metadata": {},
     "output_type": "display_data"
    },
    {
     "name": "stdout",
     "output_type": "stream",
     "text": [
      "Deleting branches from dictionary\n",
      "MP_branches_with_stitch_point= [0]\n",
      "MP_branches_for_correspondence = [0]\n",
      "MP_leftover = [], MP_leftover_idx = []\n",
      " Finished with (2, 0) \n",
      "\n",
      "\n",
      "\n",
      "Time for decomp of Limb = 27.043118715286255\n",
      "Number of matching vertices = 26\n",
      "Only one endpoint after filtering away the endpoints that are not on the skeleton\n",
      "Removed 0 skeletal branches\n"
     ]
    },
    {
     "data": {
      "application/vnd.jupyter.widget-view+json": {
       "model_id": "117b0b35f09b466c95012b8c9ccf18c1",
       "version_major": 2,
       "version_minor": 0
      },
      "text/plain": [
       "  0%|          | 0/10 [00:00<?, ?it/s]"
      ]
     },
     "metadata": {},
     "output_type": "display_data"
    },
    {
     "name": "stdout",
     "output_type": "stream",
     "text": [
      "66697 66698\n",
      "For marked faces: None\n",
      "empty_indices % = 0.0\n",
      " conflict_indices % = 0.0\n"
     ]
    },
    {
     "data": {
      "application/vnd.jupyter.widget-view+json": {
       "model_id": "b619971ced7b4d9983f283b82f3627d7",
       "version_major": 2,
       "version_minor": 0
      },
      "text/plain": [
       "0it [00:00, ?it/s]"
      ]
     },
     "metadata": {},
     "output_type": "display_data"
    },
    {
     "data": {
      "application/vnd.jupyter.widget-view+json": {
       "model_id": "5fe34529e3644c838196271c7d112c9f",
       "version_major": 2,
       "version_minor": 0
      },
      "text/plain": [
       "  0%|          | 0/10 [00:00<?, ?it/s]"
      ]
     },
     "metadata": {},
     "output_type": "display_data"
    },
    {
     "name": "stdout",
     "output_type": "stream",
     "text": [
      "Successful Limb Decomposition\n",
      "\n",
      "\n",
      "----- Working on Proper Limb # 1 ---------\n",
      "meshparty_segment_size = 100\n",
      "invalidation_d = 12000\n",
      "use_adaptive_invalidation_d= False\n",
      "axon_width_preprocess_limb_max = 200\n",
      "filter_end_node_length= 4000\n",
      "filter_end_node_length_meshparty = 4000\n",
      "invalidation_d = 12000\n",
      "root_curr = [1484150.   588282.7 1095391. ]\n",
      "Time for preparing soma vertices and root: 0.00020599365234375\n",
      "invalidation_d = 12000\n",
      "smooth_neighborhood = 1\n",
      "cc_vertex_thresh = 10\n"
     ]
    },
    {
     "name": "stderr",
     "output_type": "stream",
     "text": [
      "\r",
      "  0%|          | 0/1 [00:00<?, ?it/s]"
     ]
    },
    {
     "data": {
      "application/vnd.jupyter.widget-view+json": {
       "model_id": "3fb396b70dfd4ac1a7c152a0f6e3e9cb",
       "version_major": 2,
       "version_minor": 0
      },
      "text/plain": [
       "  0%|          | 0/20269 [00:00<?, ?it/s]"
      ]
     },
     "metadata": {},
     "output_type": "display_data"
    },
    {
     "name": "stderr",
     "output_type": "stream",
     "text": [
      "100%|██████████| 1/1 [00:00<00:00,  3.81it/s]\n"
     ]
    },
    {
     "name": "stdout",
     "output_type": "stream",
     "text": [
      "meshparty_segment_size = 100\n",
      "Time for 1st pass MP skeletonization: 0.5422825813293457\n",
      "branches_touching_root = [3]\n",
      "combining close nodes\n",
      "combine_threshold = 700\n",
      "length of Graph = 5975\n",
      "After combining close endpoints max(kept_branches_idx) = 26, len(kept_branches_idx) = 25\n",
      "empty_indices % = 0.0\n",
      " conflict_indices % = 0.010165121237665492\n"
     ]
    },
    {
     "data": {
      "application/vnd.jupyter.widget-view+json": {
       "model_id": "4e623fc42e524020bb2f09fd8ec26057",
       "version_major": 2,
       "version_minor": 0
      },
      "text/plain": [
       "  0%|          | 0/11 [00:00<?, ?it/s]"
      ]
     },
     "metadata": {},
     "output_type": "display_data"
    },
    {
     "data": {
      "application/vnd.jupyter.widget-view+json": {
       "model_id": "a8fe30647019428c9cacda45f2eec313",
       "version_major": 2,
       "version_minor": 0
      },
      "text/plain": [
       "  0%|          | 0/25 [00:00<?, ?it/s]"
      ]
     },
     "metadata": {},
     "output_type": "display_data"
    },
    {
     "name": "stdout",
     "output_type": "stream",
     "text": [
      "Decomposing first pass: 3.5503547191619873\n",
      "Attempting to use MeshAfterParty Skeletonization and Mesh Correspondence\n",
      "Another print\n",
      "Divinding into MP and MAP pieces: 0.00010442733764648438\n",
      "Total time for MAP sublimb processing 6.4373016357421875e-06\n",
      "---- Working on MP Decomposition #0 ----\n",
      "Using Quicker soma_to_piece_touching_vertices because no MAP and only one sublimb_mesh piece \n",
      "MP filtering soma verts: 4.57763671875e-05\n",
      "Fixing Possible Soma Extension Branch for Sublimb 0\n",
      "Total time for mesh KDTree = 0.055513620376586914\n",
      "sbv[0].reshape(-1,3) = [[1484150.   588282.7 1095391. ]]\n",
      "closest_sk_pt_coord BEFORE = [1483982.08022895  588135.81137922 1094821.63000965]\n",
      "current_skeleton.shape = (556, 2, 3)\n",
      "node_for_stitch = 556: [1483982.08022895  588135.81137922 1094821.63000965]\n",
      "node_for_stitch AFTER = 556: [1483982.08022895  588135.81137922 1094821.63000965]\n",
      "possible_node_loc = [  2 556]\n",
      "possible_node_loc AFTER = [  2 556]\n",
      "curr_shortest_path = [556]\n",
      "Current stitch point was a branch or endpoint\n",
      "change_status for create soma extending pieces = False\n",
      "closest_sk_pt_coord AFTER = [1483982.08022895  588135.81137922 1094821.63000965]\n",
      "skipping soma 0 because closest skeleton node was already end node\n",
      "endpoints_must_keep = {0: array([[1483982.08022895,  588135.81137922, 1094821.63000965]])}\n",
      "match_sk_branches = [3]\n",
      "The new branch info was none so skipping \n",
      "\n",
      "No soma extending branch was added for this sublimb even though it had a soma border (means they already existed)\n",
      "MP (because soma touching verts) soma extension add: 0.4729592800140381\n",
      "There were not both MAP and MP pieces so skipping the stitch resolving phase\n",
      "Time for decomp of Limb = 4.710726261138916\n",
      "Number of matching vertices = 20\n",
      "Only one endpoint after filtering away the endpoints that are not on the skeleton\n",
      "Removed 0 skeletal branches\n"
     ]
    },
    {
     "data": {
      "application/vnd.jupyter.widget-view+json": {
       "model_id": "3b455bc3037f4d99b95f79031cbaf743",
       "version_major": 2,
       "version_minor": 0
      },
      "text/plain": [
       "  0%|          | 0/25 [00:00<?, ?it/s]"
      ]
     },
     "metadata": {},
     "output_type": "display_data"
    },
    {
     "name": "stdout",
     "output_type": "stream",
     "text": [
      "40338 40339\n",
      "For marked faces: None\n",
      "empty_indices % = 0.0\n",
      " conflict_indices % = 0.0\n"
     ]
    },
    {
     "data": {
      "application/vnd.jupyter.widget-view+json": {
       "model_id": "d7919b0b807a410e8aa972b28f02934e",
       "version_major": 2,
       "version_minor": 0
      },
      "text/plain": [
       "0it [00:00, ?it/s]"
      ]
     },
     "metadata": {},
     "output_type": "display_data"
    },
    {
     "data": {
      "application/vnd.jupyter.widget-view+json": {
       "model_id": "d47d1799607542358730198874f3652a",
       "version_major": 2,
       "version_minor": 0
      },
      "text/plain": [
       "  0%|          | 0/25 [00:00<?, ?it/s]"
      ]
     },
     "metadata": {},
     "output_type": "display_data"
    },
    {
     "name": "stdout",
     "output_type": "stream",
     "text": [
      "Successful Limb Decomposition\n",
      "\n",
      "\n",
      "----- Working on Proper Limb # 2 ---------\n",
      "meshparty_segment_size = 100\n",
      "invalidation_d = 12000\n",
      "use_adaptive_invalidation_d= False\n",
      "axon_width_preprocess_limb_max = 200\n",
      "filter_end_node_length= 4000\n",
      "filter_end_node_length_meshparty = 4000\n",
      "invalidation_d = 12000\n",
      "root_curr = [1476534.   581771.6 1109552. ]\n",
      "Time for preparing soma vertices and root: 0.00016689300537109375\n",
      "invalidation_d = 12000\n",
      "smooth_neighborhood = 1\n",
      "cc_vertex_thresh = 10\n"
     ]
    },
    {
     "name": "stderr",
     "output_type": "stream",
     "text": [
      "\r",
      "  0%|          | 0/1 [00:00<?, ?it/s]"
     ]
    },
    {
     "data": {
      "application/vnd.jupyter.widget-view+json": {
       "model_id": "cbcbc02e0f404054aadfe6b5f1489411",
       "version_major": 2,
       "version_minor": 0
      },
      "text/plain": [
       "  0%|          | 0/20030 [00:00<?, ?it/s]"
      ]
     },
     "metadata": {},
     "output_type": "display_data"
    },
    {
     "name": "stderr",
     "output_type": "stream",
     "text": [
      "100%|██████████| 1/1 [00:00<00:00, 10.05it/s]\n"
     ]
    },
    {
     "name": "stdout",
     "output_type": "stream",
     "text": [
      "meshparty_segment_size = 100\n",
      "Time for 1st pass MP skeletonization: 0.32114624977111816\n",
      "branches_touching_root = [1]\n",
      "combining close nodes\n",
      "combine_threshold = 700\n",
      "length of Graph = 2074\n",
      "After combining close endpoints max(kept_branches_idx) = 2, len(kept_branches_idx) = 3\n",
      "empty_indices % = 0.0\n",
      " conflict_indices % = 0.002637462007987742\n"
     ]
    },
    {
     "data": {
      "application/vnd.jupyter.widget-view+json": {
       "model_id": "a9f53ef86c694996a642d7b30856a816",
       "version_major": 2,
       "version_minor": 0
      },
      "text/plain": [
       "  0%|          | 0/1 [00:00<?, ?it/s]"
      ]
     },
     "metadata": {},
     "output_type": "display_data"
    },
    {
     "data": {
      "application/vnd.jupyter.widget-view+json": {
       "model_id": "f7d4e9faea3c44dab27acd888919fd2f",
       "version_major": 2,
       "version_minor": 0
      },
      "text/plain": [
       "  0%|          | 0/3 [00:00<?, ?it/s]"
      ]
     },
     "metadata": {},
     "output_type": "display_data"
    },
    {
     "name": "stdout",
     "output_type": "stream",
     "text": [
      "Decomposing first pass: 1.7175862789154053\n",
      "Attempting to use MeshAfterParty Skeletonization and Mesh Correspondence\n",
      "Another print\n",
      "Found len(mesh_large_idx) MAP candidates: [2096]\n",
      "mesh_large_connectivity: 0.00010752677917480469\n",
      "Finding MAP candidates connected components: 7.2479248046875e-05\n",
      "len(filtered_pieces) = 1\n",
      "skeleton_connectivity_MP : 0.05924868583679199\n",
      "Grouping MP Sublimbs by Graph: 0.024275779724121094\n",
      "Divinding into MP and MAP pieces: 9.5367431640625e-07\n",
      "--- Working on MAP piece 0---\n",
      "MAP Filtering Soma Pieces: 0.00529789924621582\n",
      "inside skeletonize_connected_branch and use_surface_after_CGAL=True, surface_reconstruction_size=1000\n",
      "keep_idx = [0]\n",
      "     Starting Screened Poisson\n",
      "xvfb-run -n 1541 -s \"-screen 0 800x600x24\" meshlabserver $@  -i /neurd_packages/NEURD/Applications/Tutorials/Auto_Proof_Pipeline/Double_Soma/temp/None.off -o /neurd_packages/NEURD/Applications/Tutorials/Auto_Proof_Pipeline/Double_Soma/temp/None_poisson.off -s /neurd_packages/NEURD/Applications/Tutorials/Auto_Proof_Pipeline/Double_Soma/temp/poisson_113020.mls\n",
      "removed temporary input file: /neurd_packages/NEURD/Applications/Tutorials/Auto_Proof_Pipeline/Double_Soma/temp/None.off\n",
      "removed temporary output file: /neurd_packages/NEURD/Applications/Tutorials/Auto_Proof_Pipeline/Double_Soma/temp/None_poisson.off\n",
      "Using the close holes feature\n",
      "No holes needed to fill and mesh was watertight and no vertex group\n",
      "-----Time for Screened Poisson= 6.8582611083984375\n",
      "mesh_pieces = [<trimesh.Trimesh(vertices.shape=(1969, 3), faces.shape=(3934, 3))>]\n",
      "     Starting Calcification (Changed back where stitches large poissons)\n",
      "Manifold status before skeletonization = True\n",
      "Watertight status before skeletonization = True\n",
      "min_edge_length = 75\n",
      "Before mesh subtraction number of skeleton edges = 75\n"
     ]
    },
    {
     "data": {
      "application/vnd.jupyter.widget-view+json": {
       "model_id": "28f1d38cd7e24384bb29a5441db6f7cc",
       "version_major": 2,
       "version_minor": 0
      },
      "text/plain": [
       "0it [00:00, ?it/s]"
      ]
     },
     "metadata": {},
     "output_type": "display_data"
    },
    {
     "name": "stdout",
     "output_type": "stream",
     "text": [
      "len(leftover_meshes_sig) = []\n"
     ]
    },
    {
     "data": {
      "application/vnd.jupyter.widget-view+json": {
       "model_id": "21a128d953f84a7ab51ce06f7a82e097",
       "version_major": 2,
       "version_minor": 0
      },
      "text/plain": [
       "0it [00:00, ?it/s]"
      ]
     },
     "metadata": {},
     "output_type": "display_data"
    },
    {
     "name": "stdout",
     "output_type": "stream",
     "text": [
      "No skeletons to stack so returning empty list\n",
      "STacking the leftover and significant poisson skeleton\n",
      "max_stitch_distance = 5000\n",
      "len_subgraphs AT BEGINNING of the loop\n"
     ]
    },
    {
     "data": {
      "application/vnd.jupyter.widget-view+json": {
       "model_id": "f4e37265dd634f39b0b66fc43bd06b99",
       "version_major": 2,
       "version_minor": 0
      },
      "text/plain": [
       "  0%|          | 0/1 [00:00<?, ?it/s]"
      ]
     },
     "metadata": {},
     "output_type": "display_data"
    },
    {
     "name": "stdout",
     "output_type": "stream",
     "text": [
      "all graph is one component!\n",
      "Total time for skeleton stitching = 0.013772964477539062\n",
      "The process was using a temp folder\n",
      "Checking connected components after skeletonize_connected_branch\n",
      "    Total time for skeletonizing branch: 7.220573425292969\n",
      "Checking connected components after removing cycles\n",
      "Total time for mesh KDTree = 0.02384662628173828\n",
      "sbv[0].reshape(-1,3) = [[1476534.   581771.6 1109552. ]]\n",
      "closest_sk_pt_coord BEFORE = [1476740.  582480. 1109370.]\n",
      "current_skeleton.shape = (74, 2, 3)\n",
      "node_for_stitch = 0: [1476740.  582480. 1109370.]\n",
      "node_for_stitch AFTER = 0: [1476740.  582480. 1109370.]\n",
      "possible_node_loc = [ 0 74]\n",
      "possible_node_loc AFTER = [ 0 74]\n",
      "curr_shortest_path = [0]\n",
      "Current stitch point was a branch or endpoint\n",
      "change_status for create soma extending pieces = False\n",
      "closest_sk_pt_coord AFTER = [1476740.  582480. 1109370.]\n",
      "skipping soma 1 because closest skeleton node was already end node\n",
      "endpoints_must_keep = {1: array([[1476740.,  582480., 1109370.]])}\n",
      "    Total time for Fixing Skeleton Soma Endpoint Extension : 0.10060691833496094\n",
      "filter_end_node_length = 4000\n",
      "Checking connected components after clean_skeleton\n",
      "after DISTANCE cleaning limb size of skeleton = (74, 2, 3)\n",
      "********COMBINING CLOSE SKELETON NODES WITHIN 700 DISTANCE**********\n",
      "combine_threshold = 700\n",
      "Found 0 valid paths to replace\n",
      "valid_paths = []\n",
      "valid_path_lengths = []\n",
      "No valid paths found so just returning the original\n",
      "skeletonize_and_clean_connected_branch_CGAL: 7.43904447555542\n",
      "Working on limb correspondence for #0 MAP piece\n",
      "xvfb-run -n 3663 -s \"-screen 0 800x600x24\" meshlabserver $@  -i /neurd_packages/NEURD/Applications/Tutorials/Auto_Proof_Pipeline/Double_Soma/temp/neuron_1292.off -o /neurd_packages/NEURD/Applications/Tutorials/Auto_Proof_Pipeline/Double_Soma/temp/neuron_1292_remove_interior.off -s /neurd_packages/NEURD/Applications/Tutorials/Auto_Proof_Pipeline/Double_Soma/temp/remove_interior_788320.mls\n",
      "removed temporary input file: /neurd_packages/NEURD/Applications/Tutorials/Auto_Proof_Pipeline/Double_Soma/temp/neuron_1292.off\n",
      "removed temporary output file: /neurd_packages/NEURD/Applications/Tutorials/Auto_Proof_Pipeline/Double_Soma/temp/neuron_1292_remove_interior.off\n",
      "/neurd_packages/NEURD/Applications/Tutorials/Auto_Proof_Pipeline/Double_Soma/temp/remove_interior_788320.mls is being deleted....\n",
      "No significant (100) interior meshes present\n",
      "largest is 3\n"
     ]
    },
    {
     "data": {
      "application/vnd.jupyter.widget-view+json": {
       "model_id": "9839b3c81e23489e92fa2f2a5cc5317b",
       "version_major": 2,
       "version_minor": 0
      },
      "text/plain": [
       "0it [00:00, ?it/s]"
      ]
     },
     "metadata": {},
     "output_type": "display_data"
    },
    {
     "name": "stdout",
     "output_type": "stream",
     "text": [
      "Total time for decomposition = 1.1120274066925049\n",
      "mesh_correspondence_first_pass: 1.1120672225952148\n",
      "Limb decomposed into 1 branches\n",
      "divided_skeleton_graph_recovered = (74, 2, 3) and \n",
      "current_mesh_data[0]['branch_skeletons_cleaned'].shape = (74, 2, 3)\n",
      "\n",
      "Number of connected components in deocmposed recovered graph = 1\n",
      "Number of connected components in cleaned skeleton graph= 1\n",
      "The downsampled branches number of connected components = 1\n",
      "Empty submeshes = []\n",
      "\n",
      "\n",
      "--- Working on 1-to-1 correspondence-----\n",
      "max(original_labels),len(original_labels) = (0, 1)\n",
      "empty_indices % = 0.14790076335877864\n",
      " conflict_indices % = 0.0\n"
     ]
    },
    {
     "data": {
      "application/vnd.jupyter.widget-view+json": {
       "model_id": "820d1e3703f746e3b0d16205cca47ab1",
       "version_major": 2,
       "version_minor": 0
      },
      "text/plain": [
       "  0%|          | 0/5 [00:00<?, ?it/s]"
      ]
     },
     "metadata": {},
     "output_type": "display_data"
    },
    {
     "name": "stdout",
     "output_type": "stream",
     "text": [
      "Took 0 iterations to expand the label back\n",
      "empty_indices % = 0.0\n",
      " conflict_indices % = 0.0\n"
     ]
    },
    {
     "data": {
      "application/vnd.jupyter.widget-view+json": {
       "model_id": "7371450409014527a1fc94da0c35558d",
       "version_major": 2,
       "version_minor": 0
      },
      "text/plain": [
       "0it [00:00, ?it/s]"
      ]
     },
     "metadata": {},
     "output_type": "display_data"
    },
    {
     "data": {
      "application/vnd.jupyter.widget-view+json": {
       "model_id": "eb6964be4cc04fde983772fff26e4cdf",
       "version_major": 2,
       "version_minor": 0
      },
      "text/plain": [
       "  0%|          | 0/1 [00:00<?, ?it/s]"
      ]
     },
     "metadata": {},
     "output_type": "display_data"
    },
    {
     "name": "stdout",
     "output_type": "stream",
     "text": [
      "Total time for MAP sublimb #0 mesh processing = 8.741568088531494\n",
      "correspondence_1_to_1: 0.18512868881225586\n",
      "Total time for MAP sublimb processing 8.74165654182434\n",
      "---- Working on MP Decomposition #0 ----\n",
      "Computing the current soma touching verts dict manually\n",
      "MP filtering soma verts: 0.013359546661376953\n",
      "Do Not Need to Fix MP Decomposition 0 so just continuing\n",
      "Successful mesh connectivity with type edges\n",
      "\n",
      "---- Working on (0, 0) connection-----\n",
      "sk_conn = [0, 1]\n",
      "conn = [0, 1]\n",
      "winning_vertex = [1481900.72163354  586937.6302398  1100472.34094648]\n",
      "MP_branches_with_stitch_point = [0, 1]\n",
      "MAP_branches_with_stitch_point = [0]\n",
      "MAP_stitch_point_on_end_or_branch = True\n"
     ]
    },
    {
     "data": {
      "application/vnd.jupyter.widget-view+json": {
       "model_id": "014b68e836c644049d3ed2b982242a47",
       "version_major": 2,
       "version_minor": 0
      },
      "text/plain": [
       "0it [00:00, ?it/s]"
      ]
     },
     "metadata": {},
     "output_type": "display_data"
    },
    {
     "name": "stdout",
     "output_type": "stream",
     "text": [
      "\n",
      "\n",
      "--- Working on 1-to-1 correspondence-----\n",
      "max(original_labels),len(original_labels) = (2, 3)\n",
      "empty_indices % = 0.2314184521865816\n",
      " conflict_indices % = 0.00909296425611012\n"
     ]
    },
    {
     "data": {
      "application/vnd.jupyter.widget-view+json": {
       "model_id": "333b1b7802494c0db67f52700c33cda3",
       "version_major": 2,
       "version_minor": 0
      },
      "text/plain": [
       "  0%|          | 0/136 [00:00<?, ?it/s]"
      ]
     },
     "metadata": {},
     "output_type": "display_data"
    },
    {
     "data": {
      "application/vnd.jupyter.widget-view+json": {
       "model_id": "00c2cdbbca4c42d0b8d7315cba379a44",
       "version_major": 2,
       "version_minor": 0
      },
      "text/plain": [
       "  0%|          | 0/3 [00:00<?, ?it/s]"
      ]
     },
     "metadata": {},
     "output_type": "display_data"
    },
    {
     "name": "stdout",
     "output_type": "stream",
     "text": [
      "MP_branches_with_stitch_point= [0, 1]\n",
      "MP_branches_for_correspondence = [0 1]\n",
      "MP_leftover = [], MP_leftover_idx = []\n",
      " Finished with (0, 0) \n",
      "\n",
      "\n",
      "\n",
      "Time for decomp of Limb = 17.417054176330566\n",
      "Number of matching vertices = 14\n",
      "Only one endpoint after filtering away the endpoints that are not on the skeleton\n",
      "Removed 0 skeletal branches\n"
     ]
    },
    {
     "data": {
      "application/vnd.jupyter.widget-view+json": {
       "model_id": "6761479d10b74491a5cd52a4cd56cd88",
       "version_major": 2,
       "version_minor": 0
      },
      "text/plain": [
       "  0%|          | 0/3 [00:00<?, ?it/s]"
      ]
     },
     "metadata": {},
     "output_type": "display_data"
    },
    {
     "name": "stdout",
     "output_type": "stream",
     "text": [
      "39810 39811\n",
      "For marked faces: None\n",
      "empty_indices % = 0.0\n",
      " conflict_indices % = 0.0\n"
     ]
    },
    {
     "data": {
      "application/vnd.jupyter.widget-view+json": {
       "model_id": "9f594a0a97054d13a8df16dbad5e7a5d",
       "version_major": 2,
       "version_minor": 0
      },
      "text/plain": [
       "0it [00:00, ?it/s]"
      ]
     },
     "metadata": {},
     "output_type": "display_data"
    },
    {
     "data": {
      "application/vnd.jupyter.widget-view+json": {
       "model_id": "20e169fcd2054fe2afd62648bd32c4ad",
       "version_major": 2,
       "version_minor": 0
      },
      "text/plain": [
       "  0%|          | 0/3 [00:00<?, ?it/s]"
      ]
     },
     "metadata": {},
     "output_type": "display_data"
    },
    {
     "name": "stdout",
     "output_type": "stream",
     "text": [
      "Successful Limb Decomposition\n",
      "\n",
      "\n",
      "----- Working on Proper Limb # 3 ---------\n",
      "meshparty_segment_size = 100\n",
      "invalidation_d = 12000\n",
      "use_adaptive_invalidation_d= False\n",
      "axon_width_preprocess_limb_max = 200\n",
      "filter_end_node_length= 4000\n",
      "filter_end_node_length_meshparty = 4000\n",
      "invalidation_d = 12000\n",
      "root_curr = [1474851.   571357.5 1113536. ]\n",
      "Time for preparing soma vertices and root: 0.000209808349609375\n",
      "invalidation_d = 12000\n",
      "smooth_neighborhood = 1\n",
      "cc_vertex_thresh = 10\n"
     ]
    },
    {
     "name": "stderr",
     "output_type": "stream",
     "text": [
      "\r",
      "  0%|          | 0/1 [00:00<?, ?it/s]"
     ]
    },
    {
     "data": {
      "application/vnd.jupyter.widget-view+json": {
       "model_id": "ea7d3e1684754aebb07a4e7e51e13c78",
       "version_major": 2,
       "version_minor": 0
      },
      "text/plain": [
       "  0%|          | 0/11304 [00:00<?, ?it/s]"
      ]
     },
     "metadata": {},
     "output_type": "display_data"
    },
    {
     "name": "stderr",
     "output_type": "stream",
     "text": [
      "100%|██████████| 1/1 [00:00<00:00, 13.24it/s]\n"
     ]
    },
    {
     "name": "stdout",
     "output_type": "stream",
     "text": [
      "meshparty_segment_size = 100\n",
      "Time for 1st pass MP skeletonization: 0.22935819625854492\n",
      "connecting at the root\n",
      "branches_touching_root = [2]\n",
      "combining close nodes\n",
      "combine_threshold = 700\n",
      "length of Graph = 1216\n",
      "After combining close endpoints max(kept_branches_idx) = 2, len(kept_branches_idx) = 3\n",
      "empty_indices % = 0.0\n",
      " conflict_indices % = 0.0026850443032310034\n"
     ]
    },
    {
     "data": {
      "application/vnd.jupyter.widget-view+json": {
       "model_id": "97d1e9fe14ea4f61bc91e077cd2b1971",
       "version_major": 2,
       "version_minor": 0
      },
      "text/plain": [
       "  0%|          | 0/1 [00:00<?, ?it/s]"
      ]
     },
     "metadata": {},
     "output_type": "display_data"
    },
    {
     "data": {
      "application/vnd.jupyter.widget-view+json": {
       "model_id": "bef786b4ce924736bb5ffacc6fbc2d59",
       "version_major": 2,
       "version_minor": 0
      },
      "text/plain": [
       "  0%|          | 0/3 [00:00<?, ?it/s]"
      ]
     },
     "metadata": {},
     "output_type": "display_data"
    },
    {
     "name": "stdout",
     "output_type": "stream",
     "text": [
      "Decomposing first pass: 1.333561897277832\n",
      "Attempting to use MeshAfterParty Skeletonization and Mesh Correspondence\n",
      "Another print\n",
      "Divinding into MP and MAP pieces: 6.270408630371094e-05\n",
      "Total time for MAP sublimb processing 3.5762786865234375e-06\n",
      "---- Working on MP Decomposition #0 ----\n",
      "Using Quicker soma_to_piece_touching_vertices because no MAP and only one sublimb_mesh piece \n",
      "MP filtering soma verts: 2.09808349609375e-05\n",
      "Fixing Possible Soma Extension Branch for Sublimb 0\n",
      "Total time for mesh KDTree = 0.14888787269592285\n",
      "sbv[0].reshape(-1,3) = [[1474851.   571357.5 1113536. ]]\n",
      "closest_sk_pt_coord BEFORE = [1478327.0746533   571496.39513115 1112568.79431172]\n",
      "current_skeleton.shape = (816, 2, 3)\n",
      "node_for_stitch = 79: [1478327.0746533   571496.39513115 1112568.79431172]\n",
      "node_for_stitch AFTER = 79: [1478327.0746533   571496.39513115 1112568.79431172]\n",
      "possible_node_loc = [  0 816]\n",
      "possible_node_loc AFTER = [  0 816]\n",
      "curr_shortest_path = [79, 78.0, 77.0, 76.0, 75.0, 74.0, 73.0, 72.0, 71.0, 70.0, 69.0, 68.0, 67.0, 66.0, 65.0, 64.0, 63.0, 62.0, 61.0, 60.0, 59.0, 58.0, 57.0, 56.0, 55.0, 54.0, 53.0, 52.0, 51.0, 50.0, 49.0, 48.0, 47.0, 46.0, 45.0, 44.0, 43.0, 42.0, 41.0, 40.0, 39.0, 38.0, 37.0, 36.0, 35.0, 34.0, 33.0, 32.0, 31.0, 30.0, 29.0, 28.0, 27.0, 26.0, 25.0, 24.0, 23.0, 22.0, 21.0, 20.0, 19.0, 18.0, 17.0, 16.0, 15.0, 14.0, 13.0, 12.0, 11.0, 10.0, 9.0, 8.0, 7.0, 6.0, 5.0, 4.0, 3.0, 2.0, 1.0, 0]\n",
      "Current stitch point was not a branch or endpoint, shortest_path_length to one = 7899.09708045272\n",
      "change_status for create soma extending pieces = False\n",
      "closest_sk_pt_coord AFTER = [1478327.0746533   571496.39513115 1112568.79431172]\n",
      "Adding new branch to skeleton\n",
      "border_average_coordinate = [1475123.88888889  571587.50555556 1113243.55555556]\n",
      "endpoints_must_keep = {1: array([[1475123.88888889,  571587.50555556, 1113243.55555556]])}\n",
      "match_sk_branches = []\n",
      "orig_vertex = [1478327.0746533   571496.39513115 1112568.79431172]\n",
      "match_sk_branches = [2]\n"
     ]
    },
    {
     "data": {
      "application/vnd.jupyter.widget-view+json": {
       "model_id": "6fe4b7644c994c579e49d38a91381307",
       "version_major": 2,
       "version_minor": 0
      },
      "text/plain": [
       "0it [00:00, ?it/s]"
      ]
     },
     "metadata": {},
     "output_type": "display_data"
    },
    {
     "name": "stdout",
     "output_type": "stream",
     "text": [
      "\n",
      "\n",
      "--- Working on 1-to-1 correspondence-----\n",
      "max(original_labels),len(original_labels) = (2, 3)\n",
      "empty_indices % = 0.20505111244738425\n",
      " conflict_indices % = 0.0\n"
     ]
    },
    {
     "data": {
      "application/vnd.jupyter.widget-view+json": {
       "model_id": "70bd22044e0c4e5f95c28447f275621a",
       "version_major": 2,
       "version_minor": 0
      },
      "text/plain": [
       "  0%|          | 0/50 [00:00<?, ?it/s]"
      ]
     },
     "metadata": {},
     "output_type": "display_data"
    },
    {
     "name": "stdout",
     "output_type": "stream",
     "text": [
      "Took 0 iterations to expand the label back\n",
      "empty_indices % = 0.0\n",
      " conflict_indices % = 0.0\n"
     ]
    },
    {
     "data": {
      "application/vnd.jupyter.widget-view+json": {
       "model_id": "3de39669a685470193f2a22c88cfbf4d",
       "version_major": 2,
       "version_minor": 0
      },
      "text/plain": [
       "0it [00:00, ?it/s]"
      ]
     },
     "metadata": {},
     "output_type": "display_data"
    },
    {
     "data": {
      "application/vnd.jupyter.widget-view+json": {
       "model_id": "1a457d6eef2242729a9fc9bdee891fef",
       "version_major": 2,
       "version_minor": 0
      },
      "text/plain": [
       "  0%|          | 0/3 [00:00<?, ?it/s]"
      ]
     },
     "metadata": {},
     "output_type": "display_data"
    },
    {
     "name": "stdout",
     "output_type": "stream",
     "text": [
      "curr_width_median = 87.45547097115127\n",
      "curr_width_median = 443.8311146835145\n",
      "curr_width_median = 384.84518466936464\n",
      "checked segment branches after soma add on\n",
      "MP (because soma touching verts) soma extension add: 2.320955991744995\n",
      "There were not both MAP and MP pieces so skipping the stitch resolving phase\n",
      "Time for decomp of Limb = 3.91330623626709\n",
      "Number of matching vertices = 18\n",
      "Only one endpoint after filtering away the endpoints that are not on the skeleton\n",
      "Removed 0 skeletal branches\n"
     ]
    },
    {
     "data": {
      "application/vnd.jupyter.widget-view+json": {
       "model_id": "ecc85923dafc4b47a5d6c9dc9d1fd301",
       "version_major": 2,
       "version_minor": 0
      },
      "text/plain": [
       "  0%|          | 0/5 [00:00<?, ?it/s]"
      ]
     },
     "metadata": {},
     "output_type": "display_data"
    },
    {
     "name": "stdout",
     "output_type": "stream",
     "text": [
      "22345 22346\n",
      "For marked faces: None\n",
      "empty_indices % = 0.0\n",
      " conflict_indices % = 0.0\n"
     ]
    },
    {
     "data": {
      "application/vnd.jupyter.widget-view+json": {
       "model_id": "e896338eb7304b0f8afcc48c60f56e51",
       "version_major": 2,
       "version_minor": 0
      },
      "text/plain": [
       "0it [00:00, ?it/s]"
      ]
     },
     "metadata": {},
     "output_type": "display_data"
    },
    {
     "data": {
      "application/vnd.jupyter.widget-view+json": {
       "model_id": "3c9db3f8cd4942cf84f353c4339b9c55",
       "version_major": 2,
       "version_minor": 0
      },
      "text/plain": [
       "  0%|          | 0/5 [00:00<?, ?it/s]"
      ]
     },
     "metadata": {},
     "output_type": "display_data"
    },
    {
     "name": "stdout",
     "output_type": "stream",
     "text": [
      "Successful Limb Decomposition\n",
      "\n",
      "\n",
      "----- Working on Proper Limb # 4 ---------\n",
      "meshparty_segment_size = 100\n",
      "invalidation_d = 12000\n",
      "use_adaptive_invalidation_d= False\n",
      "axon_width_preprocess_limb_max = 200\n",
      "filter_end_node_length= 4000\n",
      "filter_end_node_length_meshparty = 4000\n",
      "invalidation_d = 12000\n",
      "root_curr = [1493560.   586779.1 1105606. ]\n",
      "Time for preparing soma vertices and root: 0.0002415180206298828\n",
      "invalidation_d = 12000\n",
      "smooth_neighborhood = 1\n",
      "cc_vertex_thresh = 10\n"
     ]
    },
    {
     "name": "stderr",
     "output_type": "stream",
     "text": [
      "\r",
      "  0%|          | 0/1 [00:00<?, ?it/s]"
     ]
    },
    {
     "data": {
      "application/vnd.jupyter.widget-view+json": {
       "model_id": "11502a8bc6fa406c9554cc3b119a3613",
       "version_major": 2,
       "version_minor": 0
      },
      "text/plain": [
       "  0%|          | 0/10788 [00:00<?, ?it/s]"
      ]
     },
     "metadata": {},
     "output_type": "display_data"
    },
    {
     "name": "stderr",
     "output_type": "stream",
     "text": [
      "100%|██████████| 1/1 [00:00<00:00, 15.85it/s]\n"
     ]
    },
    {
     "name": "stdout",
     "output_type": "stream",
     "text": [
      "meshparty_segment_size = 100\n",
      "Time for 1st pass MP skeletonization: 0.23701691627502441\n",
      "connecting at the root\n",
      "branches_touching_root = [0]\n",
      "combining close nodes\n",
      "combine_threshold = 700\n",
      "length of Graph = 741\n",
      "After combining close endpoints max(kept_branches_idx) = 0, len(kept_branches_idx) = 1\n",
      "empty_indices % = 0.0\n",
      " conflict_indices % = 0.0\n"
     ]
    },
    {
     "data": {
      "application/vnd.jupyter.widget-view+json": {
       "model_id": "e9571ebc146d4fb9b5ca0bb960ba8e96",
       "version_major": 2,
       "version_minor": 0
      },
      "text/plain": [
       "0it [00:00, ?it/s]"
      ]
     },
     "metadata": {},
     "output_type": "display_data"
    },
    {
     "data": {
      "application/vnd.jupyter.widget-view+json": {
       "model_id": "f6c47a3ecda14bafa11bd35a717eb52a",
       "version_major": 2,
       "version_minor": 0
      },
      "text/plain": [
       "  0%|          | 0/1 [00:00<?, ?it/s]"
      ]
     },
     "metadata": {},
     "output_type": "display_data"
    },
    {
     "name": "stdout",
     "output_type": "stream",
     "text": [
      "Decomposing first pass: 0.6063296794891357\n",
      "Attempting to use MeshAfterParty Skeletonization and Mesh Correspondence\n",
      "Another print\n",
      "Found len(mesh_large_idx) MAP candidates: [20742]\n",
      "mesh_large_connectivity: 0.0001766681671142578\n",
      "Finding MAP candidates connected components: 9.512901306152344e-05\n",
      "len(filtered_pieces) = 1\n",
      "skeleton_connectivity_MP : 0.008679628372192383\n",
      "Grouping MP Sublimbs by Graph: 2.4080276489257812e-05\n",
      "Divinding into MP and MAP pieces: 4.76837158203125e-07\n",
      "--- Working on MAP piece 0---\n",
      "MAP Filtering Soma Pieces: 0.03128480911254883\n",
      "inside skeletonize_connected_branch and use_surface_after_CGAL=True, surface_reconstruction_size=1000\n",
      "keep_idx = [0]\n",
      "     Starting Screened Poisson\n",
      "xvfb-run -n 1364 -s \"-screen 0 800x600x24\" meshlabserver $@  -i /neurd_packages/NEURD/Applications/Tutorials/Auto_Proof_Pipeline/Double_Soma/temp/None.off -o /neurd_packages/NEURD/Applications/Tutorials/Auto_Proof_Pipeline/Double_Soma/temp/None_poisson.off -s /neurd_packages/NEURD/Applications/Tutorials/Auto_Proof_Pipeline/Double_Soma/temp/poisson_118735.mls\n",
      "removed temporary input file: /neurd_packages/NEURD/Applications/Tutorials/Auto_Proof_Pipeline/Double_Soma/temp/None.off\n",
      "removed temporary output file: /neurd_packages/NEURD/Applications/Tutorials/Auto_Proof_Pipeline/Double_Soma/temp/None_poisson.off\n",
      "Using the close holes feature\n",
      "xvfb-run -n 4642 -s \"-screen 0 800x600x24\" meshlabserver $@  -i /neurd_packages/NEURD/Applications/Tutorials/Auto_Proof_Pipeline/Double_Soma/temp/neuron_17805.off -o /neurd_packages/NEURD/Applications/Tutorials/Auto_Proof_Pipeline/Double_Soma/temp/neuron_17805_fill_holes.off -s /neurd_packages/NEURD/Applications/Tutorials/Auto_Proof_Pipeline/Double_Soma/temp/fill_holes_589366.mls\n",
      "removed temporary input file: /neurd_packages/NEURD/Applications/Tutorials/Auto_Proof_Pipeline/Double_Soma/temp/neuron_17805.off\n",
      "removed temporary output file: /neurd_packages/NEURD/Applications/Tutorials/Auto_Proof_Pipeline/Double_Soma/temp/neuron_17805_fill_holes.off\n",
      "/neurd_packages/NEURD/Applications/Tutorials/Auto_Proof_Pipeline/Double_Soma/temp/fill_holes_589366.mls is being deleted....\n",
      "-----Time for Screened Poisson= 12.916881322860718\n",
      "mesh_pieces = [<trimesh.Trimesh(vertices.shape=(32479, 3), faces.shape=(64962, 3))>]\n",
      "     Starting Calcification (Changed back where stitches large poissons)\n",
      "Manifold status before skeletonization = True\n",
      "Watertight status before skeletonization = True\n",
      "min_edge_length = 75\n",
      "Before mesh subtraction number of skeleton edges = 762\n"
     ]
    },
    {
     "data": {
      "application/vnd.jupyter.widget-view+json": {
       "model_id": "dd8c1e5d058c431ca681bf153931765c",
       "version_major": 2,
       "version_minor": 0
      },
      "text/plain": [
       "0it [00:00, ?it/s]"
      ]
     },
     "metadata": {},
     "output_type": "display_data"
    },
    {
     "name": "stdout",
     "output_type": "stream",
     "text": [
      "len(leftover_meshes_sig) = []\n"
     ]
    },
    {
     "data": {
      "application/vnd.jupyter.widget-view+json": {
       "model_id": "89c7aa1406e6446badba0df0d33016e0",
       "version_major": 2,
       "version_minor": 0
      },
      "text/plain": [
       "0it [00:00, ?it/s]"
      ]
     },
     "metadata": {},
     "output_type": "display_data"
    },
    {
     "name": "stdout",
     "output_type": "stream",
     "text": [
      "No skeletons to stack so returning empty list\n",
      "STacking the leftover and significant poisson skeleton\n",
      "max_stitch_distance = 5000\n",
      "len_subgraphs AT BEGINNING of the loop\n"
     ]
    },
    {
     "data": {
      "application/vnd.jupyter.widget-view+json": {
       "model_id": "0ef920680526408393fd85484aa92a3d",
       "version_major": 2,
       "version_minor": 0
      },
      "text/plain": [
       "  0%|          | 0/1 [00:00<?, ?it/s]"
      ]
     },
     "metadata": {},
     "output_type": "display_data"
    },
    {
     "name": "stdout",
     "output_type": "stream",
     "text": [
      "all graph is one component!\n",
      "Total time for skeleton stitching = 0.02700638771057129\n",
      "The process was using a temp folder\n",
      "Checking connected components after skeletonize_connected_branch\n",
      "    Total time for skeletonizing branch: 17.997700929641724\n",
      "Checking connected components after removing cycles\n",
      "Total time for mesh KDTree = 0.09834837913513184\n",
      "sbv[0].reshape(-1,3) = [[1493560.   586779.1 1105606. ]]\n",
      "closest_sk_pt_coord BEFORE = [1492720.  587125. 1106680.]\n",
      "current_skeleton.shape = (761, 2, 3)\n",
      "node_for_stitch = 194: [1492720.  587125. 1106680.]\n",
      "node_for_stitch AFTER = 194: [1492720.  587125. 1106680.]\n",
      "possible_node_loc = [  0  48 122 123 145 177 194 314 413 570 582 586 614 716 731 761]\n",
      "possible_node_loc AFTER = [  0  48 122 123 145 177 194 314 413 570 582 586 614 716 731 761]\n",
      "curr_shortest_path = [194]\n",
      "Current stitch point was a branch or endpoint\n",
      "change_status for create soma extending pieces = False\n",
      "closest_sk_pt_coord AFTER = [1492720.  587125. 1106680.]\n",
      "skipping soma 0 because closest skeleton node was already end node\n",
      "sbv[0].reshape(-1,3) = [[1474600.   582912.4 1113344. ]]\n",
      "closest_sk_pt_coord BEFORE = [1475040.  582938. 1113450.]\n",
      "current_skeleton.shape = (761, 2, 3)\n",
      "node_for_stitch = 0: [1475040.  582938. 1113450.]\n",
      "node_for_stitch AFTER = 0: [1475040.  582938. 1113450.]\n",
      "possible_node_loc = [  0  48 122 123 145 177 194 314 413 570 582 586 614 716 731 761]\n",
      "possible_node_loc AFTER = [  0  48 122 123 145 177 194 314 413 570 582 586 614 716 731 761]\n",
      "curr_shortest_path = [0]\n",
      "Current stitch point was a branch or endpoint\n",
      "change_status for create soma extending pieces = False\n",
      "closest_sk_pt_coord AFTER = [1475040.  582938. 1113450.]\n",
      "skipping soma 1 because closest skeleton node was already end node\n",
      "endpoints_must_keep = {0: array([[1492720.,  587125., 1106680.]]), 1: array([[1475040.,  582938., 1113450.]])}\n",
      "    Total time for Fixing Skeleton Soma Endpoint Extension : 0.3143024444580078\n",
      "filter_end_node_length = 4000\n"
     ]
    },
    {
     "data": {
      "application/vnd.jupyter.widget-view+json": {
       "model_id": "af70dd30ff584927af3f538c6e832827",
       "version_major": 2,
       "version_minor": 0
      },
      "text/plain": [
       "  0%|          | 0/11 [00:00<?, ?it/s]"
      ]
     },
     "metadata": {},
     "output_type": "display_data"
    },
    {
     "name": "stdout",
     "output_type": "stream",
     "text": [
      "Checking connected components after clean_skeleton\n",
      "after DISTANCE cleaning limb size of skeleton = (699, 2, 3)\n",
      "********COMBINING CLOSE SKELETON NODES WITHIN 700 DISTANCE**********\n",
      "combine_threshold = 700\n",
      "Found 0 valid paths to replace\n",
      "valid_paths = []\n",
      "valid_path_lengths = []\n",
      "No valid paths found so just returning the original\n",
      "skeletonize_and_clean_connected_branch_CGAL: 18.926425457000732\n",
      "Working on limb correspondence for #0 MAP piece\n",
      "xvfb-run -n 7939 -s \"-screen 0 800x600x24\" meshlabserver $@  -i /neurd_packages/NEURD/Applications/Tutorials/Auto_Proof_Pipeline/Double_Soma/temp/neuron_35459.off -o /neurd_packages/NEURD/Applications/Tutorials/Auto_Proof_Pipeline/Double_Soma/temp/neuron_35459_remove_interior.off -s /neurd_packages/NEURD/Applications/Tutorials/Auto_Proof_Pipeline/Double_Soma/temp/remove_interior_64639.mls\n",
      "removed temporary input file: /neurd_packages/NEURD/Applications/Tutorials/Auto_Proof_Pipeline/Double_Soma/temp/neuron_35459.off\n",
      "removed temporary output file: /neurd_packages/NEURD/Applications/Tutorials/Auto_Proof_Pipeline/Double_Soma/temp/neuron_35459_remove_interior.off\n",
      "/neurd_packages/NEURD/Applications/Tutorials/Auto_Proof_Pipeline/Double_Soma/temp/remove_interior_64639.mls is being deleted....\n",
      "Removing the following inside neurons: [<trimesh.Trimesh(vertices.shape=(205, 3), faces.shape=(309, 3))>]\n"
     ]
    },
    {
     "data": {
      "application/vnd.jupyter.widget-view+json": {
       "model_id": "acd07353b13d4403928212e75a4699d8",
       "version_major": 2,
       "version_minor": 0
      },
      "text/plain": [
       "0it [00:00, ?it/s]"
      ]
     },
     "metadata": {},
     "output_type": "display_data"
    },
    {
     "name": "stdout",
     "output_type": "stream",
     "text": [
      "Total time for decomposition = 3.269258499145508\n",
      "mesh_correspondence_first_pass: 3.2693357467651367\n",
      "Limb decomposed into 7 branches\n",
      "divided_skeleton_graph_recovered = (699, 2, 3) and \n",
      "current_mesh_data[0]['branch_skeletons_cleaned'].shape = (699, 2, 3)\n",
      "\n",
      "Number of connected components in deocmposed recovered graph = 1\n",
      "Number of connected components in cleaned skeleton graph= 1\n",
      "The downsampled branches number of connected components = 1\n",
      "Empty submeshes = []\n",
      "\n",
      "\n",
      "--- Working on 1-to-1 correspondence-----\n",
      "max(original_labels),len(original_labels) = (6, 7)\n",
      "empty_indices % = 0.18194966734162568\n",
      " conflict_indices % = 0.05365924211744287\n"
     ]
    },
    {
     "data": {
      "application/vnd.jupyter.widget-view+json": {
       "model_id": "9a475e836c054326b36f3b70f15f3d39",
       "version_major": 2,
       "version_minor": 0
      },
      "text/plain": [
       "  0%|          | 0/61 [00:00<?, ?it/s]"
      ]
     },
     "metadata": {},
     "output_type": "display_data"
    },
    {
     "name": "stdout",
     "output_type": "stream",
     "text": [
      "Took 0 iterations to expand the label back\n",
      "empty_indices % = 0.0\n",
      " conflict_indices % = 0.0\n"
     ]
    },
    {
     "data": {
      "application/vnd.jupyter.widget-view+json": {
       "model_id": "9175dfb90ff145458421b710167fbf11",
       "version_major": 2,
       "version_minor": 0
      },
      "text/plain": [
       "0it [00:00, ?it/s]"
      ]
     },
     "metadata": {},
     "output_type": "display_data"
    },
    {
     "name": "stdout",
     "output_type": "stream",
     "text": [
      "Took 0 iterations to expand the label back\n",
      "empty_indices % = 0.0\n",
      " conflict_indices % = 0.0\n"
     ]
    },
    {
     "data": {
      "application/vnd.jupyter.widget-view+json": {
       "model_id": "181ef08214d9493cb9d5da75d45c138b",
       "version_major": 2,
       "version_minor": 0
      },
      "text/plain": [
       "0it [00:00, ?it/s]"
      ]
     },
     "metadata": {},
     "output_type": "display_data"
    },
    {
     "data": {
      "application/vnd.jupyter.widget-view+json": {
       "model_id": "67974bc67adb4867bc71f18b189b3570",
       "version_major": 2,
       "version_minor": 0
      },
      "text/plain": [
       "  0%|          | 0/7 [00:00<?, ?it/s]"
      ]
     },
     "metadata": {},
     "output_type": "display_data"
    },
    {
     "name": "stdout",
     "output_type": "stream",
     "text": [
      "Total time for MAP sublimb #0 mesh processing = 24.398809671401978\n",
      "correspondence_1_to_1: 2.171708345413208\n",
      "Total time for MAP sublimb processing 24.398878574371338\n",
      "There were not both MAP and MP pieces so skipping the stitch resolving phase\n",
      "Time for decomp of Limb = 25.272932529449463\n",
      "Number of matching vertices = 60\n",
      "Number of matching vertices = 13\n",
      "Only one endpoint after filtering away the endpoints that are not on the skeleton\n",
      "Only one endpoint after filtering away the endpoints that are not on the skeleton\n",
      "Removed 0 skeletal branches\n"
     ]
    },
    {
     "data": {
      "application/vnd.jupyter.widget-view+json": {
       "model_id": "54fe02801fbf4344a3a49da90b26d8ef",
       "version_major": 2,
       "version_minor": 0
      },
      "text/plain": [
       "  0%|          | 0/7 [00:00<?, ?it/s]"
      ]
     },
     "metadata": {},
     "output_type": "display_data"
    },
    {
     "name": "stdout",
     "output_type": "stream",
     "text": [
      "20741 20742\n",
      "For marked faces: None\n",
      "empty_indices % = 0.0\n",
      " conflict_indices % = 0.0\n"
     ]
    },
    {
     "data": {
      "application/vnd.jupyter.widget-view+json": {
       "model_id": "a27df12cfe184dbabdb68d6c8f2844cd",
       "version_major": 2,
       "version_minor": 0
      },
      "text/plain": [
       "0it [00:00, ?it/s]"
      ]
     },
     "metadata": {},
     "output_type": "display_data"
    },
    {
     "data": {
      "application/vnd.jupyter.widget-view+json": {
       "model_id": "69bdb65a11ad40358556968b49ac4fe0",
       "version_major": 2,
       "version_minor": 0
      },
      "text/plain": [
       "  0%|          | 0/7 [00:00<?, ?it/s]"
      ]
     },
     "metadata": {},
     "output_type": "display_data"
    },
    {
     "name": "stdout",
     "output_type": "stream",
     "text": [
      "Successful Limb Decomposition\n",
      "\n",
      "\n",
      "----- Working on Proper Limb # 5 ---------\n",
      "meshparty_segment_size = 100\n",
      "invalidation_d = 12000\n",
      "use_adaptive_invalidation_d= False\n",
      "axon_width_preprocess_limb_max = 200\n",
      "filter_end_node_length= 4000\n",
      "filter_end_node_length_meshparty = 4000\n",
      "invalidation_d = 12000\n",
      "root_curr = [1486653.   594244.2 1104480. ]\n",
      "Time for preparing soma vertices and root: 0.00022864341735839844\n",
      "invalidation_d = 12000\n",
      "smooth_neighborhood = 1\n",
      "cc_vertex_thresh = 10\n"
     ]
    },
    {
     "name": "stderr",
     "output_type": "stream",
     "text": [
      "\r",
      "  0%|          | 0/1 [00:00<?, ?it/s]"
     ]
    },
    {
     "data": {
      "application/vnd.jupyter.widget-view+json": {
       "model_id": "6319ac981d6a4baab1fe51d97e320306",
       "version_major": 2,
       "version_minor": 0
      },
      "text/plain": [
       "  0%|          | 0/9843 [00:00<?, ?it/s]"
      ]
     },
     "metadata": {},
     "output_type": "display_data"
    },
    {
     "name": "stderr",
     "output_type": "stream",
     "text": [
      "100%|██████████| 1/1 [00:00<00:00, 15.83it/s]\n"
     ]
    },
    {
     "name": "stdout",
     "output_type": "stream",
     "text": [
      "meshparty_segment_size = 100\n",
      "Time for 1st pass MP skeletonization: 0.23736786842346191\n",
      "branches_touching_root = [0]\n",
      "combining close nodes\n",
      "combine_threshold = 700\n",
      "length of Graph = 818\n",
      "After combining close endpoints max(kept_branches_idx) = 0, len(kept_branches_idx) = 1\n",
      "empty_indices % = 0.0\n",
      " conflict_indices % = 0.0\n"
     ]
    },
    {
     "data": {
      "application/vnd.jupyter.widget-view+json": {
       "model_id": "ce6ff9b9988f4f3bac68d8b75e05a953",
       "version_major": 2,
       "version_minor": 0
      },
      "text/plain": [
       "0it [00:00, ?it/s]"
      ]
     },
     "metadata": {},
     "output_type": "display_data"
    },
    {
     "data": {
      "application/vnd.jupyter.widget-view+json": {
       "model_id": "d0da4d40e27b4dfe97d7288f8e8be587",
       "version_major": 2,
       "version_minor": 0
      },
      "text/plain": [
       "  0%|          | 0/1 [00:00<?, ?it/s]"
      ]
     },
     "metadata": {},
     "output_type": "display_data"
    },
    {
     "name": "stdout",
     "output_type": "stream",
     "text": [
      "Decomposing first pass: 1.298018455505371\n",
      "Attempting to use MeshAfterParty Skeletonization and Mesh Correspondence\n",
      "Another print\n",
      "Divinding into MP and MAP pieces: 6.437301635742188e-05\n",
      "Total time for MAP sublimb processing 3.337860107421875e-06\n",
      "---- Working on MP Decomposition #0 ----\n",
      "Using Quicker soma_to_piece_touching_vertices because no MAP and only one sublimb_mesh piece \n",
      "MP filtering soma verts: 2.0742416381835938e-05\n",
      "Fixing Possible Soma Extension Branch for Sublimb 0\n",
      "Total time for mesh KDTree = 0.14182257652282715\n",
      "sbv[0].reshape(-1,3) = [[1486653.   594244.2 1104480. ]]\n",
      "closest_sk_pt_coord BEFORE = [1486547.7606223   594609.92820407 1104601.87572914]\n",
      "current_skeleton.shape = (817, 2, 3)\n",
      "node_for_stitch = 817: [1486547.7606223   594609.92820407 1104601.87572914]\n",
      "node_for_stitch AFTER = 817: [1486547.7606223   594609.92820407 1104601.87572914]\n",
      "possible_node_loc = [334 817]\n",
      "possible_node_loc AFTER = [334 817]\n",
      "curr_shortest_path = [817]\n",
      "Current stitch point was a branch or endpoint\n",
      "change_status for create soma extending pieces = False\n",
      "closest_sk_pt_coord AFTER = [1486547.7606223   594609.92820407 1104601.87572914]\n",
      "skipping soma 0 because closest skeleton node was already end node\n",
      "endpoints_must_keep = {0: array([[1486547.7606223 ,  594609.92820407, 1104601.87572914]])}\n",
      "match_sk_branches = [0]\n",
      "The new branch info was none so skipping \n",
      "\n",
      "No soma extending branch was added for this sublimb even though it had a soma border (means they already existed)\n",
      "MP (because soma touching verts) soma extension add: 0.24335789680480957\n",
      "There were not both MAP and MP pieces so skipping the stitch resolving phase\n",
      "Time for decomp of Limb = 1.8007919788360596\n",
      "Number of matching vertices = 27\n",
      "Only one endpoint after filtering away the endpoints that are not on the skeleton\n",
      "Removed 0 skeletal branches\n"
     ]
    },
    {
     "data": {
      "application/vnd.jupyter.widget-view+json": {
       "model_id": "1a6bd1c5536c487c865f6d00cb524c96",
       "version_major": 2,
       "version_minor": 0
      },
      "text/plain": [
       "  0%|          | 0/1 [00:00<?, ?it/s]"
      ]
     },
     "metadata": {},
     "output_type": "display_data"
    },
    {
     "name": "stdout",
     "output_type": "stream",
     "text": [
      "19361 19362\n",
      "For marked faces: None\n",
      "empty_indices % = 0.0\n",
      " conflict_indices % = 0.0\n"
     ]
    },
    {
     "data": {
      "application/vnd.jupyter.widget-view+json": {
       "model_id": "f579df550137448b808d8910126f098d",
       "version_major": 2,
       "version_minor": 0
      },
      "text/plain": [
       "0it [00:00, ?it/s]"
      ]
     },
     "metadata": {},
     "output_type": "display_data"
    },
    {
     "data": {
      "application/vnd.jupyter.widget-view+json": {
       "model_id": "dca7c72b04194ec7b84f9b15594554e1",
       "version_major": 2,
       "version_minor": 0
      },
      "text/plain": [
       "  0%|          | 0/1 [00:00<?, ?it/s]"
      ]
     },
     "metadata": {},
     "output_type": "display_data"
    },
    {
     "name": "stdout",
     "output_type": "stream",
     "text": [
      "Successful Limb Decomposition\n",
      "\n",
      "\n",
      "----- Working on Proper Limb # 6 ---------\n",
      "meshparty_segment_size = 100\n",
      "invalidation_d = 12000\n",
      "use_adaptive_invalidation_d= False\n",
      "axon_width_preprocess_limb_max = 200\n",
      "filter_end_node_length= 4000\n",
      "filter_end_node_length_meshparty = 4000\n",
      "invalidation_d = 12000\n",
      "root_curr = [1491272.  582425. 1102199.]\n",
      "Time for preparing soma vertices and root: 0.00026226043701171875\n",
      "invalidation_d = 12000\n",
      "smooth_neighborhood = 1\n",
      "cc_vertex_thresh = 10\n"
     ]
    },
    {
     "name": "stderr",
     "output_type": "stream",
     "text": [
      "\r",
      "  0%|          | 0/1 [00:00<?, ?it/s]"
     ]
    },
    {
     "data": {
      "application/vnd.jupyter.widget-view+json": {
       "model_id": "060f641db14a4da7a8c8fc04a1cd6ae4",
       "version_major": 2,
       "version_minor": 0
      },
      "text/plain": [
       "  0%|          | 0/7350 [00:00<?, ?it/s]"
      ]
     },
     "metadata": {},
     "output_type": "display_data"
    },
    {
     "name": "stderr",
     "output_type": "stream",
     "text": [
      "100%|██████████| 1/1 [00:00<00:00, 18.73it/s]\n"
     ]
    },
    {
     "name": "stdout",
     "output_type": "stream",
     "text": [
      "meshparty_segment_size = 100\n",
      "Time for 1st pass MP skeletonization: 0.2037205696105957\n",
      "connecting at the root\n",
      "branches_touching_root = [0]\n",
      "combining close nodes\n",
      "combine_threshold = 700\n",
      "length of Graph = 734\n",
      "After combining close endpoints max(kept_branches_idx) = 0, len(kept_branches_idx) = 1\n",
      "empty_indices % = 0.0\n",
      " conflict_indices % = 0.0\n"
     ]
    },
    {
     "data": {
      "application/vnd.jupyter.widget-view+json": {
       "model_id": "7aa787ffd4b247d2b2ead9ec866fb30c",
       "version_major": 2,
       "version_minor": 0
      },
      "text/plain": [
       "0it [00:00, ?it/s]"
      ]
     },
     "metadata": {},
     "output_type": "display_data"
    },
    {
     "data": {
      "application/vnd.jupyter.widget-view+json": {
       "model_id": "9163b9c721cd452aba0824c97fcc497a",
       "version_major": 2,
       "version_minor": 0
      },
      "text/plain": [
       "  0%|          | 0/1 [00:00<?, ?it/s]"
      ]
     },
     "metadata": {},
     "output_type": "display_data"
    },
    {
     "name": "stdout",
     "output_type": "stream",
     "text": [
      "Decomposing first pass: 0.513624906539917\n",
      "Attempting to use MeshAfterParty Skeletonization and Mesh Correspondence\n",
      "Another print\n",
      "Divinding into MP and MAP pieces: 3.0040740966796875e-05\n",
      "Total time for MAP sublimb processing 2.6226043701171875e-06\n",
      "---- Working on MP Decomposition #0 ----\n",
      "Using Quicker soma_to_piece_touching_vertices because no MAP and only one sublimb_mesh piece \n",
      "MP filtering soma verts: 1.5020370483398438e-05\n",
      "Fixing Possible Soma Extension Branch for Sublimb 0\n",
      "Total time for mesh KDTree = 0.12365269660949707\n",
      "sbv[0].reshape(-1,3) = [[1491272.  582425. 1102199.]]\n",
      "closest_sk_pt_coord BEFORE = [1491378.93502276  582020.70946596 1101822.28585048]\n",
      "current_skeleton.shape = (733, 2, 3)\n",
      "node_for_stitch = 1: [1491378.93502276  582020.70946596 1101822.28585048]\n",
      "node_for_stitch AFTER = 1: [1491378.93502276  582020.70946596 1101822.28585048]\n",
      "possible_node_loc = [  0 708]\n",
      "possible_node_loc AFTER = [  0 708]\n",
      "curr_shortest_path = [1, 0.0]\n",
      "Current stitch point was not a branch or endpoint, shortest_path_length to one = 99.99677776977433\n",
      "Changing the stitch point becasue the distance to end or branch node was 99.99677776977433\n",
      "New stitch point has degree 1\n",
      "change_status for create soma extending pieces = True\n",
      "closest_sk_pt_coord AFTER = [1491350.10222965  582056.70210586 1101733.55842811]\n",
      "skipping soma 0 because closest skeleton node was already end node\n",
      "endpoints_must_keep = {0: array([[1491350.10222965,  582056.70210586, 1101733.55842811]])}\n",
      "match_sk_branches = [0]\n",
      "The new branch info was none so skipping \n",
      "\n",
      "No soma extending branch was added for this sublimb even though it had a soma border (means they already existed)\n",
      "MP (because soma touching verts) soma extension add: 0.24513769149780273\n",
      "There were not both MAP and MP pieces so skipping the stitch resolving phase\n",
      "Time for decomp of Limb = 0.9807744026184082\n",
      "Number of matching vertices = 9\n",
      "Only one endpoint after filtering away the endpoints that are not on the skeleton\n",
      "Removed 0 skeletal branches\n"
     ]
    },
    {
     "data": {
      "application/vnd.jupyter.widget-view+json": {
       "model_id": "7434c39956784391a44cb258ea5cfe7d",
       "version_major": 2,
       "version_minor": 0
      },
      "text/plain": [
       "  0%|          | 0/1 [00:00<?, ?it/s]"
      ]
     },
     "metadata": {},
     "output_type": "display_data"
    },
    {
     "name": "stdout",
     "output_type": "stream",
     "text": [
      "14575 14576\n",
      "For marked faces: None\n",
      "empty_indices % = 0.0\n",
      " conflict_indices % = 0.0\n"
     ]
    },
    {
     "data": {
      "application/vnd.jupyter.widget-view+json": {
       "model_id": "43cea1d231e248f1ae13dadef7394029",
       "version_major": 2,
       "version_minor": 0
      },
      "text/plain": [
       "0it [00:00, ?it/s]"
      ]
     },
     "metadata": {},
     "output_type": "display_data"
    },
    {
     "data": {
      "application/vnd.jupyter.widget-view+json": {
       "model_id": "b906bb1b838e4cdc8a74c8a18d83c9e5",
       "version_major": 2,
       "version_minor": 0
      },
      "text/plain": [
       "  0%|          | 0/1 [00:00<?, ?it/s]"
      ]
     },
     "metadata": {},
     "output_type": "display_data"
    },
    {
     "name": "stdout",
     "output_type": "stream",
     "text": [
      "Successful Limb Decomposition\n",
      "\n",
      "\n",
      "----- Working on Proper Limb # 7 ---------\n",
      "meshparty_segment_size = 100\n",
      "invalidation_d = 12000\n",
      "use_adaptive_invalidation_d= False\n",
      "axon_width_preprocess_limb_max = 200\n",
      "filter_end_node_length= 4000\n",
      "filter_end_node_length_meshparty = 4000\n",
      "invalidation_d = 12000\n",
      "root_curr = [1468936.   574693.8 1112623. ]\n",
      "Time for preparing soma vertices and root: 0.0001838207244873047\n",
      "invalidation_d = 12000\n",
      "smooth_neighborhood = 1\n",
      "cc_vertex_thresh = 10\n"
     ]
    },
    {
     "name": "stderr",
     "output_type": "stream",
     "text": [
      "\r",
      "  0%|          | 0/1 [00:00<?, ?it/s]"
     ]
    },
    {
     "data": {
      "application/vnd.jupyter.widget-view+json": {
       "model_id": "5f4a2344d6ac4e61b6014676b30fe9d3",
       "version_major": 2,
       "version_minor": 0
      },
      "text/plain": [
       "  0%|          | 0/2055 [00:00<?, ?it/s]"
      ]
     },
     "metadata": {},
     "output_type": "display_data"
    },
    {
     "name": "stderr",
     "output_type": "stream",
     "text": [
      "\r",
      "100%|██████████| 1/1 [00:00<00:00, 38.02it/s]"
     ]
    },
    {
     "name": "stdout",
     "output_type": "stream",
     "text": [
      "meshparty_segment_size = 100\n",
      "Time for 1st pass MP skeletonization: 0.1231071949005127\n",
      "connecting at the root\n",
      "branches_touching_root = [0]\n",
      "combining close nodes\n",
      "combine_threshold = 700\n",
      "length of Graph = 117\n",
      "After combining close endpoints max(kept_branches_idx) = 0, len(kept_branches_idx) = 1\n"
     ]
    },
    {
     "name": "stderr",
     "output_type": "stream",
     "text": [
      "\n"
     ]
    },
    {
     "name": "stdout",
     "output_type": "stream",
     "text": [
      "empty_indices % = 0.0\n",
      " conflict_indices % = 0.0\n"
     ]
    },
    {
     "data": {
      "application/vnd.jupyter.widget-view+json": {
       "model_id": "b32e74e0e1994519987994d4915a469a",
       "version_major": 2,
       "version_minor": 0
      },
      "text/plain": [
       "0it [00:00, ?it/s]"
      ]
     },
     "metadata": {},
     "output_type": "display_data"
    },
    {
     "data": {
      "application/vnd.jupyter.widget-view+json": {
       "model_id": "5189ea3100c54cfe9abd1814abdf6f39",
       "version_major": 2,
       "version_minor": 0
      },
      "text/plain": [
       "  0%|          | 0/1 [00:00<?, ?it/s]"
      ]
     },
     "metadata": {},
     "output_type": "display_data"
    },
    {
     "name": "stdout",
     "output_type": "stream",
     "text": [
      "Decomposing first pass: 0.18505620956420898\n",
      "Attempting to use MeshAfterParty Skeletonization and Mesh Correspondence\n",
      "Another print\n",
      "Found len(mesh_large_idx) MAP candidates: [3349]\n",
      "mesh_large_connectivity: 0.00015735626220703125\n",
      "Finding MAP candidates connected components: 6.937980651855469e-05\n",
      "len(filtered_pieces) = 1\n",
      "skeleton_connectivity_MP : 0.002783060073852539\n",
      "Grouping MP Sublimbs by Graph: 2.6464462280273438e-05\n",
      "Divinding into MP and MAP pieces: 7.152557373046875e-07\n",
      "--- Working on MAP piece 0---\n",
      "MAP Filtering Soma Pieces: 0.015118598937988281\n",
      "inside skeletonize_connected_branch and use_surface_after_CGAL=True, surface_reconstruction_size=1000\n",
      "keep_idx = [0]\n",
      "     Starting Screened Poisson\n",
      "xvfb-run -n 3527 -s \"-screen 0 800x600x24\" meshlabserver $@  -i /neurd_packages/NEURD/Applications/Tutorials/Auto_Proof_Pipeline/Double_Soma/temp/None.off -o /neurd_packages/NEURD/Applications/Tutorials/Auto_Proof_Pipeline/Double_Soma/temp/None_poisson.off -s /neurd_packages/NEURD/Applications/Tutorials/Auto_Proof_Pipeline/Double_Soma/temp/poisson_170790.mls\n",
      "removed temporary input file: /neurd_packages/NEURD/Applications/Tutorials/Auto_Proof_Pipeline/Double_Soma/temp/None.off\n",
      "removed temporary output file: /neurd_packages/NEURD/Applications/Tutorials/Auto_Proof_Pipeline/Double_Soma/temp/None_poisson.off\n",
      "Using the close holes feature\n",
      "xvfb-run -n 7066 -s \"-screen 0 800x600x24\" meshlabserver $@  -i /neurd_packages/NEURD/Applications/Tutorials/Auto_Proof_Pipeline/Double_Soma/temp/neuron_11262.off -o /neurd_packages/NEURD/Applications/Tutorials/Auto_Proof_Pipeline/Double_Soma/temp/neuron_11262_fill_holes.off -s /neurd_packages/NEURD/Applications/Tutorials/Auto_Proof_Pipeline/Double_Soma/temp/fill_holes_794145.mls\n",
      "removed temporary input file: /neurd_packages/NEURD/Applications/Tutorials/Auto_Proof_Pipeline/Double_Soma/temp/neuron_11262.off\n",
      "removed temporary output file: /neurd_packages/NEURD/Applications/Tutorials/Auto_Proof_Pipeline/Double_Soma/temp/neuron_11262_fill_holes.off\n",
      "/neurd_packages/NEURD/Applications/Tutorials/Auto_Proof_Pipeline/Double_Soma/temp/fill_holes_794145.mls is being deleted....\n",
      "-----Time for Screened Poisson= 9.110097169876099\n",
      "mesh_pieces = [<trimesh.Trimesh(vertices.shape=(13498, 3), faces.shape=(26992, 3))>]\n",
      "     Starting Calcification (Changed back where stitches large poissons)\n",
      "Manifold status before skeletonization = True\n",
      "Watertight status before skeletonization = True\n",
      "min_edge_length = 75\n",
      "Removing the cycles made the skeleton of 0 size so returning old skeleton\n",
      "Before mesh subtraction number of skeleton edges = 2\n",
      "sk_graph_clean.degree = dict_items([])\n"
     ]
    },
    {
     "data": {
      "image/png": "[encoded data removed]",
      "text/plain": [
       "<Figure size 640x480 with 1 Axes>"
      ]
     },
     "metadata": {},
     "output_type": "display_data"
    },
    {
     "data": {
      "application/vnd.jupyter.widget-view+json": {
       "model_id": "225fe271ac8c459199c455348311f332",
       "version_major": 2,
       "version_minor": 0
      },
      "text/plain": [
       "0it [00:00, ?it/s]"
      ]
     },
     "metadata": {},
     "output_type": "display_data"
    },
    {
     "name": "stdout",
     "output_type": "stream",
     "text": [
      "len(leftover_meshes_sig) = [<trimesh.Trimesh(vertices.shape=(2056, 3), faces.shape=(3349, 3))>]\n"
     ]
    },
    {
     "data": {
      "application/vnd.jupyter.widget-view+json": {
       "model_id": "13f111e5b78542f2a427dbe48073b925",
       "version_major": 2,
       "version_minor": 0
      },
      "text/plain": [
       "  0%|          | 0/1 [00:00<?, ?it/s]"
      ]
     },
     "metadata": {},
     "output_type": "display_data"
    },
    {
     "name": "stdout",
     "output_type": "stream",
     "text": [
      "invalidation_d = 12000\n",
      "smooth_neighborhood = 1\n",
      "cc_vertex_thresh = 10\n"
     ]
    },
    {
     "name": "stderr",
     "output_type": "stream",
     "text": [
      "\n",
      "  0%|          | 0/1 [00:00<?, ?it/s]\u001b[A"
     ]
    },
    {
     "data": {
      "application/vnd.jupyter.widget-view+json": {
       "model_id": "f7ad785c8fe246fea8f9582e0390fe58",
       "version_major": 2,
       "version_minor": 0
      },
      "text/plain": [
       "  0%|          | 0/2055 [00:00<?, ?it/s]"
      ]
     },
     "metadata": {},
     "output_type": "display_data"
    },
    {
     "name": "stderr",
     "output_type": "stream",
     "text": [
      "\r",
      "100%|██████████| 1/1 [00:00<00:00, 33.09it/s]"
     ]
    },
    {
     "name": "stdout",
     "output_type": "stream",
     "text": [
      "Time for sk_meshparty_obj = 0.08242273330688477\n",
      "branches_touching_root = [0]\n",
      "combining close nodes\n",
      "combine_threshold = 700\n",
      "length of Graph = 117\n",
      "After combining close endpoints max(kept_branches_idx) = 0, len(kept_branches_idx) = 1\n",
      "empty_indices % = 0.0\n",
      " conflict_indices % = 0.0\n"
     ]
    },
    {
     "name": "stderr",
     "output_type": "stream",
     "text": [
      "\n"
     ]
    },
    {
     "data": {
      "application/vnd.jupyter.widget-view+json": {
       "model_id": "f3d590cf3f8941e38ac00ad7e8f8990b",
       "version_major": 2,
       "version_minor": 0
      },
      "text/plain": [
       "0it [00:00, ?it/s]"
      ]
     },
     "metadata": {},
     "output_type": "display_data"
    },
    {
     "data": {
      "application/vnd.jupyter.widget-view+json": {
       "model_id": "2588978cc843450c89d279dd1bf46092",
       "version_major": 2,
       "version_minor": 0
      },
      "text/plain": [
       "  0%|          | 0/1 [00:00<?, ?it/s]"
      ]
     },
     "metadata": {},
     "output_type": "display_data"
    },
    {
     "name": "stdout",
     "output_type": "stream",
     "text": [
      "widths = [6271.18431456]\n",
      "width_median= 6271.184314564678\n",
      "Time for correspondence = 0.18661880493164062\n",
      "STacking the leftover and significant poisson skeleton\n",
      "max_stitch_distance = 5000\n",
      "len_subgraphs AT BEGINNING of the loop\n"
     ]
    },
    {
     "data": {
      "application/vnd.jupyter.widget-view+json": {
       "model_id": "a94d28bdf2214bea9f4284cae497736e",
       "version_major": 2,
       "version_minor": 0
      },
      "text/plain": [
       "  0%|          | 0/2 [00:00<?, ?it/s]"
      ]
     },
     "metadata": {},
     "output_type": "display_data"
    },
    {
     "name": "stdout",
     "output_type": "stream",
     "text": [
      "all graph is one component!\n",
      "Total time for skeleton stitching = 0.027176856994628906\n",
      "The process was using a temp folder\n",
      "Checking connected components after skeletonize_connected_branch\n",
      "    Total time for skeletonizing branch: 11.426100254058838\n",
      "Checking connected components after removing cycles\n",
      "Total time for mesh KDTree = 0.022540569305419922\n",
      "sbv[0].reshape(-1,3) = [[1468936.   574693.8 1112623. ]]\n",
      "closest_sk_pt_coord BEFORE = [1467110.60911576  578567.92374513 1112556.22084362]\n",
      "current_skeleton.shape = (118, 2, 3)\n",
      "node_for_stitch = 3: [1467110.60911576  578567.92374513 1112556.22084362]\n",
      "node_for_stitch AFTER = 3: [1467110.60911576  578567.92374513 1112556.22084362]\n",
      "possible_node_loc = [  0 106 117]\n",
      "possible_node_loc AFTER = [  0 106 117]\n",
      "curr_shortest_path = [3, 1.0, 2.0, 4.0, 6.0, 0]\n",
      "Current stitch point was not a branch or endpoint, shortest_path_length to one = 1555.5275176598207\n",
      "change_status for create soma extending pieces = False\n",
      "closest_sk_pt_coord AFTER = [1467110.60911576  578567.92374513 1112556.22084362]\n",
      "Adding new branch to skeleton\n",
      "border_average_coordinate = [1468163.64444444  578622.88333333 1112816.05555556]\n",
      "endpoints_must_keep = {1: array([[1468163.64444444,  578622.88333333, 1112816.05555556]])}\n",
      "    Total time for Fixing Skeleton Soma Endpoint Extension : 0.14659380912780762\n",
      "filter_end_node_length = 4000\n"
     ]
    },
    {
     "data": {
      "application/vnd.jupyter.widget-view+json": {
       "model_id": "5d54ee5aaa624f9f90d92a86a9b7df2c",
       "version_major": 2,
       "version_minor": 0
      },
      "text/plain": [
       "  0%|          | 0/1 [00:00<?, ?it/s]"
      ]
     },
     "metadata": {},
     "output_type": "display_data"
    },
    {
     "name": "stdout",
     "output_type": "stream",
     "text": [
      "Checking connected components after clean_skeleton\n",
      "after DISTANCE cleaning limb size of skeleton = (117, 2, 3)\n",
      "********COMBINING CLOSE SKELETON NODES WITHIN 700 DISTANCE**********\n",
      "combine_threshold = 700\n",
      "Found 0 valid paths to replace\n",
      "valid_paths = []\n",
      "valid_path_lengths = []\n",
      "No valid paths found so just returning the original\n",
      "skeletonize_and_clean_connected_branch_CGAL: 11.692030668258667\n",
      "Working on limb correspondence for #0 MAP piece\n",
      "xvfb-run -n 2568 -s \"-screen 0 800x600x24\" meshlabserver $@  -i /neurd_packages/NEURD/Applications/Tutorials/Auto_Proof_Pipeline/Double_Soma/temp/neuron_94366.off -o /neurd_packages/NEURD/Applications/Tutorials/Auto_Proof_Pipeline/Double_Soma/temp/neuron_94366_remove_interior.off -s /neurd_packages/NEURD/Applications/Tutorials/Auto_Proof_Pipeline/Double_Soma/temp/remove_interior_76566.mls\n",
      "removed temporary input file: /neurd_packages/NEURD/Applications/Tutorials/Auto_Proof_Pipeline/Double_Soma/temp/neuron_94366.off\n",
      "removed temporary output file: /neurd_packages/NEURD/Applications/Tutorials/Auto_Proof_Pipeline/Double_Soma/temp/neuron_94366_remove_interior.off\n",
      "/neurd_packages/NEURD/Applications/Tutorials/Auto_Proof_Pipeline/Double_Soma/temp/remove_interior_76566.mls is being deleted....\n",
      "No significant (100) interior meshes present\n",
      "largest is 3\n"
     ]
    },
    {
     "data": {
      "application/vnd.jupyter.widget-view+json": {
       "model_id": "08fc9fd202da48bd9befdbff7316b8c7",
       "version_major": 2,
       "version_minor": 0
      },
      "text/plain": [
       "0it [00:00, ?it/s]"
      ]
     },
     "metadata": {},
     "output_type": "display_data"
    },
    {
     "name": "stdout",
     "output_type": "stream",
     "text": [
      "Total time for decomposition = 1.1889214515686035\n",
      "mesh_correspondence_first_pass: 1.1889572143554688\n",
      "Limb decomposed into 3 branches\n",
      "divided_skeleton_graph_recovered = (117, 2, 3) and \n",
      "current_mesh_data[0]['branch_skeletons_cleaned'].shape = (117, 2, 3)\n",
      "\n",
      "Number of connected components in deocmposed recovered graph = 1\n",
      "Number of connected components in cleaned skeleton graph= 1\n",
      "The downsampled branches number of connected components = 1\n",
      "Empty submeshes = []\n",
      "\n",
      "\n",
      "--- Working on 1-to-1 correspondence-----\n",
      "max(original_labels),len(original_labels) = (2, 3)\n",
      "empty_indices % = 0.3353239773066587\n",
      " conflict_indices % = 0.03254702896386981\n"
     ]
    },
    {
     "data": {
      "application/vnd.jupyter.widget-view+json": {
       "model_id": "ea3bffb4857a4dd4be82056fbacb4556",
       "version_major": 2,
       "version_minor": 0
      },
      "text/plain": [
       "  0%|          | 0/4 [00:00<?, ?it/s]"
      ]
     },
     "metadata": {},
     "output_type": "display_data"
    },
    {
     "name": "stdout",
     "output_type": "stream",
     "text": [
      "Took 0 iterations to expand the label back\n",
      "empty_indices % = 0.0\n",
      " conflict_indices % = 0.0\n"
     ]
    },
    {
     "data": {
      "application/vnd.jupyter.widget-view+json": {
       "model_id": "75f2d38c27af4e668e670662803e1f8f",
       "version_major": 2,
       "version_minor": 0
      },
      "text/plain": [
       "0it [00:00, ?it/s]"
      ]
     },
     "metadata": {},
     "output_type": "display_data"
    },
    {
     "data": {
      "application/vnd.jupyter.widget-view+json": {
       "model_id": "e33386d057ce4b4892771caa13d0e20d",
       "version_major": 2,
       "version_minor": 0
      },
      "text/plain": [
       "  0%|          | 0/3 [00:00<?, ?it/s]"
      ]
     },
     "metadata": {},
     "output_type": "display_data"
    },
    {
     "name": "stdout",
     "output_type": "stream",
     "text": [
      "Total time for MAP sublimb #0 mesh processing = 13.260716915130615\n",
      "correspondence_1_to_1: 0.36464929580688477\n",
      "Total time for MAP sublimb processing 13.260810852050781\n",
      "There were not both MAP and MP pieces so skipping the stitch resolving phase\n",
      "Time for decomp of Limb = 13.577497959136963\n",
      "Number of matching vertices = 90\n",
      "Only one endpoint after filtering away the endpoints that are not on the skeleton\n",
      "Removed 0 skeletal branches\n"
     ]
    },
    {
     "data": {
      "application/vnd.jupyter.widget-view+json": {
       "model_id": "8b5fc10ef1ed44b78dba9dc330410b94",
       "version_major": 2,
       "version_minor": 0
      },
      "text/plain": [
       "  0%|          | 0/3 [00:00<?, ?it/s]"
      ]
     },
     "metadata": {},
     "output_type": "display_data"
    },
    {
     "name": "stdout",
     "output_type": "stream",
     "text": [
      "3348 3349\n",
      "For marked faces: None\n",
      "empty_indices % = 0.0\n",
      " conflict_indices % = 0.0\n"
     ]
    },
    {
     "data": {
      "application/vnd.jupyter.widget-view+json": {
       "model_id": "043976bb58df4ed6b7fe7a4629d74b50",
       "version_major": 2,
       "version_minor": 0
      },
      "text/plain": [
       "0it [00:00, ?it/s]"
      ]
     },
     "metadata": {},
     "output_type": "display_data"
    },
    {
     "data": {
      "application/vnd.jupyter.widget-view+json": {
       "model_id": "0e2d0515f22944e78e6dfe6c64b0abc7",
       "version_major": 2,
       "version_minor": 0
      },
      "text/plain": [
       "  0%|          | 0/3 [00:00<?, ?it/s]"
      ]
     },
     "metadata": {},
     "output_type": "display_data"
    },
    {
     "name": "stdout",
     "output_type": "stream",
     "text": [
      "Successful Limb Decomposition\n",
      "Total time for Skeletonization and Mesh Correspondence = 107.1283826828003\n",
      "\n",
      "\n",
      " ----- Working on Stitching ----------\n",
      "Starting the floating pieces preprocessing\n",
      "Floating 0: <trimesh.Trimesh(vertices.shape=(113, 3), faces.shape=(176, 3))>\n",
      "invalidation_d = 12000\n",
      "use_adaptive_invalidation_d= True\n",
      "axon_width_preprocess_limb_max = 200\n",
      "filter_end_node_length= 4000\n",
      "filter_end_node_length_meshparty = 1000\n",
      "invalidation_d = 12000\n",
      "root_curr = None\n",
      "Time for preparing soma vertices and root: 5.245208740234375e-06\n",
      "invalidation_d = 12000\n",
      "smooth_neighborhood = 1\n",
      "cc_vertex_thresh = 10\n"
     ]
    },
    {
     "name": "stderr",
     "output_type": "stream",
     "text": [
      "\r",
      "  0%|          | 0/1 [00:00<?, ?it/s]"
     ]
    },
    {
     "data": {
      "application/vnd.jupyter.widget-view+json": {
       "model_id": "0a82d97dd5164fbab28f339b21723888",
       "version_major": 2,
       "version_minor": 0
      },
      "text/plain": [
       "  0%|          | 0/112 [00:00<?, ?it/s]"
      ]
     },
     "metadata": {},
     "output_type": "display_data"
    },
    {
     "name": "stderr",
     "output_type": "stream",
     "text": [
      "\r",
      "100%|██████████| 1/1 [00:00<00:00, 68.54it/s]"
     ]
    },
    {
     "name": "stdout",
     "output_type": "stream",
     "text": [
      "meshparty_segment_size = 100\n",
      "Time for 1st pass MP skeletonization: 0.03454256057739258\n",
      "branches_touching_root = [0]\n",
      "combining close nodes\n",
      "combine_threshold = 700\n",
      "length of Graph = 11\n",
      "After combining close endpoints max(kept_branches_idx) = 0, len(kept_branches_idx) = 1\n",
      "empty_indices % = 0.0\n",
      " conflict_indices % = 0.0\n"
     ]
    },
    {
     "name": "stderr",
     "output_type": "stream",
     "text": [
      "\n"
     ]
    },
    {
     "data": {
      "application/vnd.jupyter.widget-view+json": {
       "model_id": "0dc65214706e403c93ba10ec991d5eea",
       "version_major": 2,
       "version_minor": 0
      },
      "text/plain": [
       "0it [00:00, ?it/s]"
      ]
     },
     "metadata": {},
     "output_type": "display_data"
    },
    {
     "data": {
      "application/vnd.jupyter.widget-view+json": {
       "model_id": "e9dedc1075c349c7bdd6f13528e1067b",
       "version_major": 2,
       "version_minor": 0
      },
      "text/plain": [
       "  0%|          | 0/1 [00:00<?, ?it/s]"
      ]
     },
     "metadata": {},
     "output_type": "display_data"
    },
    {
     "name": "stdout",
     "output_type": "stream",
     "text": [
      "widths = [401.05045273]\n",
      "width_median= 401.0504527276903\n",
      "segment_widths_median = [401.05045273]\n",
      "Decomposing first pass: 0.05188918113708496\n",
      "Attempting to use MeshAfterParty Skeletonization and Mesh Correspondence\n",
      "Another print\n",
      "Divinding into MP and MAP pieces: 3.504753112792969e-05\n",
      "Total time for MAP sublimb processing 2.86102294921875e-06\n",
      "---- Working on MP Decomposition #0 ----\n",
      "Using Quicker soma_to_piece_touching_vertices because no MAP and only one sublimb_mesh piece \n",
      "MP filtering soma verts: 1.9788742065429688e-05\n",
      "Do Not Need to Fix MP Decomposition 0 so just continuing\n",
      "There were not both MAP and MP pieces so skipping the stitch resolving phase\n",
      "Time for decomp of Limb = 0.08762526512145996\n"
     ]
    },
    {
     "data": {
      "application/vnd.jupyter.widget-view+json": {
       "model_id": "4a5a7a2702764f33bc3233ef1d26cbd5",
       "version_major": 2,
       "version_minor": 0
      },
      "text/plain": [
       "  0%|          | 0/2 [00:00<?, ?it/s]"
      ]
     },
     "metadata": {},
     "output_type": "display_data"
    },
    {
     "name": "stdout",
     "output_type": "stream",
     "text": [
      "Removed 2 skeletal branches\n",
      "There were no branches after cleaning limb correspondence\n"
     ]
    },
    {
     "data": {
      "application/vnd.jupyter.widget-view+json": {
       "model_id": "6a4fb2a29ac245c597bb2e0b494822b2",
       "version_major": 2,
       "version_minor": 0
      },
      "text/plain": [
       "Container(figure=Figure(box_center=[0.5, 0.5, 0.5], box_size=[1.0, 1.0, 1.0], camera=PerspectiveCamera(fov=45.…"
      ]
     },
     "metadata": {},
     "output_type": "display_data"
    },
    {
     "name": "stdout",
     "output_type": "stream",
     "text": [
      "--> time = 0.15139269828796387\n",
      "Floating 1: <trimesh.Trimesh(vertices.shape=(75, 3), faces.shape=(140, 3))>\n",
      "invalidation_d = 12000\n",
      "use_adaptive_invalidation_d= True\n",
      "axon_width_preprocess_limb_max = 200\n",
      "filter_end_node_length= 4000\n",
      "filter_end_node_length_meshparty = 1000\n",
      "invalidation_d = 12000\n",
      "root_curr = None\n",
      "Time for preparing soma vertices and root: 1.239776611328125e-05\n",
      "invalidation_d = 12000\n",
      "smooth_neighborhood = 1\n",
      "cc_vertex_thresh = 10\n"
     ]
    },
    {
     "name": "stderr",
     "output_type": "stream",
     "text": [
      "\r",
      "  0%|          | 0/1 [00:00<?, ?it/s]"
     ]
    },
    {
     "data": {
      "application/vnd.jupyter.widget-view+json": {
       "model_id": "fd9d364f9cb14058949d0075896749b3",
       "version_major": 2,
       "version_minor": 0
      },
      "text/plain": [
       "  0%|          | 0/74 [00:00<?, ?it/s]"
      ]
     },
     "metadata": {},
     "output_type": "display_data"
    },
    {
     "name": "stderr",
     "output_type": "stream",
     "text": [
      "\r",
      "100%|██████████| 1/1 [00:00<00:00, 66.76it/s]"
     ]
    },
    {
     "name": "stdout",
     "output_type": "stream",
     "text": [
      "meshparty_segment_size = 100\n",
      "Time for 1st pass MP skeletonization: 0.032060861587524414\n",
      "branches_touching_root = [0]\n",
      "combining close nodes\n",
      "combine_threshold = 700\n",
      "length of Graph = 24\n",
      "After combining close endpoints max(kept_branches_idx) = 0, len(kept_branches_idx) = 1\n",
      "empty_indices % = 0.0\n",
      " conflict_indices % = 0.0\n"
     ]
    },
    {
     "name": "stderr",
     "output_type": "stream",
     "text": [
      "\n"
     ]
    },
    {
     "data": {
      "application/vnd.jupyter.widget-view+json": {
       "model_id": "89c95ddd6ce64234b99994805e49aa4a",
       "version_major": 2,
       "version_minor": 0
      },
      "text/plain": [
       "0it [00:00, ?it/s]"
      ]
     },
     "metadata": {},
     "output_type": "display_data"
    },
    {
     "data": {
      "application/vnd.jupyter.widget-view+json": {
       "model_id": "3c2b1a0a3a3f4234b445da7262d2933a",
       "version_major": 2,
       "version_minor": 0
      },
      "text/plain": [
       "  0%|          | 0/1 [00:00<?, ?it/s]"
      ]
     },
     "metadata": {},
     "output_type": "display_data"
    },
    {
     "name": "stdout",
     "output_type": "stream",
     "text": [
      "widths = [160.00581375]\n",
      "width_median= 160.0058137490787\n",
      "segment_widths_median = [160.00581375]\n",
      "Using the axon parameters\n",
      "invalidation_d = 1500\n",
      "smooth_neighborhood = 0\n",
      "cc_vertex_thresh = 10\n"
     ]
    },
    {
     "name": "stderr",
     "output_type": "stream",
     "text": [
      "\r",
      "  0%|          | 0/1 [00:00<?, ?it/s]"
     ]
    },
    {
     "data": {
      "application/vnd.jupyter.widget-view+json": {
       "model_id": "25a74c8dfd29455f872b9cf1520603c7",
       "version_major": 2,
       "version_minor": 0
      },
      "text/plain": [
       "  0%|          | 0/74 [00:00<?, ?it/s]"
      ]
     },
     "metadata": {},
     "output_type": "display_data"
    },
    {
     "name": "stderr",
     "output_type": "stream",
     "text": [
      "\r",
      "100%|██████████| 1/1 [00:00<00:00, 72.67it/s]"
     ]
    },
    {
     "name": "stdout",
     "output_type": "stream",
     "text": [
      "meshparty_segment_size = 100\n",
      "Time for 1st pass MP skeletonization: 0.07539248466491699\n",
      "branches_touching_root = [0]\n",
      "combining close nodes\n",
      "combine_threshold = 1300\n",
      "length of Graph = 34\n",
      "After combining close endpoints max(kept_branches_idx) = 0, len(kept_branches_idx) = 1\n",
      "empty_indices % = 0.0\n",
      " conflict_indices % = 0.0\n"
     ]
    },
    {
     "name": "stderr",
     "output_type": "stream",
     "text": [
      "\n"
     ]
    },
    {
     "data": {
      "application/vnd.jupyter.widget-view+json": {
       "model_id": "5113fc1a26c74e9f9074d8e6c1184986",
       "version_major": 2,
       "version_minor": 0
      },
      "text/plain": [
       "0it [00:00, ?it/s]"
      ]
     },
     "metadata": {},
     "output_type": "display_data"
    },
    {
     "data": {
      "application/vnd.jupyter.widget-view+json": {
       "model_id": "227ff872ca834bd9835b5c9cabcff5b7",
       "version_major": 2,
       "version_minor": 0
      },
      "text/plain": [
       "  0%|          | 0/1 [00:00<?, ?it/s]"
      ]
     },
     "metadata": {},
     "output_type": "display_data"
    },
    {
     "name": "stdout",
     "output_type": "stream",
     "text": [
      "widths = [159.99537003]\n",
      "width_median= 159.99537002709803\n",
      "segment_widths_median = [159.99537003]\n",
      "Using the axon parameters\n",
      "Decomposing first pass: 0.0454251766204834\n",
      "Attempting to use MeshAfterParty Skeletonization and Mesh Correspondence\n",
      "Another print\n",
      "Divinding into MP and MAP pieces: 2.6226043701171875e-05\n",
      "Total time for MAP sublimb processing 2.86102294921875e-06\n",
      "---- Working on MP Decomposition #0 ----\n",
      "Using Quicker soma_to_piece_touching_vertices because no MAP and only one sublimb_mesh piece \n",
      "MP filtering soma verts: 1.9788742065429688e-05\n",
      "Do Not Need to Fix MP Decomposition 0 so just continuing\n",
      "There were not both MAP and MP pieces so skipping the stitch resolving phase\n",
      "Time for decomp of Limb = 0.1549379825592041\n",
      "Removed 0 skeletal branches\n"
     ]
    },
    {
     "data": {
      "application/vnd.jupyter.widget-view+json": {
       "model_id": "914aee82cd78413086a32d5c59776e19",
       "version_major": 2,
       "version_minor": 0
      },
      "text/plain": [
       "  0%|          | 0/1 [00:00<?, ?it/s]"
      ]
     },
     "metadata": {},
     "output_type": "display_data"
    },
    {
     "name": "stdout",
     "output_type": "stream",
     "text": [
      "139 140\n",
      "For marked faces: None\n",
      "empty_indices % = 0.0\n",
      " conflict_indices % = 0.0\n"
     ]
    },
    {
     "data": {
      "application/vnd.jupyter.widget-view+json": {
       "model_id": "956a6ce7d49749bf83b26f3d3d15d6ca",
       "version_major": 2,
       "version_minor": 0
      },
      "text/plain": [
       "0it [00:00, ?it/s]"
      ]
     },
     "metadata": {},
     "output_type": "display_data"
    },
    {
     "data": {
      "application/vnd.jupyter.widget-view+json": {
       "model_id": "a8f78b7f44f54fdea6b56e7760972707",
       "version_major": 2,
       "version_minor": 0
      },
      "text/plain": [
       "  0%|          | 0/1 [00:00<?, ?it/s]"
      ]
     },
     "metadata": {},
     "output_type": "display_data"
    },
    {
     "data": {
      "application/vnd.jupyter.widget-view+json": {
       "model_id": "3e329a3da0b54b38a6a490ffb051f40d",
       "version_major": 2,
       "version_minor": 0
      },
      "text/plain": [
       "Container(figure=Figure(box_center=[0.5, 0.5, 0.5], box_size=[1.0, 1.0, 1.0], camera=PerspectiveCamera(fov=45.…"
      ]
     },
     "metadata": {},
     "output_type": "display_data"
    },
    {
     "name": "stdout",
     "output_type": "stream",
     "text": [
      "--> time = 0.2631189823150635\n",
      "Total time for stitching floating pieces = 3.0093605518341064\n",
      "Total time for Concept Networks = 1.9257118701934814\n",
      "Total time for all mesh and skeletonization decomp = 112.06469917297363\n",
      "No soma volume ratios so computing them now\n",
      "Using Poisson Surface Reconstruction for watertightness in soma_volume_ratio\n",
      "xvfb-run -n 9382 -s \"-screen 0 800x600x24\" meshlabserver $@  -i /neurd_packages/NEURD/Applications/Tutorials/Auto_Proof_Pipeline/Double_Soma/Poisson_temp/neuron_357763.off -o /neurd_packages/NEURD/Applications/Tutorials/Auto_Proof_Pipeline/Double_Soma/Poisson_temp/neuron_357763_poisson.off -s /neurd_packages/NEURD/Applications/Tutorials/Auto_Proof_Pipeline/Double_Soma/Poisson_temp/poisson_53182.mls\n",
      "removed temporary input file: /neurd_packages/NEURD/Applications/Tutorials/Auto_Proof_Pipeline/Double_Soma/Poisson_temp/neuron_357763.off\n",
      "removed temporary output file: /neurd_packages/NEURD/Applications/Tutorials/Auto_Proof_Pipeline/Double_Soma/Poisson_temp/neuron_357763_poisson.off\n",
      "mesh.is_watertight = True\n",
      "/neurd_packages/NEURD/Applications/Tutorials/Auto_Proof_Pipeline/Double_Soma/Poisson_temp/poisson_53182.mls is being deleted....\n",
      "Using Poisson Surface Reconstruction for watertightness in soma_volume_ratio\n",
      "xvfb-run -n 4980 -s \"-screen 0 800x600x24\" meshlabserver $@  -i /neurd_packages/NEURD/Applications/Tutorials/Auto_Proof_Pipeline/Double_Soma/Poisson_temp/neuron_89227.off -o /neurd_packages/NEURD/Applications/Tutorials/Auto_Proof_Pipeline/Double_Soma/Poisson_temp/neuron_89227_poisson.off -s /neurd_packages/NEURD/Applications/Tutorials/Auto_Proof_Pipeline/Double_Soma/Poisson_temp/poisson_489770.mls\n",
      "removed temporary input file: /neurd_packages/NEURD/Applications/Tutorials/Auto_Proof_Pipeline/Double_Soma/Poisson_temp/neuron_89227.off\n",
      "removed temporary output file: /neurd_packages/NEURD/Applications/Tutorials/Auto_Proof_Pipeline/Double_Soma/Poisson_temp/neuron_89227_poisson.off\n",
      "mesh.is_watertight = False\n",
      "/neurd_packages/NEURD/Applications/Tutorials/Auto_Proof_Pipeline/Double_Soma/Poisson_temp/poisson_489770.mls is being deleted....\n",
      "--- 1) Finished unpacking preprocessed materials: 136.2056393623352\n",
      "total_edges = [['S0', 'L0'], ['S0', 'L1'], ['S0', 'L4'], ['S0', 'L5'], ['S0', 'L6'], ['S1', 'L2'], ['S1', 'L3'], ['S1', 'L4'], ['S1', 'L7']]\n",
      "--- 2) Finished creating neuron connectivity graph: 0.0001690387725830078\n",
      "Having to generate soma_meshes_face_idx because none in preprocessed data\n",
      "--- 3a) Finshed generating soma_meshes_face_idx: 0.10353732109069824\n",
      "Using precomputed volume ratio\n",
      "--- 3b) Finished soma creation: 10.053322076797485\n",
      "Using precomputed volume ratio\n",
      "--- 3b) Finished soma creation: 8.088558912277222\n",
      "--- 3) Finshed generating soma objects and adding them to concept graph: 0.00018405914306640625\n",
      "--- 4a) Finshed generating curr_limb_meshes_face_idx: 0.2715485095977783\n",
      "curr_limb_concept_networks= {0: [<datasci_tools.networkx_utils.GraphOrderedEdges object at 0x7f3451b1f1c0>]}\n",
      "curr_limb_concept_networks= {0: [<datasci_tools.networkx_utils.GraphOrderedEdges object at 0x7f34a562d490>]}\n",
      "curr_limb_concept_networks= {1: [<datasci_tools.networkx_utils.GraphOrderedEdges object at 0x7f34a562de20>]}\n",
      "curr_limb_concept_networks= {1: [<datasci_tools.networkx_utils.GraphOrderedEdges object at 0x7f33be33bfd0>]}\n",
      "curr_limb_concept_networks= {0: [<datasci_tools.networkx_utils.GraphOrderedEdges object at 0x7f34a562da00>], 1: [<datasci_tools.networkx_utils.GraphOrderedEdges object at 0x7f34a4170160>]}\n",
      "curr_limb_concept_networks= {0: [<datasci_tools.networkx_utils.GraphOrderedEdges object at 0x7f3486624970>]}\n",
      "curr_limb_concept_networks= {0: [<datasci_tools.networkx_utils.GraphOrderedEdges object at 0x7f34a53f0e20>]}\n",
      "curr_limb_concept_networks= {1: [<datasci_tools.networkx_utils.GraphOrderedEdges object at 0x7f352713ae80>]}\n",
      "--- 4) Finshed generating Limb objects and adding them to concept graph: 1.8652381896972656\n",
      "--- 5) SKIPPING Doing the adaptive mesh correspondence on the meshparty preprocessing ---\n",
      "--- 6) SKIPPING Using the computed_attribute_dict to populate neuron attributes ---\n",
      "self.n_limbs = 8\n",
      "7) Calculating the spines for the neuorn if do not already exist\n",
      "7a) calculating spines because didn't exist\n",
      "query = median_mesh_center > 115 and n_faces_branch>100\n",
      "The median_mesh_center was requested but has not already been calculated so calculating now.... \n",
      "width_name BEFORE processing = None\n",
      "After processing\n",
      "width_name = median_mesh_center, distance_by_mesh_center= True, no_spines = False, summary_measure= median\n",
      "Working on limb L0 branch 6\n",
      "    current_width= 604.7316106610253\n",
      "Working on limb L0 branch 3\n",
      "    current_width= 428.06338009908046\n",
      "Working on limb L0 branch 7\n",
      "    current_width= 345.98403683769595\n",
      "Working on limb L0 branch 0\n",
      "    current_width= 308.20840659465966\n",
      "Working on limb L0 branch 1\n",
      "    current_width= 385.6078953497438\n",
      "Working on limb L0 branch 2\n",
      "    current_width= 289.88795449575736\n",
      "Working on limb L0 branch 4\n",
      "    current_width= 331.5606261403119\n",
      "Working on limb L0 branch 8\n",
      "    current_width= 306.9702914678095\n",
      "Working on limb L0 branch 5\n",
      "    current_width= 308.177884569667\n",
      "Working on limb L0 branch 9\n",
      "    current_width= 436.83280181844754\n",
      "Working on limb L1 branch 17\n",
      "    current_width= 186.74385817318597\n",
      "Working on limb L1 branch 15\n",
      "    current_width= 81.06732888550147\n",
      "Working on limb L1 branch 16\n",
      "    current_width= 180.79969247866023\n",
      "Working on limb L1 branch 18\n",
      "    current_width= 83.6230371949197\n",
      "Working on limb L1 branch 4\n",
      "    current_width= 67.0560163730836\n",
      "Working on limb L1 branch 14\n",
      "    current_width= 116.89414430163393\n",
      "Working on limb L1 branch 26\n",
      "    current_width= 166.88235794997527\n",
      "Working on limb L1 branch 19\n",
      "    current_width= 74.74432487535276\n",
      "Working on limb L1 branch 20\n",
      "    current_width= 78.90931853911839\n",
      "Working on limb L1 branch 12\n",
      "    current_width= 104.83868583734564\n",
      "Working on limb L1 branch 13\n",
      "    current_width= 103.46347406090041\n",
      "Working on limb L1 branch 21\n",
      "    current_width= 89.35632620500378\n",
      "Working on limb L1 branch 22\n",
      "    current_width= 85.25609472650788\n",
      "Working on limb L1 branch 9\n",
      "    current_width= 99.2898761950575\n",
      "Working on limb L1 branch 10\n",
      "    current_width= 156.9409743368786\n",
      "Working on limb L1 branch 11\n",
      "    current_width= 93.61085880218833\n",
      "Working on limb L1 branch 25\n",
      "    current_width= 66.4711702516618\n",
      "Working on limb L1 branch 1\n",
      "    current_width= 111.9796517426644\n",
      "Working on limb L1 branch 3\n",
      "    current_width= 95.32640663158229\n",
      "Working on limb L1 branch 7\n",
      "    current_width= 104.01618953371336\n",
      "Working on limb L1 branch 8\n",
      "    current_width= 131.75016231242103\n",
      "Working on limb L1 branch 5\n",
      "    current_width= 128.08017573139628\n",
      "Working on limb L1 branch 6\n",
      "    current_width= 108.30020672887802\n",
      "Working on limb L1 branch 0\n",
      "    current_width= 97.68811695225403\n",
      "Working on limb L1 branch 2\n",
      "    current_width= 125.70160186748858\n",
      "Working on limb L1 branch 23\n",
      "    current_width= 87.93425564048837\n",
      "Working on limb L1 branch 24\n",
      "    current_width= 82.4982383186942\n",
      "Working on limb L4 branch 2\n",
      "    current_width= 977.8765814780055\n",
      "Working on limb L4 branch 0\n",
      "    current_width= 428.80087524239707\n",
      "Working on limb L4 branch 3\n",
      "    current_width= 638.4480594901748\n",
      "Working on limb L4 branch 1\n",
      "    current_width= 290.00520019207204\n",
      "Working on limb L4 branch 4\n",
      "    current_width= 511.66566902799815\n",
      "Working on limb L4 branch 5\n",
      "    current_width= 330.4658751658661\n",
      "Working on limb L4 branch 6\n",
      "    current_width= 463.59355203126574\n",
      "Working on limb L5 branch 0\n",
      "    current_width= 447.09174488055413\n",
      "Working on limb L6 branch 0\n",
      "    current_width= 343.94895170316283\n",
      "Working on limb L2 branch 0\n",
      "    current_width= 382.70589055617387\n",
      "Working on limb L2 branch 1\n",
      "    current_width= 332.4823202850125\n",
      "Working on limb L2 branch 2\n",
      "    current_width= 355.77693142095575\n",
      "Working on limb L3 branch 1\n",
      "    current_width= 341.6228226856097\n",
      "Working on limb L3 branch 0\n",
      "    current_width= 116.47084303995783\n",
      "Working on limb L3 branch 2\n",
      "    current_width= 389.77078871406786\n",
      "Working on limb L3 branch 3\n",
      "    current_width= 69.00572062527482\n",
      "Working on limb L3 branch 4\n",
      "    current_width= 368.5289855187065\n",
      "Working on limb L7 branch 2\n",
      "    current_width= 469.0114678997627\n",
      "Working on limb L7 branch 0\n",
      "    current_width= 815.3465933528809\n",
      "Working on limb L7 branch 1\n",
      "    current_width= 990.8753491996667\n"
     ]
    },
    {
     "name": "stdout",
     "output_type": "stream",
     "text": [
      "MAX ITERATIONS initially 500\n",
      "AREA VARIATION initially 0.0001\n",
      "medial centered initially 1\n",
      "medially_centered_speed_tradeoff initially 0.2\n",
      "quality_speed_tradeoff initially 0.1\n",
      "max_triangle_angle initially 1.91986\n",
      "min_edge_length initially 65.844\n",
      "setting the edge length by absolute length\n",
      "min_edge_length AFTER = 75\n",
      "max_triangle_angle AFTER = 1.91986\n",
      "quality_speed_tradeoff AFTER = 0.2\n",
      "set_medially_centered_speed_tradeoff AFTER = 0.2\n",
      "medial centered AFTER 1\n",
      "AREA VARIATION AFTER 0.0001\n",
      "MAX ITERATIONS AFTER 500\n",
      "medial centered END 1\n",
      "set_medially_centered_speed_tradeoff END = 0.2\n",
      "quality_speed_tradeoff END = 0.2\n",
      "Max iterations END = 500\n",
      "AREA VARIATION END 0.0001\n",
      "Number of vertices of the skeleton: 292\n",
      "Number of edges of the skeleton: 291\n",
      "MAX ITERATIONS initially 500\n",
      "AREA VARIATION initially 0.0001\n",
      "medial centered initially 1\n",
      "medially_centered_speed_tradeoff initially 0.2\n",
      "quality_speed_tradeoff initially 0.1\n",
      "max_triangle_angle initially 1.91986\n",
      "min_edge_length initially 25.9629\n",
      "setting the edge length by absolute length\n",
      "min_edge_length AFTER = 75\n",
      "max_triangle_angle AFTER = 1.91986\n",
      "quality_speed_tradeoff AFTER = 0.2\n",
      "set_medially_centered_speed_tradeoff AFTER = 0.2\n",
      "medial centered AFTER 1\n",
      "AREA VARIATION AFTER 0.0001\n",
      "MAX ITERATIONS AFTER 500\n",
      "medial centered END 1\n",
      "set_medially_centered_speed_tradeoff END = 0.2\n",
      "quality_speed_tradeoff END = 0.2\n",
      "Max iterations END = 500\n",
      "AREA VARIATION END 0.0001\n",
      "Number of vertices of the skeleton: 75\n",
      "Number of edges of the skeleton: 74\n",
      "MAX ITERATIONS initially 500\n",
      "AREA VARIATION initially 0.0001\n",
      "medial centered initially 1\n",
      "medially_centered_speed_tradeoff initially 0.2\n",
      "quality_speed_tradeoff initially 0.1\n",
      "max_triangle_angle initially 1.91986\n",
      "min_edge_length initially 130.059\n",
      "setting the edge length by absolute length\n",
      "min_edge_length AFTER = 75\n",
      "max_triangle_angle AFTER = 1.91986\n",
      "quality_speed_tradeoff AFTER = 0.2\n",
      "set_medially_centered_speed_tradeoff AFTER = 0.2\n",
      "medial centered AFTER 1\n",
      "AREA VARIATION AFTER 0.0001\n",
      "MAX ITERATIONS AFTER 500\n",
      "medial centered END 1\n",
      "set_medially_centered_speed_tradeoff END = 0.2\n",
      "quality_speed_tradeoff END = 0.2\n",
      "Max iterations END = 500\n",
      "AREA VARIATION END 0.0001\n",
      "Number of vertices of the skeleton: 762\n",
      "Number of edges of the skeleton: 761\n",
      "MAX ITERATIONS initially 500\n",
      "AREA VARIATION initially 0.0001\n",
      "medial centered initially 1\n",
      "medially_centered_speed_tradeoff initially 0.2\n",
      "quality_speed_tradeoff initially 0.1\n",
      "max_triangle_angle initially 1.91986\n",
      "min_edge_length initially 36.8922\n",
      "setting the edge length by absolute length\n",
      "min_edge_length AFTER = 75\n",
      "max_triangle_angle AFTER = 1.91986\n",
      "quality_speed_tradeoff AFTER = 0.2\n",
      "set_medially_centered_speed_tradeoff AFTER = 0.2\n",
      "medial centered AFTER 1\n",
      "AREA VARIATION AFTER 0.0001\n",
      "MAX ITERATIONS AFTER 500\n",
      "medial centered END 1\n",
      "set_medially_centered_speed_tradeoff END = 0.2\n",
      "quality_speed_tradeoff END = 0.2\n",
      "Max iterations END = 500\n",
      "AREA VARIATION END 0.0001\n",
      "Number of vertices of the skeleton: 2\n",
      "Number of edges of the skeleton: 1\n",
      "\n",
      "Number of segments: 76\n",
      "\n"
     ]
    },
    {
     "data": {
      "application/vnd.jupyter.widget-view+json": {
       "model_id": "a2fe052a39074995a0b4e64fbe172851",
       "version_major": 2,
       "version_minor": 0
      },
      "text/plain": [
       "  0%|          | 0/76 [00:00<?, ?it/s]"
      ]
     },
     "metadata": {},
     "output_type": "display_data"
    },
    {
     "data": {
      "application/vnd.jupyter.widget-view+json": {
       "model_id": "4a7e215bd0ad4423aef15751ba620696",
       "version_major": 2,
       "version_minor": 0
      },
      "text/plain": [
       "  0%|          | 0/76 [00:00<?, ?it/s]"
      ]
     },
     "metadata": {},
     "output_type": "display_data"
    },
    {
     "name": "stdout",
     "output_type": "stream",
     "text": [
      "Filtering away by face and skeletal length\n",
      "\n",
      "Number of segments: 102\n",
      "\n"
     ]
    },
    {
     "data": {
      "application/vnd.jupyter.widget-view+json": {
       "model_id": "d2859b5959f448d7ab77b1eff2a506e8",
       "version_major": 2,
       "version_minor": 0
      },
      "text/plain": [
       "  0%|          | 0/102 [00:00<?, ?it/s]"
      ]
     },
     "metadata": {},
     "output_type": "display_data"
    },
    {
     "data": {
      "application/vnd.jupyter.widget-view+json": {
       "model_id": "a80acc74a2d24490a05380166dbbe791",
       "version_major": 2,
       "version_minor": 0
      },
      "text/plain": [
       "  0%|          | 0/102 [00:00<?, ?it/s]"
      ]
     },
     "metadata": {},
     "output_type": "display_data"
    },
    {
     "name": "stdout",
     "output_type": "stream",
     "text": [
      "Filtering away by face and skeletal length\n",
      "\n",
      "Number of segments: 12\n",
      "\n"
     ]
    },
    {
     "data": {
      "application/vnd.jupyter.widget-view+json": {
       "model_id": "5c9362b2044b412985b3a75e9cde1c7f",
       "version_major": 2,
       "version_minor": 0
      },
      "text/plain": [
       "  0%|          | 0/12 [00:00<?, ?it/s]"
      ]
     },
     "metadata": {},
     "output_type": "display_data"
    },
    {
     "data": {
      "application/vnd.jupyter.widget-view+json": {
       "model_id": "1085fc67bb1d4c99ae2a23fdebb00472",
       "version_major": 2,
       "version_minor": 0
      },
      "text/plain": [
       "  0%|          | 0/12 [00:00<?, ?it/s]"
      ]
     },
     "metadata": {},
     "output_type": "display_data"
    },
    {
     "name": "stdout",
     "output_type": "stream",
     "text": [
      "Filtering away by face and skeletal length\n",
      "\n",
      "Number of segments: 20\n",
      "\n"
     ]
    },
    {
     "data": {
      "application/vnd.jupyter.widget-view+json": {
       "model_id": "49733b7816b141b285760690de015195",
       "version_major": 2,
       "version_minor": 0
      },
      "text/plain": [
       "  0%|          | 0/20 [00:00<?, ?it/s]"
      ]
     },
     "metadata": {},
     "output_type": "display_data"
    },
    {
     "data": {
      "application/vnd.jupyter.widget-view+json": {
       "model_id": "f07564d0156a47eebb7a3231e4684afc",
       "version_major": 2,
       "version_minor": 0
      },
      "text/plain": [
       "  0%|          | 0/20 [00:00<?, ?it/s]"
      ]
     },
     "metadata": {},
     "output_type": "display_data"
    },
    {
     "name": "stdout",
     "output_type": "stream",
     "text": [
      "Filtering away by face and skeletal length\n",
      "\n",
      "Number of segments: 100\n",
      "\n"
     ]
    },
    {
     "data": {
      "application/vnd.jupyter.widget-view+json": {
       "model_id": "2e4189a6338744a5b2dd8c1731a58ac4",
       "version_major": 2,
       "version_minor": 0
      },
      "text/plain": [
       "  0%|          | 0/100 [00:00<?, ?it/s]"
      ]
     },
     "metadata": {},
     "output_type": "display_data"
    },
    {
     "data": {
      "application/vnd.jupyter.widget-view+json": {
       "model_id": "104e9fbf3b264ebcaa2b4195de5d419b",
       "version_major": 2,
       "version_minor": 0
      },
      "text/plain": [
       "  0%|          | 0/100 [00:00<?, ?it/s]"
      ]
     },
     "metadata": {},
     "output_type": "display_data"
    },
    {
     "name": "stdout",
     "output_type": "stream",
     "text": [
      "Filtering away by face and skeletal length\n",
      "\n",
      "Number of segments: 82\n",
      "\n"
     ]
    },
    {
     "data": {
      "application/vnd.jupyter.widget-view+json": {
       "model_id": "86c0287f443e4f57a725164310b2a7ff",
       "version_major": 2,
       "version_minor": 0
      },
      "text/plain": [
       "  0%|          | 0/82 [00:00<?, ?it/s]"
      ]
     },
     "metadata": {},
     "output_type": "display_data"
    },
    {
     "data": {
      "application/vnd.jupyter.widget-view+json": {
       "model_id": "919eb0d9999042cf9e039dafed3d7e09",
       "version_major": 2,
       "version_minor": 0
      },
      "text/plain": [
       "  0%|          | 0/82 [00:00<?, ?it/s]"
      ]
     },
     "metadata": {},
     "output_type": "display_data"
    },
    {
     "name": "stdout",
     "output_type": "stream",
     "text": [
      "Filtering away by face and skeletal length\n",
      "\n",
      "Number of segments: 3\n",
      "\n"
     ]
    },
    {
     "data": {
      "application/vnd.jupyter.widget-view+json": {
       "model_id": "8fdb013a445349849ca4f753675b9146",
       "version_major": 2,
       "version_minor": 0
      },
      "text/plain": [
       "  0%|          | 0/3 [00:00<?, ?it/s]"
      ]
     },
     "metadata": {},
     "output_type": "display_data"
    },
    {
     "data": {
      "application/vnd.jupyter.widget-view+json": {
       "model_id": "98f861a310dc4fefb780cea4627691bf",
       "version_major": 2,
       "version_minor": 0
      },
      "text/plain": [
       "  0%|          | 0/3 [00:00<?, ?it/s]"
      ]
     },
     "metadata": {},
     "output_type": "display_data"
    },
    {
     "name": "stdout",
     "output_type": "stream",
     "text": [
      "Filtering away by face and skeletal length\n",
      "\n",
      "Number of segments: 7\n",
      "\n"
     ]
    },
    {
     "data": {
      "application/vnd.jupyter.widget-view+json": {
       "model_id": "d4267b6d385c49ab9d49d2078bee0145",
       "version_major": 2,
       "version_minor": 0
      },
      "text/plain": [
       "  0%|          | 0/7 [00:00<?, ?it/s]"
      ]
     },
     "metadata": {},
     "output_type": "display_data"
    },
    {
     "data": {
      "application/vnd.jupyter.widget-view+json": {
       "model_id": "930a0434236e41e7aaf9b997c0b4e0a3",
       "version_major": 2,
       "version_minor": 0
      },
      "text/plain": [
       "  0%|          | 0/7 [00:00<?, ?it/s]"
      ]
     },
     "metadata": {},
     "output_type": "display_data"
    },
    {
     "name": "stdout",
     "output_type": "stream",
     "text": [
      "Filtering away by face and skeletal length\n",
      "\n",
      "Number of segments: 8\n",
      "\n"
     ]
    },
    {
     "data": {
      "application/vnd.jupyter.widget-view+json": {
       "model_id": "44ac6ea2f50845868efc0aa19fde7d06",
       "version_major": 2,
       "version_minor": 0
      },
      "text/plain": [
       "  0%|          | 0/8 [00:00<?, ?it/s]"
      ]
     },
     "metadata": {},
     "output_type": "display_data"
    },
    {
     "data": {
      "application/vnd.jupyter.widget-view+json": {
       "model_id": "411b67e8d70040549d7ea2f5d4ab9fcf",
       "version_major": 2,
       "version_minor": 0
      },
      "text/plain": [
       "  0%|          | 0/8 [00:00<?, ?it/s]"
      ]
     },
     "metadata": {},
     "output_type": "display_data"
    },
    {
     "name": "stdout",
     "output_type": "stream",
     "text": [
      "Filtering away by face and skeletal length\n",
      "\n",
      "Number of segments: 184\n",
      "\n"
     ]
    },
    {
     "data": {
      "application/vnd.jupyter.widget-view+json": {
       "model_id": "0f5c8fc0451a44de9cf5080451647364",
       "version_major": 2,
       "version_minor": 0
      },
      "text/plain": [
       "  0%|          | 0/184 [00:00<?, ?it/s]"
      ]
     },
     "metadata": {},
     "output_type": "display_data"
    },
    {
     "data": {
      "application/vnd.jupyter.widget-view+json": {
       "model_id": "6be46f5c2d04474495a7f40cbfcd581c",
       "version_major": 2,
       "version_minor": 0
      },
      "text/plain": [
       "  0%|          | 0/184 [00:00<?, ?it/s]"
      ]
     },
     "metadata": {},
     "output_type": "display_data"
    },
    {
     "name": "stdout",
     "output_type": "stream",
     "text": [
      "Filtering away by face and skeletal length\n",
      "\n",
      "Number of segments: 22\n",
      "\n"
     ]
    },
    {
     "data": {
      "application/vnd.jupyter.widget-view+json": {
       "model_id": "ca3ff95cde6a4df7a660411303bdd123",
       "version_major": 2,
       "version_minor": 0
      },
      "text/plain": [
       "  0%|          | 0/22 [00:00<?, ?it/s]"
      ]
     },
     "metadata": {},
     "output_type": "display_data"
    },
    {
     "data": {
      "application/vnd.jupyter.widget-view+json": {
       "model_id": "f2cb5241fb0c4d7a9c15c90222331e1d",
       "version_major": 2,
       "version_minor": 0
      },
      "text/plain": [
       "  0%|          | 0/22 [00:00<?, ?it/s]"
      ]
     },
     "metadata": {},
     "output_type": "display_data"
    },
    {
     "name": "stdout",
     "output_type": "stream",
     "text": [
      "Filtering away by face and skeletal length\n",
      "\n",
      "Number of segments: 2\n",
      "\n"
     ]
    },
    {
     "data": {
      "application/vnd.jupyter.widget-view+json": {
       "model_id": "da20f393db144a0fab5f5f71d7ed11b7",
       "version_major": 2,
       "version_minor": 0
      },
      "text/plain": [
       "  0%|          | 0/2 [00:00<?, ?it/s]"
      ]
     },
     "metadata": {},
     "output_type": "display_data"
    },
    {
     "data": {
      "application/vnd.jupyter.widget-view+json": {
       "model_id": "5bd5ef407ca54f7d80528df1fee33a8a",
       "version_major": 2,
       "version_minor": 0
      },
      "text/plain": [
       "  0%|          | 0/2 [00:00<?, ?it/s]"
      ]
     },
     "metadata": {},
     "output_type": "display_data"
    },
    {
     "name": "stdout",
     "output_type": "stream",
     "text": [
      "Filtering away by face and skeletal length\n",
      "\n",
      "Number of segments: 36\n",
      "\n"
     ]
    },
    {
     "data": {
      "application/vnd.jupyter.widget-view+json": {
       "model_id": "433799221400470abf1668cc4ab2ed2d",
       "version_major": 2,
       "version_minor": 0
      },
      "text/plain": [
       "  0%|          | 0/36 [00:00<?, ?it/s]"
      ]
     },
     "metadata": {},
     "output_type": "display_data"
    },
    {
     "data": {
      "application/vnd.jupyter.widget-view+json": {
       "model_id": "931d00e3efbf49b5b4f8ccfcf09836fa",
       "version_major": 2,
       "version_minor": 0
      },
      "text/plain": [
       "  0%|          | 0/36 [00:00<?, ?it/s]"
      ]
     },
     "metadata": {},
     "output_type": "display_data"
    },
    {
     "name": "stdout",
     "output_type": "stream",
     "text": [
      "Filtering away by face and skeletal length\n",
      "\n",
      "Number of segments: 8\n",
      "\n"
     ]
    },
    {
     "data": {
      "application/vnd.jupyter.widget-view+json": {
       "model_id": "8257a888ac724fcd86320283f28ca920",
       "version_major": 2,
       "version_minor": 0
      },
      "text/plain": [
       "  0%|          | 0/8 [00:00<?, ?it/s]"
      ]
     },
     "metadata": {},
     "output_type": "display_data"
    },
    {
     "data": {
      "application/vnd.jupyter.widget-view+json": {
       "model_id": "b891adbba0dd4f3bb782f8213a073628",
       "version_major": 2,
       "version_minor": 0
      },
      "text/plain": [
       "  0%|          | 0/8 [00:00<?, ?it/s]"
      ]
     },
     "metadata": {},
     "output_type": "display_data"
    },
    {
     "name": "stdout",
     "output_type": "stream",
     "text": [
      "Filtering away by face and skeletal length\n",
      "\n",
      "Number of segments: 12\n",
      "\n"
     ]
    },
    {
     "data": {
      "application/vnd.jupyter.widget-view+json": {
       "model_id": "9c2f13c6de7b4506bbb30626806839b0",
       "version_major": 2,
       "version_minor": 0
      },
      "text/plain": [
       "  0%|          | 0/12 [00:00<?, ?it/s]"
      ]
     },
     "metadata": {},
     "output_type": "display_data"
    },
    {
     "data": {
      "application/vnd.jupyter.widget-view+json": {
       "model_id": "d15e0bf7410a4023a1d311ef6825e58d",
       "version_major": 2,
       "version_minor": 0
      },
      "text/plain": [
       "  0%|          | 0/12 [00:00<?, ?it/s]"
      ]
     },
     "metadata": {},
     "output_type": "display_data"
    },
    {
     "name": "stdout",
     "output_type": "stream",
     "text": [
      "Filtering away by face and skeletal length\n",
      "\n",
      "Number of segments: 25\n",
      "\n"
     ]
    },
    {
     "data": {
      "application/vnd.jupyter.widget-view+json": {
       "model_id": "f94017fc785f4d4d9559ad17175fcdcf",
       "version_major": 2,
       "version_minor": 0
      },
      "text/plain": [
       "  0%|          | 0/25 [00:00<?, ?it/s]"
      ]
     },
     "metadata": {},
     "output_type": "display_data"
    },
    {
     "data": {
      "application/vnd.jupyter.widget-view+json": {
       "model_id": "26ae33ba94634e2a805c8fcbe05a2568",
       "version_major": 2,
       "version_minor": 0
      },
      "text/plain": [
       "  0%|          | 0/25 [00:00<?, ?it/s]"
      ]
     },
     "metadata": {},
     "output_type": "display_data"
    },
    {
     "name": "stdout",
     "output_type": "stream",
     "text": [
      "Filtering away by face and skeletal length\n",
      "\n",
      "Number of segments: 3\n",
      "\n"
     ]
    },
    {
     "data": {
      "application/vnd.jupyter.widget-view+json": {
       "model_id": "0337c54391ee4d6a83fe9970c6ca7274",
       "version_major": 2,
       "version_minor": 0
      },
      "text/plain": [
       "  0%|          | 0/3 [00:00<?, ?it/s]"
      ]
     },
     "metadata": {},
     "output_type": "display_data"
    },
    {
     "data": {
      "application/vnd.jupyter.widget-view+json": {
       "model_id": "a3492fc16b4d427f87fc9498c6cdf4b3",
       "version_major": 2,
       "version_minor": 0
      },
      "text/plain": [
       "  0%|          | 0/3 [00:00<?, ?it/s]"
      ]
     },
     "metadata": {},
     "output_type": "display_data"
    },
    {
     "name": "stdout",
     "output_type": "stream",
     "text": [
      "Filtering away by face and skeletal length\n",
      "\n",
      "Number of segments: 6\n",
      "\n"
     ]
    },
    {
     "data": {
      "application/vnd.jupyter.widget-view+json": {
       "model_id": "6fe1e8dadc2e44ddb371b27d8dad7972",
       "version_major": 2,
       "version_minor": 0
      },
      "text/plain": [
       "  0%|          | 0/6 [00:00<?, ?it/s]"
      ]
     },
     "metadata": {},
     "output_type": "display_data"
    },
    {
     "data": {
      "application/vnd.jupyter.widget-view+json": {
       "model_id": "9e18155d94a74d9083e7fca7f0579b53",
       "version_major": 2,
       "version_minor": 0
      },
      "text/plain": [
       "  0%|          | 0/6 [00:00<?, ?it/s]"
      ]
     },
     "metadata": {},
     "output_type": "display_data"
    },
    {
     "name": "stdout",
     "output_type": "stream",
     "text": [
      "Filtering away by face and skeletal length\n",
      "\n",
      "Number of segments: 152\n",
      "\n"
     ]
    },
    {
     "data": {
      "application/vnd.jupyter.widget-view+json": {
       "model_id": "725cfde117b049f4862adaf8ad076ce7",
       "version_major": 2,
       "version_minor": 0
      },
      "text/plain": [
       "  0%|          | 0/152 [00:00<?, ?it/s]"
      ]
     },
     "metadata": {},
     "output_type": "display_data"
    },
    {
     "data": {
      "application/vnd.jupyter.widget-view+json": {
       "model_id": "3dfebd22642e4b1ebfa5392cf4e6b85a",
       "version_major": 2,
       "version_minor": 0
      },
      "text/plain": [
       "  0%|          | 0/152 [00:00<?, ?it/s]"
      ]
     },
     "metadata": {},
     "output_type": "display_data"
    },
    {
     "name": "stdout",
     "output_type": "stream",
     "text": [
      "Filtering away by face and skeletal length\n",
      "\n",
      "Number of segments: 145\n",
      "\n"
     ]
    },
    {
     "data": {
      "application/vnd.jupyter.widget-view+json": {
       "model_id": "4bd1857dbb534d2491266375ef281091",
       "version_major": 2,
       "version_minor": 0
      },
      "text/plain": [
       "  0%|          | 0/145 [00:00<?, ?it/s]"
      ]
     },
     "metadata": {},
     "output_type": "display_data"
    },
    {
     "data": {
      "application/vnd.jupyter.widget-view+json": {
       "model_id": "8b0aba26fdf141b38228c07bff88bde5",
       "version_major": 2,
       "version_minor": 0
      },
      "text/plain": [
       "  0%|          | 0/145 [00:00<?, ?it/s]"
      ]
     },
     "metadata": {},
     "output_type": "display_data"
    },
    {
     "name": "stdout",
     "output_type": "stream",
     "text": [
      "Filtering away by face and skeletal length\n",
      "\n",
      "Number of segments: 14\n",
      "\n"
     ]
    },
    {
     "data": {
      "application/vnd.jupyter.widget-view+json": {
       "model_id": "5ebb333f541b48e38e120e1b00c7e206",
       "version_major": 2,
       "version_minor": 0
      },
      "text/plain": [
       "  0%|          | 0/14 [00:00<?, ?it/s]"
      ]
     },
     "metadata": {},
     "output_type": "display_data"
    },
    {
     "data": {
      "application/vnd.jupyter.widget-view+json": {
       "model_id": "5dc87dff109b40be816940f8f397307c",
       "version_major": 2,
       "version_minor": 0
      },
      "text/plain": [
       "  0%|          | 0/14 [00:00<?, ?it/s]"
      ]
     },
     "metadata": {},
     "output_type": "display_data"
    },
    {
     "name": "stdout",
     "output_type": "stream",
     "text": [
      "Filtering away by face and skeletal length\n",
      "\n",
      "Number of segments: 2\n",
      "\n"
     ]
    },
    {
     "data": {
      "application/vnd.jupyter.widget-view+json": {
       "model_id": "2d5c1208df1d4b47ab3ccff10e4b3781",
       "version_major": 2,
       "version_minor": 0
      },
      "text/plain": [
       "  0%|          | 0/2 [00:00<?, ?it/s]"
      ]
     },
     "metadata": {},
     "output_type": "display_data"
    },
    {
     "data": {
      "application/vnd.jupyter.widget-view+json": {
       "model_id": "3390d499fdf549baa708e5fa86315d02",
       "version_major": 2,
       "version_minor": 0
      },
      "text/plain": [
       "  0%|          | 0/2 [00:00<?, ?it/s]"
      ]
     },
     "metadata": {},
     "output_type": "display_data"
    },
    {
     "name": "stdout",
     "output_type": "stream",
     "text": [
      "Filtering away by face and skeletal length\n",
      "\n",
      "Number of segments: 106\n",
      "\n"
     ]
    },
    {
     "data": {
      "application/vnd.jupyter.widget-view+json": {
       "model_id": "fb6b214c85d84715aa69db17cdcbf306",
       "version_major": 2,
       "version_minor": 0
      },
      "text/plain": [
       "  0%|          | 0/106 [00:00<?, ?it/s]"
      ]
     },
     "metadata": {},
     "output_type": "display_data"
    },
    {
     "data": {
      "application/vnd.jupyter.widget-view+json": {
       "model_id": "4402c7af511c4a75a5d207c81c9341a8",
       "version_major": 2,
       "version_minor": 0
      },
      "text/plain": [
       "  0%|          | 0/106 [00:00<?, ?it/s]"
      ]
     },
     "metadata": {},
     "output_type": "display_data"
    },
    {
     "name": "stdout",
     "output_type": "stream",
     "text": [
      "Filtering away by face and skeletal length\n",
      "\n",
      "Number of segments: 54\n",
      "\n"
     ]
    },
    {
     "data": {
      "application/vnd.jupyter.widget-view+json": {
       "model_id": "a8b7cae1ad464e7cb8c71426c08a54b1",
       "version_major": 2,
       "version_minor": 0
      },
      "text/plain": [
       "  0%|          | 0/54 [00:00<?, ?it/s]"
      ]
     },
     "metadata": {},
     "output_type": "display_data"
    },
    {
     "data": {
      "application/vnd.jupyter.widget-view+json": {
       "model_id": "0555b973c34a4616a2edf35c4bb920df",
       "version_major": 2,
       "version_minor": 0
      },
      "text/plain": [
       "  0%|          | 0/54 [00:00<?, ?it/s]"
      ]
     },
     "metadata": {},
     "output_type": "display_data"
    },
    {
     "name": "stdout",
     "output_type": "stream",
     "text": [
      "Filtering away by face and skeletal length\n",
      "\n",
      "Number of segments: 30\n",
      "\n"
     ]
    },
    {
     "data": {
      "application/vnd.jupyter.widget-view+json": {
       "model_id": "8fe278f0b7444e4984daf89c8a4e109d",
       "version_major": 2,
       "version_minor": 0
      },
      "text/plain": [
       "  0%|          | 0/30 [00:00<?, ?it/s]"
      ]
     },
     "metadata": {},
     "output_type": "display_data"
    },
    {
     "data": {
      "application/vnd.jupyter.widget-view+json": {
       "model_id": "3a3724fb419e4fdf80c14bb1ee110124",
       "version_major": 2,
       "version_minor": 0
      },
      "text/plain": [
       "  0%|          | 0/30 [00:00<?, ?it/s]"
      ]
     },
     "metadata": {},
     "output_type": "display_data"
    },
    {
     "name": "stdout",
     "output_type": "stream",
     "text": [
      "Filtering away by face and skeletal length\n",
      "\n",
      "Number of segments: 9\n",
      "\n"
     ]
    },
    {
     "data": {
      "application/vnd.jupyter.widget-view+json": {
       "model_id": "0688a9be42ae487d8c63af9ae793e1d0",
       "version_major": 2,
       "version_minor": 0
      },
      "text/plain": [
       "  0%|          | 0/9 [00:00<?, ?it/s]"
      ]
     },
     "metadata": {},
     "output_type": "display_data"
    },
    {
     "data": {
      "application/vnd.jupyter.widget-view+json": {
       "model_id": "b6b1f4faa36c4e309130864d51afe934",
       "version_major": 2,
       "version_minor": 0
      },
      "text/plain": [
       "  0%|          | 0/9 [00:00<?, ?it/s]"
      ]
     },
     "metadata": {},
     "output_type": "display_data"
    },
    {
     "name": "stdout",
     "output_type": "stream",
     "text": [
      "Filtering away by face and skeletal length\n",
      "\n",
      "Number of segments: 4\n",
      "\n"
     ]
    },
    {
     "data": {
      "application/vnd.jupyter.widget-view+json": {
       "model_id": "1a90e6a52b784b208aa8922bb420d41c",
       "version_major": 2,
       "version_minor": 0
      },
      "text/plain": [
       "  0%|          | 0/4 [00:00<?, ?it/s]"
      ]
     },
     "metadata": {},
     "output_type": "display_data"
    },
    {
     "data": {
      "application/vnd.jupyter.widget-view+json": {
       "model_id": "f4b44de297b54a1fba4b1bc0b75f1fb9",
       "version_major": 2,
       "version_minor": 0
      },
      "text/plain": [
       "  0%|          | 0/4 [00:00<?, ?it/s]"
      ]
     },
     "metadata": {},
     "output_type": "display_data"
    },
    {
     "name": "stdout",
     "output_type": "stream",
     "text": [
      "Filtering away by face and skeletal length\n",
      "\n",
      "Number of segments: 3\n",
      "\n"
     ]
    },
    {
     "data": {
      "application/vnd.jupyter.widget-view+json": {
       "model_id": "e000bb24eea24b71b68ac95699d51746",
       "version_major": 2,
       "version_minor": 0
      },
      "text/plain": [
       "  0%|          | 0/3 [00:00<?, ?it/s]"
      ]
     },
     "metadata": {},
     "output_type": "display_data"
    },
    {
     "data": {
      "application/vnd.jupyter.widget-view+json": {
       "model_id": "375ca3c08ce3450f90b8a4b3ba893f18",
       "version_major": 2,
       "version_minor": 0
      },
      "text/plain": [
       "  0%|          | 0/3 [00:00<?, ?it/s]"
      ]
     },
     "metadata": {},
     "output_type": "display_data"
    },
    {
     "name": "stdout",
     "output_type": "stream",
     "text": [
      "Filtering away by face and skeletal length\n",
      "\n",
      "Number of segments: 6\n",
      "\n"
     ]
    },
    {
     "data": {
      "application/vnd.jupyter.widget-view+json": {
       "model_id": "b12bbb4e25da4124aa0181a6b30ee063",
       "version_major": 2,
       "version_minor": 0
      },
      "text/plain": [
       "  0%|          | 0/6 [00:00<?, ?it/s]"
      ]
     },
     "metadata": {},
     "output_type": "display_data"
    },
    {
     "data": {
      "application/vnd.jupyter.widget-view+json": {
       "model_id": "c732a0ef58e84f92a8f5e2b905742089",
       "version_major": 2,
       "version_minor": 0
      },
      "text/plain": [
       "  0%|          | 0/6 [00:00<?, ?it/s]"
      ]
     },
     "metadata": {},
     "output_type": "display_data"
    },
    {
     "name": "stdout",
     "output_type": "stream",
     "text": [
      "Filtering away by face and skeletal length\n",
      "\n",
      "Number of segments: 80\n",
      "\n"
     ]
    },
    {
     "data": {
      "application/vnd.jupyter.widget-view+json": {
       "model_id": "8b76887367f34b5e8080f1d441e0eb34",
       "version_major": 2,
       "version_minor": 0
      },
      "text/plain": [
       "  0%|          | 0/80 [00:00<?, ?it/s]"
      ]
     },
     "metadata": {},
     "output_type": "display_data"
    },
    {
     "data": {
      "application/vnd.jupyter.widget-view+json": {
       "model_id": "35c942a6b0094a7890c4005aeda9e65c",
       "version_major": 2,
       "version_minor": 0
      },
      "text/plain": [
       "  0%|          | 0/80 [00:00<?, ?it/s]"
      ]
     },
     "metadata": {},
     "output_type": "display_data"
    },
    {
     "name": "stdout",
     "output_type": "stream",
     "text": [
      "Filtering away by face and skeletal length\n",
      "\n",
      "Number of segments: 12\n",
      "\n"
     ]
    },
    {
     "data": {
      "application/vnd.jupyter.widget-view+json": {
       "model_id": "8cda33ca0fb34a478d609112844c8653",
       "version_major": 2,
       "version_minor": 0
      },
      "text/plain": [
       "  0%|          | 0/12 [00:00<?, ?it/s]"
      ]
     },
     "metadata": {},
     "output_type": "display_data"
    },
    {
     "data": {
      "application/vnd.jupyter.widget-view+json": {
       "model_id": "7416416524c442b3a79a8a93c6d8fbe0",
       "version_major": 2,
       "version_minor": 0
      },
      "text/plain": [
       "  0%|          | 0/12 [00:00<?, ?it/s]"
      ]
     },
     "metadata": {},
     "output_type": "display_data"
    },
    {
     "name": "stdout",
     "output_type": "stream",
     "text": [
      "Filtering away by face and skeletal length\n",
      "\n",
      "Number of segments: 134\n",
      "\n"
     ]
    },
    {
     "data": {
      "application/vnd.jupyter.widget-view+json": {
       "model_id": "dcdbdfd5132149ef9cc18cee954f61d0",
       "version_major": 2,
       "version_minor": 0
      },
      "text/plain": [
       "  0%|          | 0/134 [00:00<?, ?it/s]"
      ]
     },
     "metadata": {},
     "output_type": "display_data"
    },
    {
     "data": {
      "application/vnd.jupyter.widget-view+json": {
       "model_id": "b22921b325724cb0975568de5823ce16",
       "version_major": 2,
       "version_minor": 0
      },
      "text/plain": [
       "  0%|          | 0/134 [00:00<?, ?it/s]"
      ]
     },
     "metadata": {},
     "output_type": "display_data"
    },
    {
     "name": "stdout",
     "output_type": "stream",
     "text": [
      "Filtering away by face and skeletal length\n",
      "\n",
      "Number of segments: 120\n",
      "\n"
     ]
    },
    {
     "data": {
      "application/vnd.jupyter.widget-view+json": {
       "model_id": "52785eef4bfc4191b6e0db86068ce649",
       "version_major": 2,
       "version_minor": 0
      },
      "text/plain": [
       "  0%|          | 0/120 [00:00<?, ?it/s]"
      ]
     },
     "metadata": {},
     "output_type": "display_data"
    },
    {
     "data": {
      "application/vnd.jupyter.widget-view+json": {
       "model_id": "415557a649fa4a0588e2f729484583e7",
       "version_major": 2,
       "version_minor": 0
      },
      "text/plain": [
       "  0%|          | 0/120 [00:00<?, ?it/s]"
      ]
     },
     "metadata": {},
     "output_type": "display_data"
    },
    {
     "name": "stdout",
     "output_type": "stream",
     "text": [
      "Filtering away by face and skeletal length\n",
      "\n",
      "Number of segments: 13\n",
      "\n"
     ]
    },
    {
     "data": {
      "application/vnd.jupyter.widget-view+json": {
       "model_id": "90b2d70e623f4f33a29a7f0077ec36c8",
       "version_major": 2,
       "version_minor": 0
      },
      "text/plain": [
       "  0%|          | 0/13 [00:00<?, ?it/s]"
      ]
     },
     "metadata": {},
     "output_type": "display_data"
    },
    {
     "data": {
      "application/vnd.jupyter.widget-view+json": {
       "model_id": "243998733408467fbeb4a69034c74886",
       "version_major": 2,
       "version_minor": 0
      },
      "text/plain": [
       "  0%|          | 0/13 [00:00<?, ?it/s]"
      ]
     },
     "metadata": {},
     "output_type": "display_data"
    },
    {
     "name": "stdout",
     "output_type": "stream",
     "text": [
      "Filtering away by face and skeletal length\n",
      "\n",
      "Number of segments: 19\n",
      "\n"
     ]
    },
    {
     "data": {
      "application/vnd.jupyter.widget-view+json": {
       "model_id": "1130ffeec6104959ab2024b1d06d3e8d",
       "version_major": 2,
       "version_minor": 0
      },
      "text/plain": [
       "  0%|          | 0/19 [00:00<?, ?it/s]"
      ]
     },
     "metadata": {},
     "output_type": "display_data"
    },
    {
     "data": {
      "application/vnd.jupyter.widget-view+json": {
       "model_id": "2ad863c4d7e249f6ad5b2089a35de2d5",
       "version_major": 2,
       "version_minor": 0
      },
      "text/plain": [
       "  0%|          | 0/19 [00:00<?, ?it/s]"
      ]
     },
     "metadata": {},
     "output_type": "display_data"
    },
    {
     "name": "stdout",
     "output_type": "stream",
     "text": [
      "Filtering away by face and skeletal length\n",
      "width_name BEFORE processing = no_spine_median_mesh_center\n",
      "After processing\n",
      "width_name = no_spine_median_mesh_center, distance_by_mesh_center= True, no_spines = True, summary_measure= median\n",
      "Working on limb L0 branch 6\n",
      "    No spines and using precomputed width: 604.7316106610253\n",
      "Working on limb L0 branch 3\n",
      "    current_width= 422.01733213972807\n",
      "Working on limb L0 branch 7\n",
      "    No spines and using precomputed width: 345.98403683769595\n",
      "Working on limb L0 branch 0\n",
      "    current_width= 261.67118520971894\n",
      "Working on limb L0 branch 1\n",
      "    current_width= 272.5726579178621\n",
      "Working on limb L0 branch 2\n",
      "    current_width= 289.88795449575736\n",
      "Working on limb L0 branch 4\n",
      "    current_width= 301.21669775687826\n",
      "Working on limb L0 branch 8\n",
      "    No spines and using precomputed width: 306.9702914678095\n",
      "Working on limb L0 branch 5\n",
      "    current_width= 243.4878907921956\n",
      "Working on limb L0 branch 9\n",
      "    current_width= 279.4323342661673\n",
      "Working on limb L1 branch 17\n",
      "    current_width= 186.74385817318597\n",
      "Working on limb L1 branch 15\n",
      "    No spines and using precomputed width: 81.06732888550147\n",
      "Working on limb L1 branch 16\n",
      "    No spines and using precomputed width: 180.79969247866023\n",
      "Working on limb L1 branch 18\n",
      "    No spines and using precomputed width: 83.6230371949197\n",
      "Working on limb L1 branch 4\n",
      "    No spines and using precomputed width: 67.0560163730836\n",
      "Working on limb L1 branch 14\n",
      "    No spines and using precomputed width: 116.89414430163393\n",
      "Working on limb L1 branch 26\n",
      "    No spines and using precomputed width: 166.88235794997527\n",
      "Working on limb L1 branch 19\n",
      "    No spines and using precomputed width: 74.74432487535276\n",
      "Working on limb L1 branch 20\n",
      "    No spines and using precomputed width: 78.90931853911839\n",
      "Working on limb L1 branch 12\n",
      "    No spines and using precomputed width: 104.83868583734564\n",
      "Working on limb L1 branch 13\n",
      "    No spines and using precomputed width: 103.46347406090041\n",
      "Working on limb L1 branch 21\n",
      "    No spines and using precomputed width: 89.35632620500378\n",
      "Working on limb L1 branch 22\n",
      "    No spines and using precomputed width: 85.25609472650788\n",
      "Working on limb L1 branch 9\n",
      "    No spines and using precomputed width: 99.2898761950575\n",
      "Working on limb L1 branch 10\n",
      "    No spines and using precomputed width: 156.9409743368786\n",
      "Working on limb L1 branch 11\n",
      "    No spines and using precomputed width: 93.61085880218833\n",
      "Working on limb L1 branch 25\n",
      "    No spines and using precomputed width: 66.4711702516618\n",
      "Working on limb L1 branch 1\n",
      "    No spines and using precomputed width: 111.9796517426644\n",
      "Working on limb L1 branch 3\n",
      "    No spines and using precomputed width: 95.32640663158229\n",
      "Working on limb L1 branch 7\n",
      "    No spines and using precomputed width: 104.01618953371336\n",
      "Working on limb L1 branch 8\n",
      "    No spines and using precomputed width: 131.75016231242103\n",
      "Working on limb L1 branch 5\n",
      "    No spines and using precomputed width: 128.08017573139628\n",
      "Working on limb L1 branch 6\n",
      "    No spines and using precomputed width: 108.30020672887802\n",
      "Working on limb L1 branch 0\n",
      "    No spines and using precomputed width: 97.68811695225403\n",
      "Working on limb L1 branch 2\n",
      "    No spines and using precomputed width: 125.70160186748858\n",
      "Working on limb L1 branch 23\n",
      "    No spines and using precomputed width: 87.93425564048837\n",
      "Working on limb L1 branch 24\n",
      "    No spines and using precomputed width: 82.4982383186942\n",
      "Working on limb L4 branch 2\n",
      "    No spines and using precomputed width: 977.8765814780055\n",
      "Working on limb L4 branch 0\n",
      "    current_width= 428.80087524239707\n",
      "Working on limb L4 branch 3\n",
      "    No spines and using precomputed width: 638.4480594901748\n",
      "Working on limb L4 branch 1\n",
      "    No spines and using precomputed width: 290.00520019207204\n",
      "Working on limb L4 branch 4\n",
      "    No spines and using precomputed width: 511.66566902799815\n",
      "Working on limb L4 branch 5\n",
      "    current_width= 263.7694515097279\n",
      "Working on limb L4 branch 6\n",
      "    current_width= 463.59355203126574\n",
      "Working on limb L5 branch 0\n",
      "    current_width= 329.6255313497485\n",
      "Working on limb L6 branch 0\n",
      "    current_width= 272.5035345034447\n",
      "Working on limb L2 branch 0\n",
      "    No spines and using precomputed width: 382.70589055617387\n",
      "Working on limb L2 branch 1\n",
      "    current_width= 278.83203413758696\n",
      "Working on limb L2 branch 2\n",
      "    current_width= 302.0993217440153\n",
      "Working on limb L3 branch 1\n",
      "    No spines and using precomputed width: 341.6228226856097\n",
      "Working on limb L3 branch 0\n",
      "    No spines and using precomputed width: 116.47084303995783\n",
      "Working on limb L3 branch 2\n",
      "    current_width= 331.9521063406744\n",
      "Working on limb L3 branch 3\n",
      "    No spines and using precomputed width: 69.00572062527482\n",
      "Working on limb L3 branch 4\n",
      "    current_width= 260.5391768200335\n",
      "Working on limb L7 branch 2\n",
      "    No spines and using precomputed width: 469.0114678997627\n",
      "Working on limb L7 branch 0\n",
      "    No spines and using precomputed width: 815.3465933528809\n",
      "Working on limb L7 branch 1\n",
      "    No spines and using precomputed width: 990.8753491996667\n",
      "Total time for neuron instance creation = 266.28080105781555\n"
     ]
    },
    {
     "data": {
      "text/plain": [
       "<neurd.neuron.Neuron at 0x7f352c2555e0>"
      ]
     },
     "execution_count": 23,
     "metadata": {},
     "output_type": "execute_result"
    }
   ],
   "source": [
    "from neurd import neuron\n",
    "\n",
    "neuron_obj = neuron.Neuron(\n",
    "    mesh = mesh,\n",
    "    segment_id = segment_id, # don't need this explicitely if segment_id is already in products\n",
    "    pipeline_products = products,\n",
    "    suppress_preprocessing_print=False,\n",
    "    suppress_output=False,\n",
    ")\n",
    "\n",
    "neuron_obj"
   ]
  },
  {
   "cell_type": "code",
   "execution_count": null,
   "id": "5467bcfe",
   "metadata": {},
   "outputs": [],
   "source": [
    "nviz.visualize_neuron(\n",
    "    neuron_obj,\n",
    "    limb_branch_dict=\"all\"\n",
    ")"
   ]
  },
  {
   "cell_type": "code",
   "execution_count": null,
   "id": "13c541fc",
   "metadata": {},
   "outputs": [],
   "source": [
    "nviz.visualize_neuron_limbs(neuron_obj)"
   ]
  },
  {
   "cell_type": "code",
   "execution_count": null,
   "id": "35add97f",
   "metadata": {},
   "outputs": [],
   "source": [
    "nviz.visualize_neuron_specific_limb(neuron_obj,\"L2\")"
   ]
  },
  {
   "cell_type": "code",
   "execution_count": null,
   "id": "38e766a1",
   "metadata": {},
   "outputs": [],
   "source": [
    "ipvu.plot_objects(neuron_obj[2][0].mesh)"
   ]
  },
  {
   "cell_type": "markdown",
   "id": "0d43b744",
   "metadata": {},
   "source": [
    "# Calculate statistics"
   ]
  },
  {
   "cell_type": "code",
   "execution_count": 24,
   "id": "cac08fd6",
   "metadata": {},
   "outputs": [],
   "source": [
    "_ = neuron_obj.calculate_decomposition_products(\n",
    "    store_in_obj = True,\n",
    ")"
   ]
  },
  {
   "cell_type": "code",
   "execution_count": 25,
   "id": "fa148fc5",
   "metadata": {
    "scrolled": true
   },
   "outputs": [
    {
     "name": "stdout",
     "output_type": "stream",
     "text": [
      "{\n",
      "  'decimation':\n",
      "  {\n",
      "    'decimation_parameters':\n",
      "    {\n",
      "      'decimation_ratio':0.25,\n",
      "    },\n",
      "    'segment_id':864691135510518224,\n",
      "  },\n",
      "  'soma_identification':\n",
      "  {\n",
      "    'glia_meshes':[],\n",
      "    'nuclei_meshes':[<trimesh.Trimesh(vertices.shape=(6494, 3), faces.shape=(15575, 3))>, <trimesh.Trimesh(vertices.shape=(3256, 3), faces.shape=(5810, 3))>, <trimesh.Trimesh(vertices.shape=(2064, 3), faces.shape=(4789, 3))>, <trimesh.Trimesh(vertices.shape=(2022, 3), faces.shape=(4628, 3))>, <trimesh.Trimesh(vertices.shape=(1922, 3), faces.shape=(4396, 3))>, <trimesh.Trimesh(vertices.shape=(1089, 3), faces.shape=(2556, 3))>, <trimesh.Trimesh(vertices.shape=(864, 3), faces.shape=(1989, 3))>, <trimesh.Trimesh(vertices.shape=(723, 3), faces.shape=(1611, 3))>, <trimesh.Trimesh(vertices.shape=(693, 3), faces.shape=(1561, 3))>, <trimesh.Trimesh(vertices.shape=(612, 3), faces.shape=(1378, 3))>, <trimesh.Trimesh(vertices.shape=(456, 3), faces.shape=(742, 3))>, <trimesh.Trimesh(vertices.shape=(344, 3), faces.shape=(727, 3))>, <trimesh.Trimesh(vertices.shape=(363, 3), faces.shape=(876, 3))>, <trimesh.Trimesh(vertices.shape=(301, 3), faces.shape=(613, 3))>, <trimesh.Trimesh(vertices.shape=(253, 3), faces.shape=(632, 3))>, <trimesh.Trimesh(vertices.shape=(199, 3), faces.shape=(446, 3))>, <trimesh.Trimesh(vertices.shape=(176, 3), faces.shape=(418, 3))>, <trimesh.Trimesh(vertices.shape=(145, 3), faces.shape=(317, 3))>],\n",
      "    'soma_extraction_parameters':\n",
      "    {\n",
      "    },\n",
      "    'soma_meshes':[<trimesh.Trimesh(vertices.shape=(11386, 3), faces.shape=(22560, 3))>, <trimesh.Trimesh(vertices.shape=(5708, 3), faces.shape=(10517, 3))>],\n",
      "    'soma_run_time':80.59977841377258,\n",
      "    'soma_sdfs':array([0.769893 , 0.3351845]),\n",
      "  },\n",
      "  'decomposition':\n",
      "  {\n",
      "    'bbox_volume':1.982945365676812,\n",
      "    'bbox_x_max':1564397.9821680577,\n",
      "    'bbox_x_max_soma_relative':75517.22158488538,\n",
      "    'bbox_x_min':1430458.6668303611,\n",
      "    'bbox_x_min_soma_relative':-58422.0937528112,\n",
      "    'bbox_y_max':659939.5309021459,\n",
      "    'bbox_y_max_soma_relative':70639.43716421863,\n",
      "    'bbox_y_min':502584.2072704911,\n",
      "    'bbox_y_min_soma_relative':-86715.88646743615,\n",
      "    'bbox_z_max':1114260.0,\n",
      "    'bbox_z_max_soma_relative':13607.686544879572,\n",
      "    'bbox_z_min':1020174.8170965186,\n",
      "    'bbox_z_min_soma_relative':-80477.49635860184,\n",
      "    'branch_length_mean':29.199234124365066,\n",
      "    'branch_length_median':16.73564751819507,\n",
      "    'centroid_volume':440.7405976697012,\n",
      "    'centroid_x':372220,\n",
      "    'centroid_x_nm':1488880.7605831723,\n",
      "    'centroid_y':147325,\n",
      "    'centroid_y_nm':589300.0937379273,\n",
      "    'centroid_z':27516,\n",
      "    'centroid_z_nm':1100652.3134551204,\n",
      "    'max_limb_n_branches':27,\n",
      "    'max_limb_skeletal_length':604558.5039643556,\n",
      "    'max_soma_area':341.07163148783616,\n",
      "    'median_branch_length':14983.573,\n",
      "    'n_branches':57,\n",
      "    'n_error_limbs':1,\n",
      "    'n_faces':323535,\n",
      "    'n_limbs':8,\n",
      "    'n_long_branches':3,\n",
      "    'n_medium_branches':40,\n",
      "    'n_multi_soma_touching_limbs':1,\n",
      "    'n_not_processed_soma_containing_meshes':0,\n",
      "    'n_same_soma_multi_touching_limbs':0,\n",
      "    'n_short_branches':12,\n",
      "    'n_somas':2,\n",
      "    'n_spine_eligible_branches':35,\n",
      "    'n_spines':403,\n",
      "    'n_vertices':154713,\n",
      "    'skeletal_length':1543858.6036036531,\n",
      "    'skeletal_length_eligible':1030387.526,\n",
      "    'skeleton':array([[[1469972.26898917,  644331.51215205, 1105781.49225862],\n",
      "        [1469922.99793769,  644306.57306289, 1105698.12317519]],\n",
      "\n",
      "       [[1469922.99793769,  644306.57306289, 1105698.12317519],\n",
      "        [1469873.03503235,  644278.96793629, 1105616.01554459]],\n",
      "\n",
      "       [[1469873.03503235,  644278.96793629, 1105616.01554459],\n",
      "        [1469822.34841942,  644249.02047451, 1105535.18233182]],\n",
      "\n",
      "       ...,\n",
      "\n",
      "       [[1472182.71408549,  577993.08644009, 1112354.27575333],\n",
      "        [1475123.88888889,  571587.50555556, 1113243.55555556]],\n",
      "\n",
      "       [[1472182.71408549,  577993.08644009, 1112354.27575333],\n",
      "        [1475040.        ,  582938.        , 1113450.        ]],\n",
      "\n",
      "       [[1472182.71408549,  577993.08644009, 1112354.27575333],\n",
      "        [1468163.64444444,  578622.88333333, 1112816.05555556]]]),\n",
      "    'spine_density':0.0002610342676844389,\n",
      "    'spine_density_eligible':0.00039111498327669,\n",
      "    'spine_volume_density':23690.861375955126,\n",
      "    'spine_volume_density_eligible':35496.68376133836,\n",
      "    'spine_volume_median':63548246.88334147,\n",
      "    'spine_volume_per_branch_eligible':1045009718.9157087,\n",
      "    'spines_per_branch':7.0701754385964914,\n",
      "    'spines_per_branch_eligible':11.514,\n",
      "    'total_spine_volume':36575340162.049805,\n",
      "    'width_90_perc':486.073,\n",
      "    'width_median':186.744,\n",
      "    'width_no_spine_90_perc':486.073,\n",
      "    'width_no_spine_median':186.744,\n",
      "  },\n",
      "}\n",
      "\n"
     ]
    }
   ],
   "source": [
    "print(neuron_obj.pipeline_products)"
   ]
  },
  {
   "cell_type": "markdown",
   "id": "d090f774",
   "metadata": {},
   "source": [
    "# Saving off neuron"
   ]
  },
  {
   "cell_type": "code",
   "execution_count": 26,
   "id": "9486c4e6",
   "metadata": {
    "scrolled": true
   },
   "outputs": [
    {
     "name": "stdout",
     "output_type": "stream",
     "text": [
      "Total time for soma meshes compression = 0.17325329780578613\n",
      "Total time for insignificant_limbs,inside_pieces,non_soma_touching_meshes,not_processed_soma_containing_meshes compression = 0.32379913330078125\n",
      "Total time for limb_meshes compression = 0.5666310787200928\n",
      "    Starting Limb Correspondence Compression\n"
     ]
    },
    {
     "data": {
      "application/vnd.jupyter.widget-view+json": {
       "model_id": "0e137262b17c44de890a8fbb81ac047f",
       "version_major": 2,
       "version_minor": 0
      },
      "text/plain": [
       "  0%|          | 0/10 [00:00<?, ?it/s]"
      ]
     },
     "metadata": {},
     "output_type": "display_data"
    },
    {
     "data": {
      "application/vnd.jupyter.widget-view+json": {
       "model_id": "479d164074774c7dad349d8685de5aad",
       "version_major": 2,
       "version_minor": 0
      },
      "text/plain": [
       "  0%|          | 0/27 [00:00<?, ?it/s]"
      ]
     },
     "metadata": {},
     "output_type": "display_data"
    },
    {
     "data": {
      "application/vnd.jupyter.widget-view+json": {
       "model_id": "852a02d5eb0c44b4bf39c75d0ee6020b",
       "version_major": 2,
       "version_minor": 0
      },
      "text/plain": [
       "  0%|          | 0/3 [00:00<?, ?it/s]"
      ]
     },
     "metadata": {},
     "output_type": "display_data"
    },
    {
     "data": {
      "application/vnd.jupyter.widget-view+json": {
       "model_id": "03fdad31975a4477ba7a04153f227363",
       "version_major": 2,
       "version_minor": 0
      },
      "text/plain": [
       "  0%|          | 0/5 [00:00<?, ?it/s]"
      ]
     },
     "metadata": {},
     "output_type": "display_data"
    },
    {
     "data": {
      "application/vnd.jupyter.widget-view+json": {
       "model_id": "f5378679146c47bab9c848f1761d7942",
       "version_major": 2,
       "version_minor": 0
      },
      "text/plain": [
       "  0%|          | 0/7 [00:00<?, ?it/s]"
      ]
     },
     "metadata": {},
     "output_type": "display_data"
    },
    {
     "data": {
      "application/vnd.jupyter.widget-view+json": {
       "model_id": "791a384c73764644855293e9b1305ac5",
       "version_major": 2,
       "version_minor": 0
      },
      "text/plain": [
       "  0%|          | 0/1 [00:00<?, ?it/s]"
      ]
     },
     "metadata": {},
     "output_type": "display_data"
    },
    {
     "data": {
      "application/vnd.jupyter.widget-view+json": {
       "model_id": "e93497ec6686483aa1ca487df53e0210",
       "version_major": 2,
       "version_minor": 0
      },
      "text/plain": [
       "  0%|          | 0/1 [00:00<?, ?it/s]"
      ]
     },
     "metadata": {},
     "output_type": "display_data"
    },
    {
     "data": {
      "application/vnd.jupyter.widget-view+json": {
       "model_id": "818d6112b6a8456ca72756b975ef3436",
       "version_major": 2,
       "version_minor": 0
      },
      "text/plain": [
       "  0%|          | 0/3 [00:00<?, ?it/s]"
      ]
     },
     "metadata": {},
     "output_type": "display_data"
    },
    {
     "name": "stdout",
     "output_type": "stream",
     "text": [
      "Total time for new_limb_correspondence compression = 3.793098211288452\n",
      "Cleared mesh: <trimesh.Trimesh(vertices.shape=(6494, 3), faces.shape=(15575, 3))>:139864068125984\n",
      "Cleared mesh: <trimesh.Trimesh(vertices.shape=(3256, 3), faces.shape=(5810, 3))>:139864068149360\n",
      "Cleared mesh: <trimesh.Trimesh(vertices.shape=(2064, 3), faces.shape=(4789, 3))>:139864068152192\n",
      "Cleared mesh: <trimesh.Trimesh(vertices.shape=(2022, 3), faces.shape=(4628, 3))>:139864067962576\n",
      "Cleared mesh: <trimesh.Trimesh(vertices.shape=(1922, 3), faces.shape=(4396, 3))>:139864068151856\n",
      "Cleared mesh: <trimesh.Trimesh(vertices.shape=(1089, 3), faces.shape=(2556, 3))>:139864068127328\n",
      "Cleared mesh: <trimesh.Trimesh(vertices.shape=(864, 3), faces.shape=(1989, 3))>:139863558710368\n",
      "Cleared mesh: <trimesh.Trimesh(vertices.shape=(723, 3), faces.shape=(1611, 3))>:139863558684976\n",
      "Cleared mesh: <trimesh.Trimesh(vertices.shape=(693, 3), faces.shape=(1561, 3))>:139864067961808\n",
      "Cleared mesh: <trimesh.Trimesh(vertices.shape=(612, 3), faces.shape=(1378, 3))>:139864068179712\n",
      "Cleared mesh: <trimesh.Trimesh(vertices.shape=(456, 3), faces.shape=(742, 3))>:139864068072016\n",
      "Cleared mesh: <trimesh.Trimesh(vertices.shape=(344, 3), faces.shape=(727, 3))>:139864068074848\n",
      "Cleared mesh: <trimesh.Trimesh(vertices.shape=(363, 3), faces.shape=(876, 3))>:139866389031376\n",
      "Cleared mesh: <trimesh.Trimesh(vertices.shape=(301, 3), faces.shape=(613, 3))>:139866389021984\n",
      "Cleared mesh: <trimesh.Trimesh(vertices.shape=(253, 3), faces.shape=(632, 3))>:139866391539824\n",
      "Cleared mesh: <trimesh.Trimesh(vertices.shape=(199, 3), faces.shape=(446, 3))>:139866391542656\n",
      "Cleared mesh: <trimesh.Trimesh(vertices.shape=(176, 3), faces.shape=(418, 3))>:139866391566032\n",
      "Cleared mesh: <trimesh.Trimesh(vertices.shape=(145, 3), faces.shape=(317, 3))>:139866143554384\n",
      "Cleared mesh: <trimesh.Trimesh(vertices.shape=(11386, 3), faces.shape=(22560, 3))>:139866348080384\n",
      "Cleared mesh: <trimesh.Trimesh(vertices.shape=(5708, 3), faces.shape=(10517, 3))>:139866347469120\n",
      "Total time for compression = 11.468844652175903\n",
      "\n",
      "\n",
      "---Finished outputing neuron at location: /neurd_packages/NEURD/Applications/Tutorials/Auto_Proof_Pipeline/Double_Soma/864691135510518224---\n",
      "saved neuron filepath = 864691135510518224\n"
     ]
    },
    {
     "data": {
      "text/plain": [
       "'864691135510518224.pbz2'"
      ]
     },
     "execution_count": 26,
     "metadata": {},
     "output_type": "execute_result"
    }
   ],
   "source": [
    "vdi.save_neuron_obj(\n",
    "    neuron_obj,\n",
    "    verbose = True\n",
    ")"
   ]
  },
  {
   "cell_type": "code",
   "execution_count": 29,
   "id": "e4d52d82",
   "metadata": {},
   "outputs": [
    {
     "name": "stdout",
     "output_type": "stream",
     "text": [
      "\n",
      " Working on visualization type: mesh\n",
      "\n",
      " Working on visualization type: skeleton\n"
     ]
    },
    {
     "data": {
      "application/vnd.jupyter.widget-view+json": {
       "model_id": "432b601f792746098ecd5c35b49ec8c6",
       "version_major": 2,
       "version_minor": 0
      },
      "text/plain": [
       "Container(figure=Figure(box_center=[0.5, 0.5, 0.5], box_size=[1.0, 1.0, 1.0], camera=PerspectiveCamera(fov=45.…"
      ]
     },
     "metadata": {},
     "output_type": "display_data"
    }
   ],
   "source": [
    "nviz.visualize_neuron(neuron_obj,limb_branch_dict=\"all\")"
   ]
  },
  {
   "cell_type": "code",
   "execution_count": 30,
   "id": "9c601d38",
   "metadata": {},
   "outputs": [
    {
     "data": {
      "application/vnd.jupyter.widget-view+json": {
       "model_id": "8deceab3dd254f2d8639718960b10510",
       "version_major": 2,
       "version_minor": 0
      },
      "text/plain": [
       "Container(figure=Figure(box_center=[0.5, 0.5, 0.5], box_size=[1.0, 1.0, 1.0], camera=PerspectiveCamera(fov=45.…"
      ]
     },
     "metadata": {},
     "output_type": "display_data"
    }
   ],
   "source": [
    "ipvu.plot_objects(neuron_obj.mesh)"
   ]
  },
  {
   "cell_type": "markdown",
   "id": "aa2fc99c",
   "metadata": {},
   "source": [
    "# Reloading the Neuron"
   ]
  },
  {
   "cell_type": "code",
   "execution_count": null,
   "id": "e6ce238a",
   "metadata": {},
   "outputs": [],
   "source": [
    "neuron_obj = vdi.load_neuron_obj(\n",
    "    segment_id = segment_id,\n",
    "    #mesh_decimated = mesh_decimated\n",
    ")"
   ]
  },
  {
   "cell_type": "code",
   "execution_count": null,
   "id": "84734850",
   "metadata": {},
   "outputs": [],
   "source": [
    "print(neuron_obj.pipeline_products)"
   ]
  },
  {
   "cell_type": "markdown",
   "id": "06b5f069",
   "metadata": {},
   "source": [
    "# Step 4A: Multi Soma Split Suggestions"
   ]
  },
  {
   "cell_type": "code",
   "execution_count": null,
   "id": "0729b033",
   "metadata": {},
   "outputs": [],
   "source": [
    "from neurd import neuron_visualizations as nviz\n",
    "nviz.plot_soma_limb_concept_network(\n",
    "    neuron_obj\n",
    ")"
   ]
  },
  {
   "cell_type": "code",
   "execution_count": null,
   "id": "3ea8a7ec",
   "metadata": {},
   "outputs": [],
   "source": [
    "multi_soma_split_parameters = dict()"
   ]
  },
  {
   "cell_type": "code",
   "execution_count": null,
   "id": "6b654969",
   "metadata": {},
   "outputs": [],
   "source": [
    "_ = neuron_obj.calculate_multi_soma_split_suggestions(\n",
    "    plot = True,\n",
    "    store_in_obj = True,\n",
    "    **multi_soma_split_parameters\n",
    ")\n"
   ]
  },
  {
   "cell_type": "code",
   "execution_count": null,
   "id": "95f8984f",
   "metadata": {},
   "outputs": [],
   "source": [
    "neuron_obj.pipeline_products.multi_soma_split_suggestions.multi_soma_split_parameters = multi_soma_split_parameters"
   ]
  },
  {
   "cell_type": "markdown",
   "id": "2206b4cc",
   "metadata": {},
   "source": [
    "# Step 4B: Multi Soma Split Execution"
   ]
  },
  {
   "cell_type": "code",
   "execution_count": null,
   "id": "cc8bc52a",
   "metadata": {},
   "outputs": [],
   "source": [
    "neuron_list = neuron_obj.multi_soma_split_execution(\n",
    "    verbose = False,\n",
    ")"
   ]
  },
  {
   "cell_type": "code",
   "execution_count": null,
   "id": "97dd78a8",
   "metadata": {},
   "outputs": [],
   "source": [
    "ipvu.plot_objects(\n",
    "    meshes = [\n",
    "        neuron_list[0].mesh_from_branches,\n",
    "        neuron_list[1].mesh_from_branches,\n",
    "    ],\n",
    "    meshes_colors=[\"red\",\"blue\"]\n",
    ")"
   ]
  },
  {
   "cell_type": "code",
   "execution_count": null,
   "id": "1239884b",
   "metadata": {
    "scrolled": true
   },
   "outputs": [],
   "source": [
    "n1 = neuron_list[0]\n",
    "print(n1.pipeline_products)"
   ]
  },
  {
   "cell_type": "markdown",
   "id": "e4236605-f712-4a52-9188-2a209df84998",
   "metadata": {},
   "source": [
    "# Step 4b: Saving Split Neurons"
   ]
  },
  {
   "cell_type": "code",
   "execution_count": null,
   "id": "fd70d656-ce64-40f9-a221-3579b5029589",
   "metadata": {
    "scrolled": true
   },
   "outputs": [],
   "source": [
    "vdi.save_neuron_obj(\n",
    "    n1,\n",
    "    suffix = \"_split_0\",\n",
    ")"
   ]
  },
  {
   "cell_type": "markdown",
   "id": "96c8d169-d588-4c59-9592-2e73c03de801",
   "metadata": {},
   "source": [
    "# Step 4c: Decompressing Split Neuron"
   ]
  },
  {
   "cell_type": "code",
   "execution_count": null,
   "id": "911e357b-eaea-49dc-809a-f5631a17cb94",
   "metadata": {
    "scrolled": true
   },
   "outputs": [],
   "source": [
    "from neurd import neuron_utils as nru\n",
    "\n",
    "neuron_obj_path = Path(f\"./{segment_id}_split_0.pbz2\")\n",
    "neuron_obj_path.exists()\n",
    "\n",
    "n1 = nru.decompress_neuron(\n",
    "    filepath = neuron_obj_path,\n",
    "    original_mesh = mesh, \n",
    "    suppress_output = False\n",
    ")"
   ]
  },
  {
   "cell_type": "markdown",
   "id": "becb3d35-6ba1-414b-b433-09404a820319",
   "metadata": {},
   "source": [
    "# Step 5: Cell Typing"
   ]
  },
  {
   "cell_type": "code",
   "execution_count": null,
   "id": "57cebda6-377d-4612-b0b1-4600297ab71f",
   "metadata": {},
   "outputs": [],
   "source": [
    "from neurd import neuron_pipeline_utils as npu"
   ]
  },
  {
   "cell_type": "code",
   "execution_count": null,
   "id": "d4fa4a84-820b-4b27-8b46-b4cf475c1312",
   "metadata": {
    "scrolled": true
   },
   "outputs": [],
   "source": [
    "neuron_obj_axon = npu.cell_type_ax_dendr_stage(\n",
    "    n1,\n",
    "    mesh_decimated = mesh_decimated,\n",
    "    plot_axon = False,\n",
    ")"
   ]
  },
  {
   "cell_type": "code",
   "execution_count": null,
   "id": "bb4e50d6-f4ce-4dc4-826e-02a6437bfba8",
   "metadata": {},
   "outputs": [],
   "source": [
    "nviz.plot_axon(\n",
    "    neuron_obj_axon\n",
    ")"
   ]
  },
  {
   "cell_type": "markdown",
   "id": "b0e813e5-61aa-41c9-8454-a3cc22b0d5e4",
   "metadata": {},
   "source": [
    "# Autoproofreading Stage"
   ]
  },
  {
   "cell_type": "code",
   "execution_count": null,
   "id": "165bca73-d559-4d91-93e3-84474d2173b3",
   "metadata": {
    "scrolled": true
   },
   "outputs": [],
   "source": [
    "neuron_obj_proof = npu.auto_proof_stage(\n",
    "    neuron_obj_axon,\n",
    "    mesh_decimated = mesh_decimated,\n",
    "    calculate_after_proof_stats = False,\n",
    ")"
   ]
  },
  {
   "cell_type": "code",
   "execution_count": null,
   "id": "fb3e44e3-9ee4-4e3e-af17-a1d7e21e1651",
   "metadata": {},
   "outputs": [],
   "source": [
    "_ = npu.after_auto_proof_stats(\n",
    "    neuron_obj_proof,\n",
    "    store_in_obj = True,\n",
    ")"
   ]
  },
  {
   "cell_type": "markdown",
   "id": "97023179-7203-4cf8-97a3-31690894f8fa",
   "metadata": {},
   "source": [
    "# Saving off the autoproofread neuron"
   ]
  },
  {
   "cell_type": "code",
   "execution_count": null,
   "id": "ee8ca93d-3e36-402a-a331-f7cfd42fabbf",
   "metadata": {},
   "outputs": [],
   "source": [
    "vdi.save_neuron_obj_auto_proof(\n",
    "    neuron_obj_proof,\n",
    ")"
   ]
  },
  {
   "cell_type": "markdown",
   "id": "d71543ac-d91e-4226-bc00-2d41fa7fb400",
   "metadata": {},
   "source": [
    "# Plotting the final neuron"
   ]
  },
  {
   "cell_type": "code",
   "execution_count": null,
   "id": "a8556c27-6f23-4dac-8458-60cf8c4edb14",
   "metadata": {},
   "outputs": [],
   "source": [
    "from neurd import synapse_utils as syu"
   ]
  },
  {
   "cell_type": "code",
   "execution_count": null,
   "id": "59611df5-515d-40d4-b871-cdb090ed37b6",
   "metadata": {},
   "outputs": [],
   "source": [
    "from datasci_tools import ipyvolume_utils as ipvu\n",
    "ipvu.plot_objects(\n",
    "    neuron_obj_axon.mesh,\n",
    "    meshes = [neuron_obj_proof.mesh],\n",
    "    meshes_colors=\"red\"\n",
    ")"
   ]
  },
  {
   "cell_type": "code",
   "execution_count": null,
   "id": "75964ee2-16ff-42de-88bd-4e94cba2b847",
   "metadata": {},
   "outputs": [],
   "source": [
    "syu.plot_synapses(neuron_obj_proof)"
   ]
  },
  {
   "cell_type": "code",
   "execution_count": null,
   "id": "f9dfc31f-2abe-46f8-af6d-d81352d391ab",
   "metadata": {},
   "outputs": [],
   "source": [
    "syu.plot_synapses_error_from_neuron_obj(neuron_obj_proof)    "
   ]
  },
  {
   "cell_type": "code",
   "execution_count": null,
   "id": "0f2353b9-e8c2-4f64-bb10-51df7146061e",
   "metadata": {},
   "outputs": [],
   "source": [
    "syu.plot_synapses_valid_from_neuron_obj(neuron_obj_proof)  "
   ]
  },
  {
   "cell_type": "code",
   "execution_count": null,
   "id": "b18c19c1-5cbf-4515-b9b9-60941100dad6",
   "metadata": {
    "jupyter": {
     "outputs_hidden": true
    }
   },
   "outputs": [],
   "source": [
    "nviz.plot_compartments(neuron_obj_proof)"
   ]
  }
 ],
 "metadata": {
  "kernelspec": {
   "display_name": "Python 3 (ipykernel)",
   "language": "python",
   "name": "python3"
  },
  "language_info": {
   "codemirror_mode": {
    "name": "ipython",
    "version": 3
   },
   "file_extension": ".py",
   "mimetype": "text/x-python",
   "name": "python",
   "nbconvert_exporter": "python",
   "pygments_lexer": "ipython3",
   "version": "3.8.0"
  }
 },
 "nbformat": 4,
 "nbformat_minor": 5
}
